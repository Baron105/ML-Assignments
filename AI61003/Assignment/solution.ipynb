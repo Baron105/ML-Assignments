{
 "cells": [
  {
   "cell_type": "markdown",
   "metadata": {},
   "source": [
    "# Assignment Solutions"
   ]
  },
  {
   "cell_type": "code",
   "execution_count": 1,
   "metadata": {},
   "outputs": [],
   "source": [
    "# imports\n",
    "from torchvision.datasets import MNIST\n",
    "from sklearn.preprocessing import StandardScaler, MinMaxScaler\n",
    "from sklearn.linear_model import LinearRegression\n",
    "import numpy as np\n",
    "from sklearn.metrics import accuracy_score, confusion_matrix\n",
    "import matplotlib.pyplot as plt\n",
    "import seaborn as sns"
   ]
  },
  {
   "cell_type": "code",
   "execution_count": 2,
   "metadata": {},
   "outputs": [],
   "source": [
    "# Question 1\n",
    "mnist_data_train = MNIST('/', train=True, download=True)\n",
    "mnist_data_test = MNIST('/', train=False, download=True)"
   ]
  },
  {
   "cell_type": "code",
   "execution_count": 20,
   "metadata": {},
   "outputs": [
    {
     "name": "stdout",
     "output_type": "stream",
     "text": [
      "0.36747535219018695\n"
     ]
    }
   ],
   "source": [
    "# Question 3\n",
    "import numpy as np\n",
    "\n",
    "# Step 1: Generate random vectors p and q\n",
    "p = np.random.uniform(-10, 10, 100)\n",
    "q = np.random.uniform(-10, 10, 100)\n",
    "\n",
    "# Step 2: Generate target variable b based on specified conditions\n",
    "b = np.where(p * q > 1, 1, -1)\n",
    "\n",
    "# Step 3: Define basis functions\n",
    "def f0(p, q):\n",
    "    return np.ones_like(p)\n",
    "\n",
    "def f1(p, q):\n",
    "    return p\n",
    "\n",
    "def f2(p, q):\n",
    "    return q\n",
    "\n",
    "def f3(p, q):\n",
    "    return p ** 2\n",
    "\n",
    "def f4(p, q):\n",
    "    return q ** 2\n",
    "\n",
    "def f5(p, q):\n",
    "    return p * q\n",
    "\n",
    "# Step 4: Create the matrix A using the basis functions\n",
    "A = np.column_stack([f0(p, q), f1(p, q), f2(p, q), f3(p, q), f4(p, q), f5(p, q)])\n",
    "\n",
    "# Step 5: Use least squares to find the coefficient vector x\n",
    "x = np.linalg.lstsq(A, b, rcond=None)[0]\n",
    "\n",
    "# Step 6: Compute the predicted values\n",
    "y_pred = np.dot(A, x)\n",
    "# print(y_pred)\n",
    "# print(b)\n",
    "\n",
    "# Step 7: Compute the mean squared error\n",
    "mse = np.mean((b - y_pred) ** 2)\n",
    "print(mse)"
   ]
  },
  {
   "cell_type": "code",
   "execution_count": null,
   "metadata": {},
   "outputs": [],
   "source": []
  }
 ],
 "metadata": {
  "kernelspec": {
   "display_name": "Python 3",
   "language": "python",
   "name": "python3"
  },
  "language_info": {
   "codemirror_mode": {
    "name": "ipython",
    "version": 3
   },
   "file_extension": ".py",
   "mimetype": "text/x-python",
   "name": "python",
   "nbconvert_exporter": "python",
   "pygments_lexer": "ipython3",
   "version": "3.11.3"
  }
 },
 "nbformat": 4,
 "nbformat_minor": 2
}
