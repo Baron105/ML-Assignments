{
 "cells": [
  {
   "cell_type": "markdown",
   "metadata": {},
   "source": [
    "# Assignment Solutions"
   ]
  },
  {
   "cell_type": "code",
   "execution_count": 27,
   "metadata": {},
   "outputs": [],
   "source": [
    "# imports\n",
    "from torchvision.datasets import MNIST\n",
    "from sklearn.preprocessing import StandardScaler, MinMaxScaler\n",
    "from sklearn.linear_model import LinearRegression\n",
    "import numpy as np\n",
    "from sklearn.metrics import accuracy_score, confusion_matrix\n",
    "from sklearn.model_selection import train_test_split\n",
    "import matplotlib.pyplot as plt\n",
    "import seaborn as sns"
   ]
  },
  {
   "cell_type": "code",
   "execution_count": 28,
   "metadata": {},
   "outputs": [],
   "source": [
    "# Use MNIST dataset variable\n",
    "mnist_data_train = MNIST('/', train=True, download=True)\n",
    "mnist_data_test = MNIST('/', train=False, download=True)"
   ]
  },
  {
   "cell_type": "code",
   "execution_count": 29,
   "metadata": {},
   "outputs": [
    {
     "name": "stdout",
     "output_type": "stream",
     "text": [
      "Validation Accuracy: 0.9888547271329746\n",
      "Validation Confusion Matrix:\n",
      "[[1365. 1365.]\n",
      " [1365. 1365.]]\n",
      "Test Accuracy: 0.9875173370319001\n",
      "Test Confusion Matrix:\n",
      "[[1132. 1132.]\n",
      " [1132. 1132.]]\n"
     ]
    }
   ],
   "source": [
    "# Filter samples for classes 1 and 7\n",
    "def filter_dataset(dataset):\n",
    "    indices = (dataset.targets == 1) | (dataset.targets == 7)\n",
    "    images = dataset.data[indices]\n",
    "    labels = dataset.targets[indices]\n",
    "    return images, labels\n",
    "\n",
    "X_train, y_train = filter_dataset(mnist_data_train)\n",
    "X_test, y_test = filter_dataset(mnist_data_test)\n",
    "\n",
    "# Assign labels +1 to class 1 and -1 to class 7\n",
    "y_train = np.where(y_train == 1, 1, -1)\n",
    "y_test = np.where(y_test == 1, 1, -1)\n",
    "\n",
    "# Vectorize the data\n",
    "X_train = X_train.reshape(-1, 28 * 28) / 255.0  # Normalize pixel values to range [0, 1]\n",
    "X_test = X_test.reshape(-1, 28 * 28) / 255.0\n",
    "\n",
    "# Split the data into training and testing sets (80-20 split)\n",
    "X_train, X_val, y_train, y_val = train_test_split(X_train, y_train, test_size=0.2, random_state=42)\n",
    "\n",
    "# Calculate the weight vector using the Moore-Penrose pseudoinverse\n",
    "X_train_with_bias = np.c_[np.ones((X_train.shape[0], 1)), X_train]\n",
    "weights = np.linalg.pinv(X_train_with_bias) @ y_train\n",
    "\n",
    "# Add bias term (a column of 1s) to X_val for the intercept term\n",
    "X_val_with_bias = np.c_[np.ones((X_val.shape[0], 1)), X_val]\n",
    "\n",
    "# Predict on the validation set\n",
    "y_pred = np.sign(X_val_with_bias @ weights)\n",
    "\n",
    "# Calculate accuracy and confusion matrix for the validation set\n",
    "accuracy = np.mean(y_pred == y_val)\n",
    "conf_matrix = np.zeros((2, 2))\n",
    "for i in range(len(y_val)):\n",
    "    conf_matrix[y_val[i] >= 0, y_pred[i] >= 0] += 1\n",
    "\n",
    "print(\"Validation Accuracy:\", accuracy)\n",
    "print(\"Validation Confusion Matrix:\")\n",
    "print(conf_matrix)\n",
    "\n",
    "# Add bias term (a column of 1s) to X_test for the intercept term\n",
    "X_test_with_bias = np.c_[np.ones((X_test.shape[0], 1)), X_test]\n",
    "\n",
    "# Predict on the test set\n",
    "y_pred_test = np.sign(X_test_with_bias @ weights)\n",
    "\n",
    "# Calculate accuracy and confusion matrix for the test set\n",
    "accuracy_test = np.mean(y_pred_test == y_test)\n",
    "conf_matrix_test = np.zeros((2, 2))\n",
    "for i in range(len(y_test)):\n",
    "    conf_matrix_test[y_test[i] >= 0, y_pred_test[i] >= 0] += 1\n",
    "\n",
    "print(\"Test Accuracy:\", accuracy_test)\n",
    "print(\"Test Confusion Matrix:\")\n",
    "print(conf_matrix_test)\n"
   ]
  },
  {
   "cell_type": "code",
   "execution_count": 30,
   "metadata": {},
   "outputs": [
    {
     "name": "stdout",
     "output_type": "stream",
     "text": [
      "0.41047617238671635\n"
     ]
    }
   ],
   "source": [
    "# Question 3\n",
    "import numpy as np\n",
    "\n",
    "# Step 1: Generate random vectors p and q\n",
    "p = np.random.uniform(-10, 10, 100)\n",
    "q = np.random.uniform(-10, 10, 100)\n",
    "\n",
    "# Step 2: Generate target variable b based on specified conditions\n",
    "b = np.where(p * q > 1, 1, -1)\n",
    "\n",
    "# Step 3: Define basis functions\n",
    "def f0(p, q):\n",
    "    return np.ones_like(p)\n",
    "\n",
    "def f1(p, q):\n",
    "    return p\n",
    "\n",
    "def f2(p, q):\n",
    "    return q\n",
    "\n",
    "def f3(p, q):\n",
    "    return p ** 2\n",
    "\n",
    "def f4(p, q):\n",
    "    return q ** 2\n",
    "\n",
    "def f5(p, q):\n",
    "    return p * q\n",
    "\n",
    "# Step 4: Create the matrix A using the basis functions\n",
    "A = np.column_stack([f0(p, q), f1(p, q), f2(p, q), f3(p, q), f4(p, q), f5(p, q)])\n",
    "\n",
    "# Step 5: Use least squares to find the coefficient vector x\n",
    "x = np.linalg.lstsq(A, b, rcond=None)[0]\n",
    "\n",
    "# Step 6: Compute the predicted values\n",
    "y_pred = np.dot(A, x)\n",
    "# print(y_pred)\n",
    "# print(b)\n",
    "\n",
    "# Step 7: Compute the mean squared error\n",
    "mse = np.mean((b - y_pred) ** 2)\n",
    "print(mse)"
   ]
  },
  {
   "cell_type": "code",
   "execution_count": 31,
   "metadata": {},
   "outputs": [
    {
     "name": "stdout",
     "output_type": "stream",
     "text": [
      "f1(x) = 1.00 + -3.00x + 4.00x^2\n",
      "f2(x) = 3.00 + -2.00x + -0.00x^2 + 1.00x^3\n",
      "f3(x) = 1.00 + 24.00x + -35.00x^2\n"
     ]
    }
   ],
   "source": [
    "import numpy as np\n",
    "import pandas as pd\n",
    "\n",
    "# Read data from CSV\n",
    "data = pd.read_csv('ques_9_data.csv')\n",
    "\n",
    "# Convert data to numpy array\n",
    "data = data.values\n",
    "\n",
    "# Divide data into three segments based on the constraints\n",
    "data_seg_1 = data[(data[:, 0] >= 0) & (data[:, 0] <= 1)]\n",
    "data_seg_2 = data[(data[:, 0] > 1) & (data[:, 0] <= 2)]\n",
    "data_seg_3 = data[(data[:, 0] > 2) & (data[:, 0] <= 3)]\n",
    "\n",
    "# Define functions for each segment\n",
    "def polynomial_f1(params, x):\n",
    "    return np.polyval(params, x)\n",
    "\n",
    "def polynomial_f2(params, x):\n",
    "    return np.polyval(params, x)\n",
    "\n",
    "def polynomial_f3(params, x):\n",
    "    return np.polyval(params, x)\n",
    "\n",
    "# Function to calculate residuals for each segment\n",
    "def residuals(params, x, y, polynomial):\n",
    "    return polynomial(params, x) - y\n",
    "\n",
    "# Perform least squares fitting for each segment\n",
    "def least_squares_fit(segment, degree):\n",
    "    x = segment[:, 0]\n",
    "    y = segment[:, 1]\n",
    "    \n",
    "    # Vandermonde matrix\n",
    "    X = np.vander(x, degree + 1)\n",
    "    \n",
    "    # Calculate parameters using the normal equation\n",
    "    params = np.linalg.lstsq(X, y, rcond=None)[0]\n",
    "    # convert params to list\n",
    "    params = params.tolist()\n",
    "    return params\n",
    "\n",
    "# Fit polynomials to the segments\n",
    "params_f1 = least_squares_fit(data_seg_1, 2)  # Degree 2 for segment 1\n",
    "params_f2 = least_squares_fit(data_seg_2, 3)  # Degree 3 for segment 2\n",
    "params_f3 = least_squares_fit(data_seg_3, 2)  # Degree 2 for segment 3\n",
    "\n",
    "# Print the optimized parameters for each segment till 4 decimal places\n",
    "print('f1(x) = {:.2f} + {:.2f}x + {:.2f}x^2'.format(params_f1[0], params_f1[1], params_f1[2]))\n",
    "print('f2(x) = {:.2f} + {:.2f}x + {:.2f}x^2 + {:.2f}x^3'.format(params_f2[0], params_f2[1], params_f2[2], params_f2[3]))\n",
    "print('f3(x) = {:.2f} + {:.2f}x + {:.2f}x^2'.format(params_f3[0], params_f3[1], params_f3[2]))"
   ]
  }
 ],
 "metadata": {
  "kernelspec": {
   "display_name": "Python 3",
   "language": "python",
   "name": "python3"
  },
  "language_info": {
   "codemirror_mode": {
    "name": "ipython",
    "version": 3
   },
   "file_extension": ".py",
   "mimetype": "text/x-python",
   "name": "python",
   "nbconvert_exporter": "python",
   "pygments_lexer": "ipython3",
   "version": "3.11.3"
  }
 },
 "nbformat": 4,
 "nbformat_minor": 2
}
