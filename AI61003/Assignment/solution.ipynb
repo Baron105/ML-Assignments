{
 "cells": [
  {
   "cell_type": "markdown",
   "metadata": {},
   "source": [
    "# Assignment Solutions"
   ]
  },
  {
   "cell_type": "code",
   "execution_count": 1,
   "metadata": {},
   "outputs": [],
   "source": [
    "# imports\n",
    "from torchvision.datasets import MNIST\n",
    "from sklearn.preprocessing import StandardScaler, MinMaxScaler\n",
    "from sklearn.linear_model import LinearRegression\n",
    "import numpy as np\n",
    "from sklearn.metrics import accuracy_score, confusion_matrix\n",
    "import matplotlib.pyplot as plt\n",
    "import seaborn as sns"
   ]
  },
  {
   "cell_type": "code",
   "execution_count": 2,
   "metadata": {},
   "outputs": [],
   "source": [
    "# # Question 1\n",
    "# mnist_data_train = MNIST('/', train=True, download=True)\n",
    "# mnist_data_test = MNIST('/', train=False, download=True)"
   ]
  },
  {
   "cell_type": "code",
   "execution_count": 3,
   "metadata": {},
   "outputs": [
    {
     "name": "stdout",
     "output_type": "stream",
     "text": [
      "0.42694303137288636\n"
     ]
    }
   ],
   "source": [
    "# Question 3\n",
    "import numpy as np\n",
    "\n",
    "# Step 1: Generate random vectors p and q\n",
    "p = np.random.uniform(-10, 10, 100)\n",
    "q = np.random.uniform(-10, 10, 100)\n",
    "\n",
    "# Step 2: Generate target variable b based on specified conditions\n",
    "b = np.where(p * q > 1, 1, -1)\n",
    "\n",
    "# Step 3: Define basis functions\n",
    "def f0(p, q):\n",
    "    return np.ones_like(p)\n",
    "\n",
    "def f1(p, q):\n",
    "    return p\n",
    "\n",
    "def f2(p, q):\n",
    "    return q\n",
    "\n",
    "def f3(p, q):\n",
    "    return p ** 2\n",
    "\n",
    "def f4(p, q):\n",
    "    return q ** 2\n",
    "\n",
    "def f5(p, q):\n",
    "    return p * q\n",
    "\n",
    "# Step 4: Create the matrix A using the basis functions\n",
    "A = np.column_stack([f0(p, q), f1(p, q), f2(p, q), f3(p, q), f4(p, q), f5(p, q)])\n",
    "\n",
    "# Step 5: Use least squares to find the coefficient vector x\n",
    "x = np.linalg.lstsq(A, b, rcond=None)[0]\n",
    "\n",
    "# Step 6: Compute the predicted values\n",
    "y_pred = np.dot(A, x)\n",
    "# print(y_pred)\n",
    "# print(b)\n",
    "\n",
    "# Step 7: Compute the mean squared error\n",
    "mse = np.mean((b - y_pred) ** 2)\n",
    "print(mse)"
   ]
  },
  {
   "cell_type": "code",
   "execution_count": 9,
   "metadata": {},
   "outputs": [
    {
     "name": "stdout",
     "output_type": "stream",
     "text": [
      "f1(x) = 1.0000 + -3.0000x + 4.0000x^2\n",
      "f2(x) = 3.0000 + -2.0000x + -0.0000x^2 + 1.0000x^3\n",
      "f3(x) = 1.0000 + 24.0000x + -35.0000x^2\n"
     ]
    }
   ],
   "source": [
    "import numpy as np\n",
    "import pandas as pd\n",
    "\n",
    "# Read data from CSV\n",
    "data = pd.read_csv('ques_9_data.csv')\n",
    "\n",
    "# Convert data to numpy array\n",
    "data = data.values\n",
    "\n",
    "# Divide data into three segments based on the constraints\n",
    "data_seg_1 = data[(data[:, 0] >= 0) & (data[:, 0] <= 1)]\n",
    "data_seg_2 = data[(data[:, 0] > 1) & (data[:, 0] <= 2)]\n",
    "data_seg_3 = data[(data[:, 0] > 2) & (data[:, 0] <= 3)]\n",
    "\n",
    "# Define functions for each segment\n",
    "def polynomial_f1(params, x):\n",
    "    return np.polyval(params, x)\n",
    "\n",
    "def polynomial_f2(params, x):\n",
    "    return np.polyval(params, x)\n",
    "\n",
    "def polynomial_f3(params, x):\n",
    "    return np.polyval(params, x)\n",
    "\n",
    "# Function to calculate residuals for each segment\n",
    "def residuals(params, x, y, polynomial):\n",
    "    return polynomial(params, x) - y\n",
    "\n",
    "# Perform least squares fitting for each segment\n",
    "def least_squares_fit(segment, degree):\n",
    "    x = segment[:, 0]\n",
    "    y = segment[:, 1]\n",
    "    \n",
    "    # Vandermonde matrix\n",
    "    X = np.vander(x, degree + 1)\n",
    "    \n",
    "    # Calculate parameters using the normal equation\n",
    "    params = np.linalg.lstsq(X, y, rcond=None)[0]\n",
    "    # convert params to list\n",
    "    params = params.tolist()\n",
    "    return params\n",
    "\n",
    "# Fit polynomials to the segments\n",
    "params_f1 = least_squares_fit(data_seg_1, 2)  # Degree 2 for segment 1\n",
    "params_f2 = least_squares_fit(data_seg_2, 3)  # Degree 3 for segment 2\n",
    "params_f3 = least_squares_fit(data_seg_3, 2)  # Degree 2 for segment 3\n",
    "\n",
    "# Print the optimized parameters for each segment till 4 decimal places\n",
    "print('f1(x) = {:.4f} + {:.4f}x + {:.4f}x^2'.format(params_f1[0], params_f1[1], params_f1[2]))\n",
    "print('f2(x) = {:.4f} + {:.4f}x + {:.4f}x^2 + {:.4f}x^3'.format(params_f2[0], params_f2[1], params_f2[2], params_f2[3]))\n",
    "print('f3(x) = {:.4f} + {:.4f}x + {:.4f}x^2'.format(params_f3[0], params_f3[1], params_f3[2]))"
   ]
  }
 ],
 "metadata": {
  "kernelspec": {
   "display_name": "Python 3",
   "language": "python",
   "name": "python3"
  },
  "language_info": {
   "codemirror_mode": {
    "name": "ipython",
    "version": 3
   },
   "file_extension": ".py",
   "mimetype": "text/x-python",
   "name": "python",
   "nbconvert_exporter": "python",
   "pygments_lexer": "ipython3",
   "version": "3.11.3"
  }
 },
 "nbformat": 4,
 "nbformat_minor": 2
}
