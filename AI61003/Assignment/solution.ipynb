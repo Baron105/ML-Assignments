{
 "cells": [
  {
   "cell_type": "markdown",
   "metadata": {},
   "source": [
    "# Assignment Solutions"
   ]
  },
  {
   "cell_type": "code",
   "execution_count": 2,
   "metadata": {},
   "outputs": [],
   "source": [
    "# imports\n",
    "from torchvision.datasets import MNIST\n",
    "from sklearn.preprocessing import StandardScaler, MinMaxScaler\n",
    "from sklearn.linear_model import LinearRegression\n",
    "import numpy as np\n",
    "from sklearn.metrics import accuracy_score, confusion_matrix\n",
    "from sklearn.model_selection import train_test_split\n",
    "import matplotlib.pyplot as plt\n",
    "import seaborn as sns\n",
    "import pandas as pd"
   ]
  },
  {
   "cell_type": "code",
   "execution_count": 3,
   "metadata": {},
   "outputs": [],
   "source": [
    "# Use MNIST dataset variable\n",
    "mnist_data_train = MNIST('/', train=True, download=True)\n",
    "mnist_data_test = MNIST('/', train=False, download=True)"
   ]
  },
  {
   "cell_type": "code",
   "execution_count": 4,
   "metadata": {},
   "outputs": [],
   "source": [
    "import numpy as np\n",
    "\n",
    "def least_squares(A, b):\n",
    "    \"\"\"\n",
    "    Solve the least squares problem Ax = b using the normal equation method.\n",
    "\n",
    "    Parameters:\n",
    "    - A: Coefficient matrix\n",
    "    - b: Target values\n",
    "\n",
    "    Returns:\n",
    "    - x: Coefficient vector\n",
    "    \"\"\"\n",
    "    x = np.linalg.inv(A.T @ A) @ A.T @ b\n",
    "    return x"
   ]
  },
  {
   "cell_type": "code",
   "execution_count": 5,
   "metadata": {},
   "outputs": [
    {
     "name": "stdout",
     "output_type": "stream",
     "text": [
      "Validation Accuracy: 0.9888547271329746\n",
      "Validation Confusion Matrix:\n",
      "[[1365. 1365.]\n",
      " [1365. 1365.]]\n",
      "Test Accuracy: 0.9875173370319001\n",
      "Test Confusion Matrix:\n",
      "[[1132. 1132.]\n",
      " [1132. 1132.]]\n"
     ]
    }
   ],
   "source": [
    "# Filter samples for classes 1 and 7\n",
    "def filter_dataset(dataset):\n",
    "    indices = (dataset.targets == 1) | (dataset.targets == 7)\n",
    "    images = dataset.data[indices]\n",
    "    labels = dataset.targets[indices]\n",
    "    return images, labels\n",
    "\n",
    "X_train, y_train = filter_dataset(mnist_data_train)\n",
    "X_test, y_test = filter_dataset(mnist_data_test)\n",
    "\n",
    "# Assign labels +1 to class 1 and -1 to class 7\n",
    "y_train = np.where(y_train == 1, 1, -1)\n",
    "y_test = np.where(y_test == 1, 1, -1)\n",
    "\n",
    "# Vectorize the data\n",
    "X_train = X_train.reshape(-1, 28 * 28) / 255.0  # Normalize pixel values to range [0, 1]\n",
    "X_test = X_test.reshape(-1, 28 * 28) / 255.0\n",
    "\n",
    "# Split the data into training and testing sets (80-20 split)\n",
    "X_train, X_val, y_train, y_val = train_test_split(X_train, y_train, test_size=0.2, random_state=42)\n",
    "\n",
    "# Calculate the weight vector using the Moore-Penrose pseudoinverse\n",
    "X_train_with_bias = np.c_[np.ones((X_train.shape[0], 1)), X_train]\n",
    "weights = np.linalg.pinv(X_train_with_bias) @ y_train\n",
    "\n",
    "# Add bias term (a column of 1s) to X_val for the intercept term\n",
    "X_val_with_bias = np.c_[np.ones((X_val.shape[0], 1)), X_val]\n",
    "\n",
    "# Predict on the validation set\n",
    "y_pred = np.sign(X_val_with_bias @ weights)\n",
    "\n",
    "# Calculate accuracy and confusion matrix for the validation set\n",
    "accuracy = np.mean(y_pred == y_val)\n",
    "conf_matrix = np.zeros((2, 2))\n",
    "for i in range(len(y_val)):\n",
    "    conf_matrix[y_val[i] >= 0, y_pred[i] >= 0] += 1\n",
    "\n",
    "print(\"Validation Accuracy:\", accuracy)\n",
    "print(\"Validation Confusion Matrix:\")\n",
    "print(conf_matrix)\n",
    "\n",
    "# Add bias term (a column of 1s) to X_test for the intercept term\n",
    "X_test_with_bias = np.c_[np.ones((X_test.shape[0], 1)), X_test]\n",
    "\n",
    "# Predict on the test set\n",
    "y_pred_test = np.sign(X_test_with_bias @ weights)\n",
    "\n",
    "# Calculate accuracy and confusion matrix for the test set\n",
    "accuracy_test = np.mean(y_pred_test == y_test)\n",
    "conf_matrix_test = np.zeros((2, 2))\n",
    "for i in range(len(y_test)):\n",
    "    conf_matrix_test[y_test[i] >= 0, y_pred_test[i] >= 0] += 1\n",
    "\n",
    "print(\"Test Accuracy:\", accuracy_test)\n",
    "print(\"Test Confusion Matrix:\")\n",
    "print(conf_matrix_test)\n"
   ]
  },
  {
   "cell_type": "code",
   "execution_count": 6,
   "metadata": {},
   "outputs": [
    {
     "name": "stdout",
     "output_type": "stream",
     "text": [
      "x: [-0.25000687  0.00392318  0.01306796  0.00126772  0.00237084  0.02306977]\n",
      "Accuracy: 0.89\n"
     ]
    }
   ],
   "source": [
    "# Step 1: Generate vectors p and q\n",
    "# np.random.seed(42)  # for reproducibility\n",
    "p = np.random.uniform(-10, 10, 100)\n",
    "q = np.random.uniform(-10, 10, 100)\n",
    "\n",
    "# Step 2: Generate the target variable b\n",
    "b = np.where(p * q > 1, 1, -1)\n",
    "\n",
    "# Step 3: Define basis functions\n",
    "f0 = np.ones(100)\n",
    "f1 = p\n",
    "f2 = q\n",
    "f3 = p**2\n",
    "f4 = q**2\n",
    "f5 = p * q\n",
    "\n",
    "# Step 4: Create matrix A using the basis functions\n",
    "A = np.column_stack((f0, f1, f2, f3, f4, f5))\n",
    "\n",
    "# Step 5: Use least squares to predict the target variable b\n",
    "x = least_squares(A, b)\n",
    "print(\"x:\", x)\n",
    "\n",
    "# Step 6: Calculate the accuracy of the model\n",
    "b_pred = np.sign(A @ x)\n",
    "accuracy = np.mean(b_pred == b)\n",
    "print(\"Accuracy:\", accuracy)"
   ]
  },
  {
   "cell_type": "code",
   "execution_count": 7,
   "metadata": {},
   "outputs": [
    {
     "name": "stdout",
     "output_type": "stream",
     "text": [
      "Coefficient vector x: [ 5.13478149e-16 -2.91433544e-16  1.31838984e-16  1.00000000e+00\n",
      "  1.00000000e+00  1.00000000e+00]\n",
      "Mean Squared Error (MSE): 1.657395233268247e-31\n"
     ]
    }
   ],
   "source": [
    "# Step 1: Generate vectors p and q\n",
    "# np.random.seed(42)  # for reproducibility\n",
    "p = np.random.uniform(-1, 1, 100)\n",
    "q = np.random.uniform(-1, 1, 100)\n",
    "\n",
    "# Step 2: Generate the target variable b\n",
    "b = p * q + p**2 + q**2\n",
    "\n",
    "# Step 3: Define basis functions\n",
    "f0 = np.ones(100)\n",
    "f1 = p\n",
    "f2 = q\n",
    "f3 = p**2\n",
    "f4 = q**2\n",
    "f5 = p * q\n",
    "\n",
    "# Step 4: Create matrix A using the basis functions\n",
    "A = np.column_stack((f0, f1, f2, f3, f4, f5))\n",
    "\n",
    "# Step 5: Use least squares to predict the target variable b\n",
    "x = least_squares(A, b)\n",
    "\n",
    "# Step 6: Calculate Mean Squared Error (MSE)\n",
    "mse = np.mean((A @ x - b)**2)\n",
    "\n",
    "# Print the results\n",
    "print(\"Coefficient vector x:\", x)\n",
    "print(\"Mean Squared Error (MSE):\", mse)"
   ]
  },
  {
   "cell_type": "code",
   "execution_count": 9,
   "metadata": {},
   "outputs": [
    {
     "name": "stdout",
     "output_type": "stream",
     "text": [
      "f1(x) = 1.00 + -3.00x + 4.00x^2\n",
      "f2(x) = 3.00 + -2.00x + -0.00x^2 + 1.00x^3\n",
      "f3(x) = 1.00 + 24.00x + -35.00x^2\n"
     ]
    },
    {
     "data": {
      "image/png": "[encoded data removed]",
      "text/plain": [
       "<Figure size 640x480 with 1 Axes>"
      ]
     },
     "metadata": {},
     "output_type": "display_data"
    }
   ],
   "source": [
    "# Read data from CSV\n",
    "data = pd.read_csv('ques_9_data.csv')\n",
    "\n",
    "# Convert data to numpy array\n",
    "data = data.values\n",
    "\n",
    "# Divide data into three segments based on the constraints\n",
    "data_seg_1 = data[(data[:, 0] >= 0) & (data[:, 0] <= 1)]\n",
    "data_seg_2 = data[(data[:, 0] > 1) & (data[:, 0] <= 2)]\n",
    "data_seg_3 = data[(data[:, 0] > 2) & (data[:, 0] <= 3)]\n",
    "\n",
    "# Define functions for each segment\n",
    "def polynomial_f1(params, x):\n",
    "    return np.polyval(params, x)\n",
    "\n",
    "def polynomial_f2(params, x):\n",
    "    return np.polyval(params, x)\n",
    "\n",
    "def polynomial_f3(params, x):\n",
    "    return np.polyval(params, x)\n",
    "\n",
    "# Function to calculate residuals for each segment\n",
    "def residuals(params, x, y, polynomial):\n",
    "    return polynomial(params, x) - y\n",
    "\n",
    "# Perform least squares fitting for each segment\n",
    "def least_squares_fit(segment, degree):\n",
    "    x = segment[:, 0]\n",
    "    y = segment[:, 1]\n",
    "    \n",
    "    # Vandermonde matrix\n",
    "    X = np.vander(x, degree + 1)\n",
    "    \n",
    "    # Calculate parameters using the normal equation\n",
    "    params = np.linalg.lstsq(X, y, rcond=None)[0]\n",
    "    # convert params to list\n",
    "    params = params.tolist()\n",
    "    return params\n",
    "\n",
    "# Fit polynomials to the segments\n",
    "params_f1 = least_squares_fit(data_seg_1, 2)  # Degree 2 for segment 1\n",
    "params_f2 = least_squares_fit(data_seg_2, 3)  # Degree 3 for segment 2\n",
    "params_f3 = least_squares_fit(data_seg_3, 2)  # Degree 2 for segment 3\n",
    "\n",
    "# Print the optimized parameters for each segment till 4 decimal places\n",
    "print('f1(x) = {:.2f} + {:.2f}x + {:.2f}x^2'.format(params_f1[0], params_f1[1], params_f1[2]))\n",
    "print('f2(x) = {:.2f} + {:.2f}x + {:.2f}x^2 + {:.2f}x^3'.format(params_f2[0], params_f2[1], params_f2[2], params_f2[3]))\n",
    "print('f3(x) = {:.2f} + {:.2f}x + {:.2f}x^2'.format(params_f3[0], params_f3[1], params_f3[2]))\n",
    "\n",
    "# plot the data points and the fitted functions\n",
    "import matplotlib.pyplot as plt\n",
    "\n",
    "# Plot the data points\n",
    "plt.scatter(data_seg_1[:, 0], data_seg_1[:, 1], color='blue')\n",
    "plt.scatter(data_seg_2[:, 0], data_seg_2[:, 1], color='blue')\n",
    "plt.scatter(data_seg_3[:, 0], data_seg_3[:, 1], color='blue')\n",
    "\n",
    "# Plot the all the fitted functions piecewise\n",
    "x = np.linspace(0, 1, 100)\n",
    "y = polynomial_f1(params_f1, x)\n",
    "plt.plot(x, y, color='red')\n",
    "\n",
    "x = np.linspace(1, 2, 100)\n",
    "y = polynomial_f2(params_f2, x)\n",
    "plt.plot(x, y, color='red')\n",
    "\n",
    "x = np.linspace(2, 3, 100)\n",
    "y = polynomial_f3(params_f3, x)\n",
    "plt.plot(x, y, color='red')\n",
    "\n",
    "# Show the plot\n",
    "plt.show()\n"
   ]
  },
  {
   "cell_type": "code",
   "execution_count": null,
   "metadata": {},
   "outputs": [],
   "source": []
  }
 ],
 "metadata": {
  "kernelspec": {
   "display_name": "Python 3",
   "language": "python",
   "name": "python3"
  },
  "language_info": {
   "codemirror_mode": {
    "name": "ipython",
    "version": 3
   },
   "file_extension": ".py",
   "mimetype": "text/x-python",
   "name": "python",
   "nbconvert_exporter": "python",
   "pygments_lexer": "ipython3",
   "version": "3.11.3"
  }
 },
 "nbformat": 4,
 "nbformat_minor": 2
}
