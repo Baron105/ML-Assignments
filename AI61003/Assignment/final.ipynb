{
 "cells": [
  {
   "cell_type": "markdown",
   "metadata": {},
   "source": [
    "# Assignment 1: Least Squares\n",
    "## Name: Barun Parua\n",
    "## Roll Number: 21CS10014\n",
    "\n",
    "[Github Link](https://github.com/Baron105/ML-Assignments): https://github.com/Baron105/ML-Assignments for the Notebook and Reports. Please refer to AI61003/Assignment folder for assignment related files."
   ]
  },
  {
   "cell_type": "markdown",
   "metadata": {},
   "source": [
    "## Imports\n",
    "Here is the list of all the libraries used in this assignment."
   ]
  },
  {
   "cell_type": "code",
   "execution_count": 1,
   "metadata": {},
   "outputs": [],
   "source": [
    "# imports\n",
    "\n",
    "# torchvision for MNIST dataset\n",
    "from torchvision.datasets import MNIST\n",
    "\n",
    "# numpy for mathematical operations\n",
    "import numpy as np\n",
    "# matplotlib for plotting graphs and images\n",
    "import matplotlib.pyplot as plt\n",
    "# pandas for data loading and printing the confusion matrix\n",
    "import pandas as pd"
   ]
  },
  {
   "cell_type": "markdown",
   "metadata": {},
   "source": [
    "## MNIST Dataset\n",
    "\n",
    "Here, the MNIST dataset is downloaded and stored separately for training and test data, hence no further splitting is required in questions 1 and 2. "
   ]
  },
  {
   "cell_type": "code",
   "execution_count": 2,
   "metadata": {},
   "outputs": [],
   "source": [
    "# fetching and loading the MNIST dataset\n",
    "mnist_data_train = MNIST('/', train=True, download=True)\n",
    "mnist_data_test = MNIST('/', train=False, download=True)"
   ]
  },
  {
   "cell_type": "markdown",
   "metadata": {},
   "source": [
    "## Least Squares Function\n",
    "\n",
    "Main function of the assignment.\n",
    "\n",
    "This is the function that calculates the least squares solution for a given matrix A and vector b. It returns the vector x that minimizes the 2-norm of Ax-b.\n",
    "\n",
    "x is based on the formula: x = inv(A.T @ A) @ A.T @ b\n",
    "\n",
    "Note that here I have used the @ operator to denote matrix multiplication. Also, the transpose of a matrix A is denoted by A.T. Finally, inv(A) denotes the inverse of a matrix A. Here I have used the pinv function from numpy.linalg to calculate the pseudo-inverse of A, rather than the inverse of A so that the function can handle non-square and singular matrices.\n",
    "\n",
    "A corresponding function for regularized least squares is also defined, which takes in an additional parameter lambda_. The matrix is then stacked with sqrt(lambda_) times the identity matrix, while the vector is stacked with zeros. The rest of the function remains the same."
   ]
  },
  {
   "cell_type": "code",
   "execution_count": 3,
   "metadata": {},
   "outputs": [],
   "source": [
    "def least_squares(A, b):\n",
    "    x = np.linalg.pinv(A.T @ A) @ A.T @ b\n",
    "    return x\n",
    "\n",
    "def least_squares_regularized(A, b, lambda_):\n",
    "    A = np.concatenate((A, np.sqrt(lambda_) * np.identity(A.shape[1])), axis=0)\n",
    "    b = np.concatenate((b, np.zeros(A.shape[1])), axis=0)\n",
    "    x = np.linalg.pinv(A.T @ A) @ A.T @ b\n",
    "    return x"
   ]
  },
  {
   "cell_type": "markdown",
   "metadata": {},
   "source": [
    "## Question 1\n",
    "\n",
    "The MNIST dataset is loaded already above. Now, we have to filter the dataset to only include classes 1 and 7 and assign them labels 1 and -1 respectively. After this the images are flattened from matrices of size 28x28 to vectors of length 784. Then, using the least squares function we train the model on train set and report the accuracy and the confusion matrix on the test set.\n",
    "\n",
    "It can be seen that the accuracy is very high, and the confusion matrix shows that the model is able to distinguish between 1 and 7 very well."
   ]
  },
  {
   "cell_type": "code",
   "execution_count": 4,
   "metadata": {},
   "outputs": [
    {
     "name": "stdout",
     "output_type": "stream",
     "text": [
      "Shapes of the train and test data before filtering: torch.Size([60000, 28, 28]) torch.Size([10000, 28, 28])\n",
      "Shapes of X_train and X_test before flattening: (13007, 28, 28), (2163, 28, 28)\n",
      "Shapes of X_train and X_test after flattening: (13007, 784), (2163, 784)\n",
      "\n"
     ]
    },
    {
     "name": "stdout",
     "output_type": "stream",
     "text": [
      "Accuracy: 0.9894\n",
      "\n",
      "Confusion Matrix:\n",
      "Predicted  -1.0   1.0\n",
      "Actual               \n",
      "-1         1007    21\n",
      " 1            2  1133\n"
     ]
    }
   ],
   "source": [
    "# function to filter the dataset to only include 1s and 7s as per the assignment\n",
    "def filter_dataset(dataset):\n",
    "    indices = (dataset.targets == 1) | (dataset.targets == 7)\n",
    "    images = dataset.data[indices]\n",
    "    labels = dataset.targets[indices]\n",
    "    return images, labels\n",
    "\n",
    "print(\"Shapes of the train and test data before filtering:\", mnist_data_train.data.shape, mnist_data_test.data.shape)\n",
    "\n",
    "# applying the filter to get the test and train data\n",
    "X_train, y_train = filter_dataset(mnist_data_train)\n",
    "X_test, y_test = filter_dataset(mnist_data_test)\n",
    "\n",
    "# assigning the labels to 1 if class is 1 and -1 if class is 7\n",
    "y_train = np.where(y_train == 1, 1, -1)\n",
    "y_test = np.where(y_test == 1, 1, -1)\n",
    "\n",
    "# making X_train and X_test numpy arrays\n",
    "X_train = np.array(X_train)\n",
    "X_test = np.array(X_test)\n",
    "\n",
    "print(f\"Shapes of X_train and X_test before flattening: {X_train.shape}, {X_test.shape}\")\n",
    "\n",
    "# vectorizing the images\n",
    "X_train = X_train.reshape(-1, 28 * 28) / 255.0\n",
    "X_test = X_test.reshape(-1, 28 * 28) / 255.0\n",
    "print(f\"Shapes of X_train and X_test after flattening: {X_train.shape}, {X_test.shape}\\n\")\n",
    "\n",
    "# adding a column of 1s to the data for the bias term\n",
    "X_train = np.hstack((np.ones((X_train.shape[0], 1)), X_train))\n",
    "X_test = np.hstack((np.ones((X_test.shape[0], 1)), X_test))\n",
    "\n",
    "# training the model to get the weights\n",
    "weights = least_squares(X_train, y_train)\n",
    "\n",
    "# predicting the labels for the test data\n",
    "y_pred = np.sign(X_test @ weights)\n",
    "\n",
    "# reporting the accuracy of the model\n",
    "accuracy = np.mean(y_pred == y_test)\n",
    "print(f\"Accuracy: {accuracy:.4f}\\n\\nConfusion Matrix:\")\n",
    "\n",
    "# plotting the confusion matrix\n",
    "confusion_matrix = pd.crosstab(y_test, y_pred, rownames=['Actual'], colnames=['Predicted'])\n",
    "print(confusion_matrix)\n"
   ]
  },
  {
   "cell_type": "markdown",
   "metadata": {},
   "source": [
    "## Question 2\n",
    "\n",
    "The MNIST dataset is loaded already above. Now, the images are flattened from matrices of size 28x28 to vectors of length 784.\n",
    "\n",
    "For each class, we have to train a separate model. Fpr this, we select samples of the current class as positive samples and randomly select equal number of samples from the other classes as negative samples to make the dataset balanced. Now using the least squares function we train the model on train set for each of the classes. Auxiliary functions are used so that repeated code is not written.\n",
    "\n",
    "Now, we have to predict the class of each test sample by using the model that gives the highest score of prediction for that sample and assigning the sample to that class. Finally we report the accuracy and the confusion matrix on the test set."
   ]
  },
  {
   "cell_type": "code",
   "execution_count": 5,
   "metadata": {},
   "outputs": [],
   "source": [
    "# define the training and test sets as numpy arrays\n",
    "X_train, y_train = np.array(mnist_data_train.data), np.array(mnist_data_train.targets)\n",
    "X_test, y_test = np.array(mnist_data_test.data), np.array(mnist_data_test.targets)\n",
    "\n",
    "# vectorizing the images\n",
    "X_train = X_train.reshape(-1, 28 * 28) / 255.0\n",
    "X_test = X_test.reshape(-1, 28 * 28) / 255.0\n",
    "\n",
    "# function to filter the dataset to only include class i images for i in [0, 1, 2, 3, 4, 5, 6, 7, 8, 9]\n",
    "def filter_dataset(train_x, train_y, class_label):\n",
    "    indices = (train_y == class_label)\n",
    "    images = train_x[indices]\n",
    "    labels = train_y[indices]\n",
    "    return images, labels\n",
    "\n",
    "# function to select all images except those of class i for i in [0, 1, 2, 3, 4, 5, 6, 7, 8, 9]\n",
    "def filter_dataset_not(train_x, train_y, class_label):\n",
    "    indices = (train_y != class_label)\n",
    "    images = train_x[indices]\n",
    "    labels = train_y[indices]\n",
    "    return images, labels\n",
    "\n",
    "# function to train the model for a given class label\n",
    "def train_wrt_class(class_label):\n",
    "    # class label is the label of the class for which the model is being trained\n",
    "    # take the images of class and randomly sample the same number of images from the rest of the dataset\n",
    "    X_train_0, y_train_0 = filter_dataset(X_train, y_train, class_label)\n",
    "    X_train_0_not, y_train_0_not = filter_dataset_not(X_train, y_train, class_label)\n",
    "\n",
    "    # randomly sample the same number of images from the rest of the dataset\n",
    "    indices = np.random.choice(np.arange(len(X_train_0_not)), len(X_train_0))\n",
    "    X_train_0_not = X_train_0_not[indices]\n",
    "    y_train_0_not = y_train_0_not[indices]\n",
    "\n",
    "    # add the images of class 0 and the randomly sampled images from the rest of the dataset\n",
    "    X_train_0 = np.concatenate((X_train_0, X_train_0_not))\n",
    "    y_train_0 = np.concatenate((y_train_0, y_train_0_not))\n",
    "\n",
    "    print(f\"Shapes of X_train_0 and y_train_0 after filtering and sampling: {X_train_0.shape}, {y_train_0.shape}\")\n",
    "\n",
    "    # assign the labels to 1 if class is class_label and -1 if class is not class_label\n",
    "    y_train_0 = np.where(y_train_0 == class_label, 1, -1)\n",
    "    y_test_0 = np.where(y_test == class_label, 1, -1)\n",
    "\n",
    "    # add a column of 1s to the data for the bias term\n",
    "    X_train_0 = np.hstack((np.ones((X_train_0.shape[0], 1)), X_train_0))\n",
    "    X_test_0 = np.hstack((np.ones((X_test.shape[0], 1)), X_test))\n",
    "    \n",
    "    # train the model to get the weights\n",
    "    weights_0 = least_squares(X_train_0, y_train_0)\n",
    "\n",
    "    # predict the labels for the test data\n",
    "    y_pred_0 = np.sign(X_test_0 @ weights_0)\n",
    "\n",
    "    # report the accuracy of the model\n",
    "    accuracy_0 = np.mean(y_pred_0 == y_test_0)\n",
    "    print(f\"\\nAccuracy for class {class_label}: {accuracy_0:.4f}\\n\\nConfusion Matrix for class {class_label}:\")\n",
    "\n",
    "    # plot the confusion matrix\n",
    "    confusion_matrix_0 = pd.crosstab(y_test_0, y_pred_0, rownames=['Actual'], colnames=['Predicted'])\n",
    "    print(confusion_matrix_0)\n",
    "    \n",
    "    return weights_0"
   ]
  },
  {
   "cell_type": "markdown",
   "metadata": {},
   "source": [
    "### Class 0\n",
    "\n",
    "Training of the model for class 0."
   ]
  },
  {
   "cell_type": "code",
   "execution_count": 6,
   "metadata": {},
   "outputs": [
    {
     "name": "stdout",
     "output_type": "stream",
     "text": [
      "Shapes of X_train_0 and y_train_0 after filtering and sampling: (11846, 784), (11846,)\n",
      "\n",
      "Accuracy for class 0: 0.9751\n",
      "\n",
      "Confusion Matrix for class 0:\n",
      "Predicted  -1.0   1.0\n",
      "Actual               \n",
      "-1         8781   239\n",
      " 1           10   970\n"
     ]
    }
   ],
   "source": [
    "# class 0\n",
    "weights_0 = train_wrt_class(0)"
   ]
  },
  {
   "cell_type": "markdown",
   "metadata": {},
   "source": [
    "### Class 1\n",
    "\n",
    "Training of the model for class 1."
   ]
  },
  {
   "cell_type": "code",
   "execution_count": 7,
   "metadata": {},
   "outputs": [
    {
     "name": "stdout",
     "output_type": "stream",
     "text": [
      "Shapes of X_train_0 and y_train_0 after filtering and sampling: (13484, 784), (13484,)\n",
      "\n",
      "Accuracy for class 1: 0.9669\n",
      "\n",
      "Confusion Matrix for class 1:\n",
      "Predicted  -1.0   1.0\n",
      "Actual               \n",
      "-1         8545   320\n",
      " 1           11  1124\n"
     ]
    }
   ],
   "source": [
    "# class 1\n",
    "weights_1 = train_wrt_class(1)"
   ]
  },
  {
   "cell_type": "markdown",
   "metadata": {},
   "source": [
    "### Class 2\n",
    "\n",
    "Training of the model for class 2."
   ]
  },
  {
   "cell_type": "code",
   "execution_count": 8,
   "metadata": {},
   "outputs": [
    {
     "name": "stdout",
     "output_type": "stream",
     "text": [
      "Shapes of X_train_0 and y_train_0 after filtering and sampling: (11916, 784), (11916,)\n",
      "\n",
      "Accuracy for class 2: 0.9508\n",
      "\n",
      "Confusion Matrix for class 2:\n",
      "Predicted  -1.0   1.0\n",
      "Actual               \n",
      "-1         8559   409\n",
      " 1           83   949\n"
     ]
    }
   ],
   "source": [
    "# class 2\n",
    "weights_2 = train_wrt_class(2)"
   ]
  },
  {
   "cell_type": "markdown",
   "metadata": {},
   "source": [
    "### Class 3\n",
    "\n",
    "Training of the model for class 3."
   ]
  },
  {
   "cell_type": "code",
   "execution_count": 9,
   "metadata": {},
   "outputs": [
    {
     "name": "stdout",
     "output_type": "stream",
     "text": [
      "Shapes of X_train_0 and y_train_0 after filtering and sampling: (12262, 784), (12262,)\n",
      "\n",
      "Accuracy for class 3: 0.9256\n",
      "\n",
      "Confusion Matrix for class 3:\n",
      "Predicted  -1.0   1.0\n",
      "Actual               \n",
      "-1         8305   685\n",
      " 1           59   951\n"
     ]
    }
   ],
   "source": [
    "# class 3\n",
    "weights_3 = train_wrt_class(3)"
   ]
  },
  {
   "cell_type": "markdown",
   "metadata": {},
   "source": [
    "### Class 4\n",
    "\n",
    "Training of the model for class 4."
   ]
  },
  {
   "cell_type": "code",
   "execution_count": 10,
   "metadata": {},
   "outputs": [
    {
     "name": "stdout",
     "output_type": "stream",
     "text": [
      "Shapes of X_train_0 and y_train_0 after filtering and sampling: (11684, 784), (11684,)\n",
      "\n",
      "Accuracy for class 4: 0.9384\n",
      "\n",
      "Confusion Matrix for class 4:\n",
      "Predicted  -1.0   1.0\n",
      "Actual               \n",
      "-1         8428   590\n",
      " 1           26   956\n"
     ]
    }
   ],
   "source": [
    "# class 4\n",
    "weights_4 = train_wrt_class(4)"
   ]
  },
  {
   "cell_type": "markdown",
   "metadata": {},
   "source": [
    "### Class 5\n",
    "\n",
    "Training of the model for class 5."
   ]
  },
  {
   "cell_type": "code",
   "execution_count": 11,
   "metadata": {},
   "outputs": [
    {
     "name": "stdout",
     "output_type": "stream",
     "text": [
      "Shapes of X_train_0 and y_train_0 after filtering and sampling: (10842, 784), (10842,)\n",
      "\n",
      "Accuracy for class 5: 0.9043\n",
      "\n",
      "Confusion Matrix for class 5:\n",
      "Predicted  -1.0   1.0\n",
      "Actual               \n",
      "-1         8197   911\n",
      " 1           46   846\n"
     ]
    }
   ],
   "source": [
    "# class 5\n",
    "weights_5 = train_wrt_class(5)"
   ]
  },
  {
   "cell_type": "markdown",
   "metadata": {},
   "source": [
    "### Class 6\n",
    "\n",
    "Training of the model for class 6."
   ]
  },
  {
   "cell_type": "code",
   "execution_count": 12,
   "metadata": {},
   "outputs": [
    {
     "name": "stdout",
     "output_type": "stream",
     "text": [
      "Shapes of X_train_0 and y_train_0 after filtering and sampling: (11836, 784), (11836,)\n",
      "\n",
      "Accuracy for class 6: 0.9624\n",
      "\n",
      "Confusion Matrix for class 6:\n",
      "Predicted  -1.0   1.0\n",
      "Actual               \n",
      "-1         8695   347\n",
      " 1           29   929\n"
     ]
    }
   ],
   "source": [
    "# class 6\n",
    "weights_6 = train_wrt_class(6)"
   ]
  },
  {
   "cell_type": "markdown",
   "metadata": {},
   "source": [
    "### Class 7\n",
    "\n",
    "Training of the model for class 7."
   ]
  },
  {
   "cell_type": "code",
   "execution_count": 13,
   "metadata": {},
   "outputs": [
    {
     "name": "stdout",
     "output_type": "stream",
     "text": [
      "Shapes of X_train_0 and y_train_0 after filtering and sampling: (12530, 784), (12530,)\n",
      "\n",
      "Accuracy for class 7: 0.9526\n",
      "\n",
      "Confusion Matrix for class 7:\n",
      "Predicted  -1.0   1.0\n",
      "Actual               \n",
      "-1         8547   425\n",
      " 1           49   979\n"
     ]
    }
   ],
   "source": [
    "# class 7\n",
    "weights_7 = train_wrt_class(7)"
   ]
  },
  {
   "cell_type": "markdown",
   "metadata": {},
   "source": [
    "### Class 8\n",
    "\n",
    "Training of the model for class 8."
   ]
  },
  {
   "cell_type": "code",
   "execution_count": 14,
   "metadata": {},
   "outputs": [
    {
     "name": "stdout",
     "output_type": "stream",
     "text": [
      "Shapes of X_train_0 and y_train_0 after filtering and sampling: (11702, 784), (11702,)\n",
      "\n",
      "Accuracy for class 8: 0.9009\n",
      "\n",
      "Confusion Matrix for class 8:\n",
      "Predicted  -1.0   1.0\n",
      "Actual               \n",
      "-1         8134   892\n",
      " 1           99   875\n"
     ]
    }
   ],
   "source": [
    "# class 8\n",
    "weights_8 = train_wrt_class(8)"
   ]
  },
  {
   "cell_type": "markdown",
   "metadata": {},
   "source": [
    "### Class 9\n",
    "\n",
    "Training of the model for class 9."
   ]
  },
  {
   "cell_type": "code",
   "execution_count": 15,
   "metadata": {},
   "outputs": [
    {
     "name": "stdout",
     "output_type": "stream",
     "text": [
      "Shapes of X_train_0 and y_train_0 after filtering and sampling: (11898, 784), (11898,)\n",
      "\n",
      "Accuracy for class 9: 0.8943\n",
      "\n",
      "Confusion Matrix for class 9:\n",
      "Predicted  -1.0   1.0\n",
      "Actual               \n",
      "-1         8004   987\n",
      " 1           70   939\n"
     ]
    }
   ],
   "source": [
    "# class 9\n",
    "weights_9 = train_wrt_class(9)"
   ]
  },
  {
   "cell_type": "markdown",
   "metadata": {},
   "source": [
    "### Using the models to get the confidence scores and assigning the class with highest score\n",
    "\n",
    "Now, we have to predict the class of each test sample by using the model that gives the highest score of prediction for that sample and assigning the sample to that class. Finally we report the accuracy and the confusion matrix on the test set."
   ]
  },
  {
   "cell_type": "code",
   "execution_count": 16,
   "metadata": {},
   "outputs": [
    {
     "name": "stdout",
     "output_type": "stream",
     "text": [
      "Accuracy of the model: 0.8811\n",
      "\n",
      "Confusion Matrix:\n",
      "Predicted    0     1    2    3    4    5    6    7    8    9\n",
      "Actual                                                      \n",
      "0          924     1    1    1    3   24   15    3    6    2\n",
      "1            0  1098    3    3    1    4    4    0   22    0\n",
      "2           12    28  834   30   22   12   14   15   56    9\n",
      "3            7     3   18  875    3   47    7   10   24   16\n",
      "4            1     8    3    4  898    6    6    1    6   49\n",
      "5           12    11    0   39    8  755   17    5   26   19\n",
      "6            8     8    5   12   22   36  849    0   17    1\n",
      "7            4    24   18    8   20   11    5  862    2   74\n",
      "8            6    22    6   21   14   35   11    9  828   22\n",
      "9           11     8    4    8   47    8    0   21   14  888\n"
     ]
    }
   ],
   "source": [
    "# function to predict the class of an image by calculating the confidence scores for each class\n",
    "def predict_class(image):\n",
    "    # add a column of 1s to the image for the bias term\n",
    "    image = np.hstack((1, image))\n",
    "    confidence_scores = np.array([image @ weights_0, image @ weights_1, image @ weights_2, image @ weights_3, image @ weights_4, image @ weights_5, image @ weights_6, image @ weights_7, image @ weights_8, image @ weights_9])\n",
    "    \n",
    "    # return the class with the highest confidence score\n",
    "    return np.argmax(confidence_scores)\n",
    "\n",
    "# predicting the classes of the test images\n",
    "y_pred = np.array([predict_class(image) for image in X_test])\n",
    "\n",
    "# reporting the accuracy of the model\n",
    "accuracy = np.mean(y_pred == y_test)\n",
    "print(f\"Accuracy of the model: {accuracy:.4f}\\n\\nConfusion Matrix:\")\n",
    "\n",
    "# plotting the confusion matrix\n",
    "confusion_matrix = pd.crosstab(y_test, y_pred, rownames=['Actual'], colnames=['Predicted'])\n",
    "print(confusion_matrix)"
   ]
  },
  {
   "cell_type": "markdown",
   "metadata": {},
   "source": [
    "## Question 3\n",
    "\n",
    "Here first of all, we generate two random vectors p and q of length 100 sampled from uniform random distribution between [-10,10].\n",
    "\n",
    "Then the target variable b is defined as bi = +1 if pi*qi > 1 and bi = -1 otherwise, for i = 1,2,...,100.\n",
    "\n",
    "Now we generate 6 basis functions as provided. Then we generate the matrix A of basis functions.\n",
    "\n",
    "Now, we use the least squares method to find the optimal weights vector x. The optimal weights vector x is given by the formula (A^T A)^-1 A^T b, where A is the matrix of basis functions and b is the target variable vector.\n",
    "\n",
    "We get the weight vector x in this way and report x as well as the accuracy of the model."
   ]
  },
  {
   "cell_type": "code",
   "execution_count": 17,
   "metadata": {},
   "outputs": [
    {
     "name": "stdout",
     "output_type": "stream",
     "text": [
      "Coefficient vector x: [-0.19582371 -0.00420142 -0.00624551  0.00215698  0.00141465  0.02263778]\n",
      "Accuracy: 0.9\n"
     ]
    }
   ],
   "source": [
    "# generate vectors p and q\n",
    "p = np.random.uniform(-10, 10, 100)\n",
    "q = np.random.uniform(-10, 10, 100)\n",
    "\n",
    "# generate the target variable b\n",
    "b = np.where(p*q > 1, 1, -1)\n",
    "\n",
    "# defining the 6 basis functions\n",
    "f0 = np.ones(100)\n",
    "f1 = p\n",
    "f2 = q\n",
    "f3 = p**2\n",
    "f4 = q**2\n",
    "f5 = p * q\n",
    "\n",
    "# creating matrix A from the basis functions\n",
    "A = np.column_stack((f0, f1, f2, f3, f4, f5))\n",
    "\n",
    "# calling the least squares function to calculate the coefficient vector x\n",
    "x = least_squares(A, b)\n",
    "print(f'Coefficient vector x: {x}')\n",
    "\n",
    "# calculating the predicted values\n",
    "y_pred = np.sign(A @ x)\n",
    "accuracy = np.mean(y_pred == b)\n",
    "print(f'Accuracy: {accuracy}')"
   ]
  },
  {
   "cell_type": "markdown",
   "metadata": {},
   "source": [
    "## Question 4\n",
    "\n",
    "Here first of all, we generate two random vectors p and q of length 100 sampled from uniform random distribution between [-1,1].\n",
    "\n",
    "Then the target variable b is defined as pq + p^2 + q^2.\n",
    "\n",
    "Now we generate 6 basis functions as provided. Then we generate the matrix A of basis functions.\n",
    "\n",
    "Now, we use the least squares method to find the optimal weights vector x. The optimal weights vector x is given by the formula (A^T A)^-1 A^T b, where A is the matrix of basis functions and b is the target variable vector.\n",
    "\n",
    "As we can see very easily that the target function is a linear combination of the basis functions, the mean squared error is very close to zero and the weights vector x is very close to [0,0,0,1,1,1] as expected."
   ]
  },
  {
   "cell_type": "code",
   "execution_count": 18,
   "metadata": {},
   "outputs": [
    {
     "name": "stdout",
     "output_type": "stream",
     "text": [
      "Coefficient vector x: [1.44328993e-15 5.55111512e-17 4.16333634e-16 1.00000000e+00\n",
      " 1.00000000e+00 1.00000000e+00]\n",
      "Mean Squared Error (MSE): 7.539364647584204e-30\n"
     ]
    }
   ],
   "source": [
    "# generate vectors p and q\n",
    "p = np.random.uniform(-1, 1, 100)\n",
    "q = np.random.uniform(-1, 1, 100)\n",
    "\n",
    "# generate the target variable b\n",
    "b = p * q + p**2 + q**2\n",
    "\n",
    "# defining the 6 basis functions\n",
    "f0 = np.ones(100)\n",
    "f1 = p\n",
    "f2 = q\n",
    "f3 = p**2\n",
    "f4 = q**2\n",
    "f5 = p * q\n",
    "\n",
    "# creating matrix A from the basis functions\n",
    "A = np.column_stack((f0, f1, f2, f3, f4, f5))\n",
    "\n",
    "# calling the least squares function to calculate the coefficient vector x\n",
    "x = least_squares(A, b)\n",
    "\n",
    "# calculating the mse and printing the results\n",
    "mse = np.mean((A @ x - b)**2)\n",
    "print(\"Coefficient vector x:\", x)\n",
    "print(\"Mean Squared Error (MSE):\", mse)"
   ]
  },
  {
   "cell_type": "markdown",
   "metadata": {},
   "source": [
    "## Question 5\n",
    "\n"
   ]
  },
  {
   "cell_type": "markdown",
   "metadata": {},
   "source": [
    "## Triangular Basis Function\n",
    "\n",
    "In this question we deal with the triangular basis function. The function to generate the triangular basis function is defined below, so as to reduce repeated code and make the code more readable.\n",
    "\n",
    "p is again a vector of length 100 sampled from uniform random distribution between [0,1]. b is defined as b = 7p - 3p^2 and we have to generate the coefficients of the triangular basis function."
   ]
  },
  {
   "cell_type": "code",
   "execution_count": 19,
   "metadata": {},
   "outputs": [],
   "source": [
    "# generate random vector p of size 100 ranging from 0 to 1\n",
    "p = np.random.uniform(0, 1, 100)\n",
    "\n",
    "# define b = 7p - 3p^2\n",
    "b = 7*p - 3*(p**2)\n",
    "\n",
    "# basis function matrix generating function\n",
    "def gen_basis_matrix(p, c):\n",
    "    A = [[0 for _ in range(c)] for _ in range(100)]\n",
    "    for i in range(100):\n",
    "        for j in range(c):\n",
    "            # if p[i] is in the interval [j/c, (j+1)/c), then A[i][j] = (2j+1)/(2c) - |p[i] - (2j+1)/(2c)|\n",
    "            # else A[i][j] = 0\n",
    "            if j / c <= p[i] and p[i] < (j + 1) / c:\n",
    "                A[i][j] = ((2 * j + 1) / (2 * c) - np.abs(p[i] - (2 * j + 1) / (2 * c))) * 2 * c\n",
    "            else:\n",
    "                A[i][j] = 0\n",
    "    return A"
   ]
  },
  {
   "cell_type": "markdown",
   "metadata": {},
   "source": [
    "### Part A (Normal Least Squares)\n",
    "\n",
    "Normal least squares method is used to find the optimal weights vector x. The optimal weights vector x is given by the formula (A^T A)^-1 A^T b, where A is the matrix of basis functions and b is the target variable vector. The coefficient vector x and the mean squared error are reported."
   ]
  },
  {
   "cell_type": "markdown",
   "metadata": {},
   "source": [
    "n = 10"
   ]
  },
  {
   "cell_type": "code",
   "execution_count": 20,
   "metadata": {},
   "outputs": [
    {
     "name": "stdout",
     "output_type": "stream",
     "text": [
      "Results for 10 basis functions:\n",
      "Coefficient vector x: [0.53071111 0.3607081  0.36154405 0.31365102 0.30271326 0.27601811\n",
      " 0.27326449 0.24342083 0.22862182 0.21268347]\n",
      "Mean Squared Error (MSE): 0.02821275956091188\n"
     ]
    }
   ],
   "source": [
    "# number of basis functions = 10\n",
    "A = np.array(gen_basis_matrix(p, 10))\n",
    "\n",
    "# least squares solution\n",
    "x = least_squares(A, b)\n",
    "\n",
    "# calculate the mse and print the results\n",
    "mse = np.mean((A @ x - b)**2)\n",
    "print(\"Results for 10 basis functions:\")\n",
    "print(\"Coefficient vector x:\", x)\n",
    "print(\"Mean Squared Error (MSE):\", mse)"
   ]
  },
  {
   "cell_type": "markdown",
   "metadata": {},
   "source": [
    "n = 50"
   ]
  },
  {
   "cell_type": "code",
   "execution_count": 21,
   "metadata": {},
   "outputs": [
    {
     "name": "stdout",
     "output_type": "stream",
     "text": [
      "Results for 50 basis functions:\n",
      "Coefficient vector x: [0.12019467 0.12087572 0.08395354 0.0734853  0.07274823 0.06789204\n",
      " 0.06638316 0.06651617 0.         0.06658391 0.06386817 0.\n",
      " 0.06390027 0.06423656 0.06231816 0.06109013 0.0609512  0.05964094\n",
      " 0.05891572 0.0594205  0.05771872 0.05723884 0.05690927 0.0562588\n",
      " 0.05591247 0.05604779 0.05506206 0.05360234 0.         0.05256495\n",
      " 0.         0.05122908 0.         0.05099484 0.05005479 0.04898657\n",
      " 0.04827662 0.04770154 0.04697906 0.04659594 0.04607065 0.04531666\n",
      " 0.04489111 0.         0.04367732 0.04273106 0.04250461 0.04171692\n",
      " 0.04109652 0.04045242]\n",
      "Mean Squared Error (MSE): 0.0005012488497474136\n"
     ]
    }
   ],
   "source": [
    "# number of basis functions = 50\n",
    "A = np.array(gen_basis_matrix(p, 50))\n",
    "\n",
    "# least squares solution\n",
    "x = least_squares(A, b)\n",
    "\n",
    "# calculate the mse and print the results\n",
    "mse = np.mean((A @ x - b)**2)\n",
    "print(\"Results for 50 basis functions:\")\n",
    "print(\"Coefficient vector x:\", x)\n",
    "print(\"Mean Squared Error (MSE):\", mse)"
   ]
  },
  {
   "cell_type": "markdown",
   "metadata": {},
   "source": [
    "### Part B (Regularized Least Squares)\n",
    "\n",
    "Here we do the same thing as in part A, but using regularized least squares instead of least squares. The lambda_ parameter is randomly sampled from a uniform distribution between [0,0.2].\n",
    "\n",
    "The values of n in this cases are 150 and 200. The least squares regularized method is used to find the optimal weights vector x. The optimal weights vector x is given by the formula (A^T A + lambda_ * I)^-1 A^T b, where A is the matrix of basis functions and b is the target variable vector. Note that here x is commented out as it takes too much space to print and only the mse is reported. If required, please uncomment the print statement to see the value of x."
   ]
  },
  {
   "cell_type": "markdown",
   "metadata": {},
   "source": [
    "n = 150"
   ]
  },
  {
   "cell_type": "code",
   "execution_count": 22,
   "metadata": {},
   "outputs": [
    {
     "name": "stdout",
     "output_type": "stream",
     "text": [
      "Results for 150 basis functions and lambda = 0.08085823988890153:\n",
      "Mean Squared Error (MSE): 1.7901231776072764e-05\n",
      "\n",
      "Results for 150 basis functions and lambda = 0.09241014685447242:\n",
      "Mean Squared Error (MSE): 1.7903562938248887e-05\n",
      "\n",
      "Results for 150 basis functions and lambda = 0.14698953333144302:\n",
      "Mean Squared Error (MSE): 1.7918628585235414e-05\n",
      "\n",
      "Results for 150 basis functions and lambda = 0.1647082076923416:\n",
      "Mean Squared Error (MSE): 1.7924934499000023e-05\n",
      "\n",
      "Results for 150 basis functions and lambda = 0.07877177577154944:\n",
      "Mean Squared Error (MSE): 1.790084309354731e-05\n",
      "\n"
     ]
    }
   ],
   "source": [
    "# number of basis functions = 150\n",
    "A = np.array(gen_basis_matrix(p, 150))\n",
    "\n",
    "# pick 5 random values of lambda from 0 to 0.2\n",
    "lambdas = np.random.uniform(0, 0.2, 5)\n",
    "for lambda_ in lambdas:\n",
    "    # least squares regularized solution\n",
    "    x = least_squares_regularized(A, b, lambda_)\n",
    "\n",
    "    # calculate the mse and print the results\n",
    "    mse = np.mean((A @ x - b)**2)\n",
    "    print(f\"Results for 150 basis functions and lambda = {lambda_}:\")\n",
    "    # print(\"Coefficient vector x:\", x)\n",
    "    print(\"Mean Squared Error (MSE):\", mse)\n",
    "    print()"
   ]
  },
  {
   "cell_type": "markdown",
   "metadata": {},
   "source": [
    "n = 200"
   ]
  },
  {
   "cell_type": "code",
   "execution_count": 23,
   "metadata": {},
   "outputs": [
    {
     "name": "stdout",
     "output_type": "stream",
     "text": [
      "Results for 200 basis functions and lambda = 0.04508453844221956:\n",
      "Mean Squared Error (MSE): 8.689569951041144e-06\n",
      "\n",
      "Results for 200 basis functions and lambda = 0.17145078757001347:\n",
      "Mean Squared Error (MSE): 8.695470584804921e-06\n",
      "\n",
      "Results for 200 basis functions and lambda = 0.07668703474305001:\n",
      "Mean Squared Error (MSE): 8.690402664809776e-06\n",
      "\n",
      "Results for 200 basis functions and lambda = 0.023020961400530938:\n",
      "Mean Squared Error (MSE): 8.689244280638514e-06\n",
      "\n",
      "Results for 200 basis functions and lambda = 0.01985400795095431:\n",
      "Mean Squared Error (MSE): 8.689214828383487e-06\n",
      "\n"
     ]
    }
   ],
   "source": [
    "# number of basis functions = 200\n",
    "A = np.array(gen_basis_matrix(p, 200))\n",
    "\n",
    "# pick 5 random values of lambda from 0 to 0.2\n",
    "lambdas = np.random.uniform(0, 0.2, 5)\n",
    "for lambda_ in lambdas:\n",
    "    # least squares regularized solution\n",
    "    x = least_squares_regularized(A, b, lambda_)\n",
    "\n",
    "    # calculate the mse and print the results\n",
    "    mse = np.mean((A @ x - b)**2)\n",
    "    print(f\"Results for 200 basis functions and lambda = {lambda_}:\")\n",
    "    # print(\"Coefficient vector x:\", x)\n",
    "    print(\"Mean Squared Error (MSE):\", mse)\n",
    "    print()"
   ]
  },
  {
   "cell_type": "markdown",
   "metadata": {},
   "source": [
    "In general it can be seen that the mean squared error decreases as we increase the value of n, which is expected as the model becomes more complex and is able to fit the data better."
   ]
  },
  {
   "cell_type": "markdown",
   "metadata": {},
   "source": [
    "## Question 6\n",
    "\n",
    "Here we have a csv file with various kinds of data. However according to the assignment, we only have to consider the consumption column as the data and build a auto-regressive model for it. We take the last 8 values of the consumption column as the lagged values and the current value as the target variable.\n",
    "\n",
    "This way, we build the matrix A of data points and the vector b of target variables. Then we use the least squares method to find the optimal weights vector x. As we know that the last 8 values of the consumption column are the lagged values, we can use the last 8 values of the weights vector x to predict the next value of the consumption column.\n",
    "\n",
    "Finally, the weights vector x and the next day's predicted value of the consumption column are reported."
   ]
  },
  {
   "cell_type": "code",
   "execution_count": 24,
   "metadata": {},
   "outputs": [
    {
     "name": "stdout",
     "output_type": "stream",
     "text": [
      "Mean of Consumption: 1338.6758355897787\n",
      "Lagged data: [[1069.184   1380.521   1442.533   ... 1403.427   1300.287   1207.985  ]\n",
      " [1380.521   1442.533   1457.217   ... 1300.287   1207.985   1529.323  ]\n",
      " [1442.533   1457.217   1477.131   ... 1207.985   1529.323   1576.911  ]\n",
      " ...\n",
      " [1520.37206 1423.23782 1272.17085 ... 1130.11683 1263.94091 1299.86398]\n",
      " [1423.23782 1272.17085 1141.7573  ... 1263.94091 1299.86398 1295.08753]\n",
      " [1272.17085 1141.7573  1111.28338 ... 1299.86398 1295.08753 1215.44897]]\n",
      "Target variable: [1529.323   1576.911   1577.176   ... 1295.08753 1215.44897 1107.11488]\n",
      "\n",
      "Weights: [-0.48031652  0.79451371  0.0741064   0.00317865 -0.04130348  0.08092347\n",
      " -0.08570714  0.65400841]\n",
      "Predicted value for the next day: 1093.2953728795715\n"
     ]
    }
   ],
   "source": [
    "# loading the dataset\n",
    "data = pd.read_csv('q6.csv')\n",
    "\n",
    "# extracting the consumption column and converting it to a numpy array\n",
    "y = np.array(data['Consumption'])\n",
    "print(\"Mean of Consumption:\", np.mean(y))\n",
    "# print(\"Shape of Consumption:\", y.shape)\n",
    "\n",
    "# creating a new dataset where lag_1 to lag_8 are the features and the next value of consumption is the target variable\n",
    "X = np.zeros((len(y) - 8, 8))\n",
    "for i in range(len(y) - 8):\n",
    "    X[i] = y[i:i+8]\n",
    "print(\"Lagged data:\", X)\n",
    "y = y[8:]\n",
    "print(\"Target variable:\", y)\n",
    "\n",
    "# fit the model using least squares\n",
    "weights = least_squares(X, y)\n",
    "\n",
    "# y_new is the last 8 values of the consumption column\n",
    "# y_pred is the predicted value for the next day\n",
    "y_new = y[-8:]\n",
    "y_pred = y_new @ weights\n",
    "\n",
    "# print the results\n",
    "print(\"\\nWeights:\", weights)\n",
    "print(\"Predicted value for the next day:\", y_pred)"
   ]
  },
  {
   "cell_type": "markdown",
   "metadata": {},
   "source": [
    "## Question 7\n",
    "\n"
   ]
  },
  {
   "cell_type": "markdown",
   "metadata": {},
   "source": [
    "This question involves blurring and then deblurring an image. The image is loaded and then blurred using a Gaussian kernel. After this, the blurred image is deblurred using the least squares method. We also use some parameters to keep the difference between consecutive rows and columns of the image as small as possible so that the image is smooth.\n",
    "\n",
    "Now first of all, we pick the 42nd image from the dataset. It can be seen that it represents the digit 7."
   ]
  },
  {
   "cell_type": "code",
   "execution_count": 25,
   "metadata": {},
   "outputs": [
    {
     "name": "stdout",
     "output_type": "stream",
     "text": [
      "Initial image:\n"
     ]
    },
    {
     "data": {
      "image/png": "[encoded data removed]",
      "text/plain": [
       "<Figure size 640x480 with 1 Axes>"
      ]
     },
     "metadata": {},
     "output_type": "display_data"
    }
   ],
   "source": [
    "# get any image from MNIST dataset, here we are getting the 42nd image\n",
    "image = np.array(mnist_data_train.data[42])\n",
    "print(\"Initial image:\")\n",
    "plt.imshow(image)\n",
    "flat_image = image.flatten()"
   ]
  },
  {
   "cell_type": "markdown",
   "metadata": {},
   "source": [
    "### Kernel and Toeplitz Matrix for Blurring\n",
    "\n",
    "Now, using the Gaussian kernel, we blur the image. This is achieved by getting the Toeplitz matrix of the kernel and then multiplying it with the image matrix. The Toeplitz matrix of the kernel is generated using np.roll function at each row wrt to the flattened kernel.\n",
    "\n",
    "While this Toeplitz matrix is not very accurate at the edges, we can still use it to get very good results as most of our data is concentrated at the center (true for any image).\n",
    "\n",
    "After this, the blurred image is printed, and we can see the blurred 7."
   ]
  },
  {
   "cell_type": "code",
   "execution_count": 26,
   "metadata": {},
   "outputs": [
    {
     "name": "stdout",
     "output_type": "stream",
     "text": [
      "Shape of toeplitz kernel: (784, 784)\n",
      "Toeplitz kernel:\n",
      " [[0.0625 0.125  0.0625 ... 0.     0.     0.    ]\n",
      " [0.     0.0625 0.125  ... 0.     0.     0.    ]\n",
      " [0.     0.     0.0625 ... 0.     0.     0.    ]\n",
      " ...\n",
      " [0.     0.     0.     ... 0.0625 0.125  0.0625]\n",
      " [0.0625 0.     0.     ... 0.     0.0625 0.125 ]\n",
      " [0.125  0.0625 0.     ... 0.     0.     0.0625]]\n",
      "\n",
      "Blurred image:\n"
     ]
    },
    {
     "data": {
      "text/plain": [
       "<matplotlib.image.AxesImage at 0x20380092ad0>"
      ]
     },
     "execution_count": 26,
     "metadata": {},
     "output_type": "execute_result"
    },
    {
     "data": {
      "image/png": "[encoded data removed]",
      "text/plain": [
       "<Figure size 640x480 with 1 Axes>"
      ]
     },
     "metadata": {},
     "output_type": "display_data"
    }
   ],
   "source": [
    "# define the kernel vector as a 784x1 vector instead of a 3x3 matrix\n",
    "# this is so that we can generate the toeplitz matrix of the kernel\n",
    "kernel = np.zeros(784)\n",
    "kernel[0], kernel[1], kernel[2] = 1/16, 1/8, 1/16\n",
    "kernel[28], kernel[29], kernel[30] = 1/8, 1/4, 1/8\n",
    "kernel[56], kernel[57], kernel[58] = 1/16, 1/8, 1/16\n",
    "\n",
    "# get the toeplitz matrix of the kernel\n",
    "# np.roll is used to shift the kernel by i places to the right\n",
    "toeplitz_kernel = np.zeros((784, 784))\n",
    "for i in range(784):\n",
    "    toeplitz_kernel[i] = np.roll(kernel, i)\n",
    "print(\"Shape of toeplitz kernel:\", toeplitz_kernel.shape)\n",
    "print(\"Toeplitz kernel:\\n\", toeplitz_kernel)\n",
    "\n",
    "# get the blurred image by multiplying the toeplitz matrix with the flattened image\n",
    "# equivalent to convolving the image with the kernel matrix\n",
    "blurred_image = toeplitz_kernel @ flat_image\n",
    "\n",
    "# reshape the blurred image to 28x28 to get the image\n",
    "blurred_image = np.reshape(blurred_image, (28, 28))\n",
    "print(\"\\nBlurred image:\")\n",
    "plt.imshow(blurred_image)"
   ]
  },
  {
   "cell_type": "markdown",
   "metadata": {},
   "source": [
    "### Deblurring the Image Using Least Squares\n",
    "\n",
    "Now we have to deblur the image using the least squares method. First of all, we generate the constraint matrices Dv and Dh using identity matrices and the smaller D matrix. For generating the matrices, the np.kron function is used which basically places the matrix in the diagonal of the larger matrix. Then using some manipluations like adding columns of zeroes and adding the matrices, we obtain the required matrices.\n",
    "\n",
    "Now, we stack the toeplitz matrix of the kernel with the constraint matrices (multiplied with lambda_) to get the matrix A. Correspondingly, we stack the blurred image with zeroes to get the vector b.\n",
    "\n",
    "The lambda_ parameter is set to 0.0007 initially and the deblurred image is obtained. We can see that this lambda_ value is good enough to get a deblurred image."
   ]
  },
  {
   "cell_type": "code",
   "execution_count": 27,
   "metadata": {},
   "outputs": [
    {
     "name": "stdout",
     "output_type": "stream",
     "text": [
      "Shape of matrix D: (27, 28)\n",
      "Shape of matrix Dv: (756, 784)\n",
      "Shape of matrix Dh: (756, 784)\n",
      "Shape of matrix A: (2296, 784)\n",
      "Shape of vector b: (2296,)\n",
      "Shape of vector x: (784,)\n",
      "\n",
      "Deblurred image with lambda = 0.0007:\n"
     ]
    },
    {
     "data": {
      "text/plain": [
       "<matplotlib.image.AxesImage at 0x20380172ad0>"
      ]
     },
     "execution_count": 27,
     "metadata": {},
     "output_type": "execute_result"
    },
    {
     "data": {
      "image/png": "[encoded data removed]",
      "text/plain": [
       "<Figure size 640x480 with 1 Axes>"
      ]
     },
     "metadata": {},
     "output_type": "display_data"
    }
   ],
   "source": [
    "# deblurring the image using the least squares solution\n",
    "\n",
    "# generating identity matrices of size 27 and 28 along with their negative counterparts for ease of use\n",
    "I27 = np.identity(27)\n",
    "MI27 = -I27\n",
    "I28 = np.identity(28)\n",
    "MI28 = -I28\n",
    "\n",
    "# stack an additional column of zeros to the right of MI27 and an additional row of zeros to the left of I27 and add them to get the matrix D\n",
    "# we can see that this is equivalent to the matrix D in the assignment\n",
    "D = np.hstack((np.zeros((27, 1)), I27)) + np.hstack((MI27, np.zeros((27, 1))))\n",
    "print(\"Shape of matrix D:\", D.shape)\n",
    "\n",
    "# matrix Dv using D as the diagonal block element\n",
    "Dv = np.kron(np.eye(28), D)\n",
    "print(\"Shape of matrix Dv:\", Dv.shape)\n",
    "\n",
    "# get the stacked matrices I28*27 and MI28*27\n",
    "I28_27 = np.kron(np.eye(27), I28)\n",
    "# print(\"Shape of matrix I28_27:\", I28_27.shape)\n",
    "MI28_27 = np.kron(np.eye(27), MI28)\n",
    "\n",
    "# stack an additional column of zeros to the right of MI28_27 and an additional row of zeros to the left of I28_27 and add them to get the matrix Dh\n",
    "Dh = np.hstack((np.zeros((756, 28)), I28_27)) + np.hstack((MI28_27, np.zeros((756, 28))))\n",
    "print(\"Shape of matrix Dh:\", Dh.shape)\n",
    "\n",
    "# stack matrices toeplitz_kernel, Dv and Dh to get the matrix A\n",
    "lambda_ = 0.0007\n",
    "Dv_, Dh_ = lambda_ * Dv, lambda_ * Dh\n",
    "A = np.vstack((toeplitz_kernel, Dv_, Dh_))\n",
    "print(\"Shape of matrix A:\", A.shape)\n",
    "\n",
    "# similarly stack the blurred image, zeros and zeros to get the vector b\n",
    "b = np.hstack((blurred_image.flatten(), np.zeros(756), np.zeros(756)))\n",
    "print(\"Shape of vector b:\", b.shape)\n",
    "\n",
    "# calculate the least squares solution\n",
    "x = least_squares(A, b)\n",
    "print(\"Shape of vector x:\", x.shape)\n",
    "\n",
    "# deblur the image using the least squares solution\n",
    "deblurred_image = np.reshape(x, (28, 28))\n",
    "print(\"\\nDeblurred image with lambda = 0.0007:\")\n",
    "plt.imshow(deblurred_image)"
   ]
  },
  {
   "cell_type": "markdown",
   "metadata": {},
   "source": [
    "### Variation of Lambda_\n",
    "\n",
    "Now, we vary the hyperparameters a bit to have a look at the effect of lambda_ on the deblurred image. It can be seen that for large values of lambda_, the image is not deblurred properly but it is very smooth. For small values of lambda_, the image is deblurred properly but it is not very smooth. Hence intermediate values should be chosen appropriately."
   ]
  },
  {
   "cell_type": "code",
   "execution_count": 28,
   "metadata": {},
   "outputs": [
    {
     "name": "stdout",
     "output_type": "stream",
     "text": [
      "\n",
      "Deblurred image with lambda = 0.0001:\n"
     ]
    },
    {
     "data": {
      "text/plain": [
       "<matplotlib.image.AxesImage at 0x203801baad0>"
      ]
     },
     "execution_count": 28,
     "metadata": {},
     "output_type": "execute_result"
    },
    {
     "data": {
      "image/png": "[encoded data removed]",
      "text/plain": [
       "<Figure size 640x480 with 1 Axes>"
      ]
     },
     "metadata": {},
     "output_type": "display_data"
    }
   ],
   "source": [
    "# lambda = 0.0001\n",
    "lambda_ = 0.0001\n",
    "Dv_, Dh_ = lambda_ * Dv, lambda_ * Dh\n",
    "A = np.vstack((toeplitz_kernel, Dv_, Dh_))\n",
    "x = least_squares(A, b)\n",
    "deblurred_image = np.reshape(x, (28, 28))\n",
    "print(\"\\nDeblurred image with lambda = 0.0001:\")\n",
    "plt.imshow(deblurred_image)"
   ]
  },
  {
   "cell_type": "code",
   "execution_count": 29,
   "metadata": {},
   "outputs": [
    {
     "name": "stdout",
     "output_type": "stream",
     "text": [
      "\n",
      "Deblurred image with lambda = 0:\n"
     ]
    },
    {
     "data": {
      "text/plain": [
       "<matplotlib.image.AxesImage at 0x20380172e10>"
      ]
     },
     "execution_count": 29,
     "metadata": {},
     "output_type": "execute_result"
    },
    {
     "data": {
      "image/png": "[encoded data removed]",
      "text/plain": [
       "<Figure size 640x480 with 1 Axes>"
      ]
     },
     "metadata": {},
     "output_type": "display_data"
    }
   ],
   "source": [
    "# lambda = 0\n",
    "lambda_ = 0\n",
    "Dv_, Dh_ = lambda_ * Dv, lambda_ * Dh\n",
    "A = np.vstack((toeplitz_kernel, Dv_, Dh_))\n",
    "x = least_squares(A, b)\n",
    "deblurred_image = np.reshape(x, (28, 28))\n",
    "print(\"\\nDeblurred image with lambda = 0:\")\n",
    "plt.imshow(deblurred_image)"
   ]
  },
  {
   "cell_type": "code",
   "execution_count": 30,
   "metadata": {},
   "outputs": [
    {
     "name": "stdout",
     "output_type": "stream",
     "text": [
      "\n",
      "Deblurred image with lambda = 0.01:\n"
     ]
    },
    {
     "data": {
      "text/plain": [
       "<matplotlib.image.AxesImage at 0x2038263aad0>"
      ]
     },
     "execution_count": 30,
     "metadata": {},
     "output_type": "execute_result"
    },
    {
     "data": {
      "image/png": "[encoded data removed]",
      "text/plain": [
       "<Figure size 640x480 with 1 Axes>"
      ]
     },
     "metadata": {},
     "output_type": "display_data"
    }
   ],
   "source": [
    "# lambda = 0.01\n",
    "lambda_ = 0.01\n",
    "Dv_, Dh_ = lambda_ * Dv, lambda_ * Dh\n",
    "A = np.vstack((toeplitz_kernel, Dv_, Dh_))\n",
    "x = least_squares(A, b)\n",
    "deblurred_image = np.reshape(x, (28, 28))\n",
    "print(\"\\nDeblurred image with lambda = 0.01:\")\n",
    "plt.imshow(deblurred_image)"
   ]
  },
  {
   "cell_type": "code",
   "execution_count": 31,
   "metadata": {},
   "outputs": [
    {
     "name": "stdout",
     "output_type": "stream",
     "text": [
      "\n",
      "Deblurred image with lambda = 0.1:\n"
     ]
    },
    {
     "data": {
      "text/plain": [
       "<matplotlib.image.AxesImage at 0x203826778d0>"
      ]
     },
     "execution_count": 31,
     "metadata": {},
     "output_type": "execute_result"
    },
    {
     "data": {
      "image/png": "[encoded data removed]",
      "text/plain": [
       "<Figure size 640x480 with 1 Axes>"
      ]
     },
     "metadata": {},
     "output_type": "display_data"
    }
   ],
   "source": [
    "# lambda = 0.1\n",
    "lambda_ = 0.1\n",
    "Dv_, Dh_ = lambda_ * Dv, lambda_ * Dh\n",
    "A = np.vstack((toeplitz_kernel, Dv_, Dh_))\n",
    "x = least_squares(A, b)\n",
    "deblurred_image = np.reshape(x, (28, 28))\n",
    "print(\"\\nDeblurred image with lambda = 0.1:\")\n",
    "plt.imshow(deblurred_image)"
   ]
  },
  {
   "cell_type": "code",
   "execution_count": 32,
   "metadata": {},
   "outputs": [
    {
     "name": "stdout",
     "output_type": "stream",
     "text": [
      "\n",
      "Deblurred image with lambda = 1:\n"
     ]
    },
    {
     "data": {
      "text/plain": [
       "<matplotlib.image.AxesImage at 0x2038246f050>"
      ]
     },
     "execution_count": 32,
     "metadata": {},
     "output_type": "execute_result"
    },
    {
     "data": {
      "image/png": "[encoded data removed]",
      "text/plain": [
       "<Figure size 640x480 with 1 Axes>"
      ]
     },
     "metadata": {},
     "output_type": "display_data"
    }
   ],
   "source": [
    "# lambda = 1\n",
    "lambda_ = 1\n",
    "Dv_, Dh_ = lambda_ * Dv, lambda_ * Dh\n",
    "A = np.vstack((toeplitz_kernel, Dv_, Dh_))\n",
    "x = least_squares(A, b)\n",
    "deblurred_image = np.reshape(x, (28, 28))\n",
    "print(\"\\nDeblurred image with lambda = 1:\")\n",
    "plt.imshow(deblurred_image)"
   ]
  },
  {
   "cell_type": "markdown",
   "metadata": {},
   "source": [
    "## Question 8\n",
    "### Note: This is the same question as 4, just that we use the analytical solution there and here we use the gradient descent algorithm.\n",
    "\n",
    "Here first of all, we generate two random vectors p and q of length 100 sampled from uniform random distribution between [-1,1].\n",
    "\n",
    "Then the target variable b is defined as pq + p^2 + q^2.\n",
    "\n",
    "Now we generate 6 basis functions as provided in order to implement the gradient descent algorithm to find the optimal weights vector x. Then we generate the matrix A of basis functions.\n",
    "\n",
    "Gradient descent algorithm is implemented using the cost function and the update weights function. x (here theta) is initialized as a random vector of length 6.\n",
    "\n",
    "The learning rate is set as 0.01 so that the algorithm converges to the optimal weights vector and the number of iterations is set as 50000. The cost graph is plotted to see how the cost function decreases with the number of iterations.\n",
    "\n",
    "As we can see very easily that the target function is a linear combination of the basis functions, the mean squared error is very close to zero and the weights vector x (or theta) is very close to [0,0,0,1,1,1] as expected."
   ]
  },
  {
   "cell_type": "code",
   "execution_count": 33,
   "metadata": {},
   "outputs": [
    {
     "data": {
      "image/png": "[encoded data removed]",
      "text/plain": [
       "<Figure size 640x480 with 1 Axes>"
      ]
     },
     "metadata": {},
     "output_type": "display_data"
    },
    {
     "name": "stdout",
     "output_type": "stream",
     "text": [
      "Coefficient vector x: [ 2.40646575e-13 -2.02928184e-14  2.29866015e-14  1.00000000e+00\n",
      "  1.00000000e+00  1.00000000e+00]\n",
      "Mean Squared Error (MSE): 1.9757127476428388e-26\n"
     ]
    }
   ],
   "source": [
    "# generate vectors p and q\n",
    "p = np.random.uniform(-1, 1, 100)\n",
    "q = np.random.uniform(-1, 1, 100)\n",
    "\n",
    "# generate the target variable b\n",
    "b = p * q + p**2 + q**2\n",
    "\n",
    "# defining the 6 basis functions\n",
    "f0 = np.ones(100)\n",
    "f1 = p\n",
    "f2 = q\n",
    "f3 = p**2\n",
    "f4 = q**2\n",
    "f5 = p * q\n",
    "\n",
    "# creating matrix A from the basis functions\n",
    "A = np.column_stack((f0, f1, f2, f3, f4, f5))\n",
    "\n",
    "# gradient descent functions\n",
    "# cost function\n",
    "def cost(x,y,theta):\n",
    "    return np.sum((x @ theta - y)**2)/(2*len(y))\n",
    "\n",
    "# gradient descent function which updates theta\n",
    "def gradient_descent(x,y,theta,learning_rate):\n",
    "    return theta - learning_rate * x.T @ (x @ theta - y) / len(y)\n",
    "\n",
    "# doing the gradient descent and plotting the cost function over iterations\n",
    "# random initial theta\n",
    "theta = np.random.randn(6)\n",
    "# print(\"Initial theta:\", theta)\n",
    "\n",
    "learning_rate = 0.01\n",
    "num_iterations = 50000\n",
    "cost_history = np.zeros(num_iterations)\n",
    "\n",
    "for i in range(num_iterations):\n",
    "    theta = gradient_descent(A,b,theta,learning_rate)\n",
    "    cost_history[i] = cost(A,b,theta)\n",
    "plt.plot(cost_history)\n",
    "plt.title(\"Cost over iterations\")\n",
    "plt.xlabel(\"Iteration\")\n",
    "plt.ylabel(\"Cost\")\n",
    "plt.show()\n",
    "\n",
    "# calculating the mse and printing the results\n",
    "mse = np.mean((A @ theta - b)**2)\n",
    "print(\"Coefficient vector x:\", theta)\n",
    "print(\"Mean Squared Error (MSE):\", mse)"
   ]
  },
  {
   "cell_type": "markdown",
   "metadata": {},
   "source": [
    "## Question 9\n",
    "\n",
    "Here, based on the given data, we have to fit 3 piece wise polynomial functions on the interval [0,1] and [1,2] and [2,3] respectively for f1, f2 and f3.\n",
    "\n",
    "It is given that f1 is degree 2 polynomial, f2 is degree 3 polynomial and f3 is degree 2 polynomial. Further, to impose continuity and differentiability at the boundaries, some additional constraints are added. The matrix A and the vector b are generated accordingly. The matrix C and the vector d are generated to impose the constraints. Finally they are stacked to get the matrix A and the vector b. Note that a heavy penalty is imposed on the constraints so that they are satisfied. (lambda_ = 100)\n",
    "\n",
    "f1(1) = f2(1) and f2(2) = f3(2) and f2'(2) = f3'(2)\n",
    "\n",
    "We get the optimal parameters and divide them into 3 parts to get the parameters for the 3 polynomials.\n",
    "\n",
    "The polynomials are printed as follows:\n",
    "\n",
    "f1(x) = 4.00 + -3.00x + 1.00x^2\n",
    "\n",
    "f2(x) = 1.00 + 0.00x + -2.00x^2 + 3.00x^3\n",
    "\n",
    "f3(x) = -35.00 + 24.00x + 1.00x^2\n",
    "\n",
    "We see that the required polynomials also satisfy the given constraints. (Note that f1'(1) != f2'(1), but it is not our constraint.)\n",
    "\n",
    "Finally, the data points and the fitted polynomials are plotted to see how well the polynomials fit the data, it can be seen that our polynomials fit the data very well."
   ]
  },
  {
   "cell_type": "code",
   "execution_count": 34,
   "metadata": {},
   "outputs": [
    {
     "name": "stdout",
     "output_type": "stream",
     "text": [
      "Shape of matrix A: (150, 10)\n",
      "Shape of vector b: (150,)\n",
      "Shape of matrix C: (3, 10)\n",
      "Shape of vector d: (3,)\n",
      "Shape of final matrix A and vector b: (153, 10) (153,)\n",
      "\n",
      "Polynomial for part 1 = 4.00 + -3.00x + 1.00x^2\n",
      "Polynomial for part 2 = 1.00 + -0.00x + -2.00x^2 + 3.00x^3\n",
      "Polynomial for part 3 = -35.00 + 24.00x + 1.00x^2\n",
      "\n",
      "Constraints:\n",
      "f1(1) = 2.00\n",
      "f2(1) = 2.00\n",
      "f2(2) = 17.00\n",
      "f3(2) = 17.00\n",
      "f2'(2) = 28.00\n",
      "f3'(2) = 28.00\n",
      "\n",
      "Plotting the data and the polynomials:\n"
     ]
    },
    {
     "data": {
      "image/png": "[encoded data removed]",
      "text/plain": [
       "<Figure size 640x480 with 1 Axes>"
      ]
     },
     "metadata": {},
     "output_type": "display_data"
    }
   ],
   "source": [
    "# loading the data\n",
    "data = pd.read_csv(\"q9.csv\")\n",
    "data = data.values\n",
    "\n",
    "# dividing the data into three parts\n",
    "part_1 = data[(data[:, 0] >= 0) & (data[:, 0] <= 1)]\n",
    "part_2 = data[(data[:, 0] > 1) & (data[:, 0] <= 2)]\n",
    "part_3 = data[(data[:, 0] > 2) & (data[:, 0] <= 3)]\n",
    "\n",
    "# define the vandermonde matrices for each part with corresponding degrees\n",
    "vander_1 = np.vander(part_1[:, 0], 3, increasing=True)\n",
    "vander_2 = np.vander(part_2[:, 0], 4, increasing=True)\n",
    "vander_3 = np.vander(part_3[:, 0], 3, increasing=True)\n",
    "\n",
    "# matrix A is the main matrix for least squares with data\n",
    "# A1, A2 and A3 are the three segments wrt the vander matrices which are joined appropriately to get the matrix A\n",
    "A1 = np.concatenate((vander_1, np.zeros((len(part_1), 4)), np.zeros((len(part_1), 3))), axis=1)\n",
    "A2 = np.concatenate((np.zeros((len(part_2), 3)), vander_2, np.zeros((len(part_2), 3))), axis=1)\n",
    "A3 = np.concatenate((np.zeros((len(part_3), 3)), np.zeros((len(part_3), 4)), vander_3), axis=1)\n",
    "A = np.concatenate((A1, A2, A3), axis=0)\n",
    "print(\"Shape of matrix A:\", A.shape)\n",
    "\n",
    "# vector b is similarly the data points stacked together\n",
    "b = np.concatenate((part_1[:, 1], part_2[:, 1], part_3[:, 1]), axis=0)\n",
    "print(\"Shape of vector b:\", b.shape)\n",
    "\n",
    "# matrix C for constraints f1(1) = f2(1) and f2(2) = f3(2) and f2'(2) = f3'(2)\n",
    "# C1, C2 and C3 are the constraint vectors with appropriate coefficients\n",
    "C1 = np.array([1, 1, 1, -1, -1, -1, -1, 0, 0, 0])   # f1(1) = f2(1)\n",
    "C2 = np.array([0, 0, 0, 1, 2, 4, 8, -1, -2, -4])    # f2(2) = f3(2)\n",
    "C3 = np.array([0, 0, 0, 0, 1, 4, 12, 0, -1, -4])    # f2'(2) = f3'(2)\n",
    "C = np.vstack((C1, C2, C3))\n",
    "print(\"Shape of matrix C:\", C.shape)\n",
    "\n",
    "# vector d is just zeros to make the constraints valid\n",
    "d = np.zeros(3)\n",
    "print(\"Shape of vector d:\", d.shape)\n",
    "\n",
    "# define lambda_ to be the regularization parameter\n",
    "# here we have taken lambda_ = 100 as it should be large enough to make the constraints the dominant factor\n",
    "lambda_ = 100\n",
    "\n",
    "# stack A and C to get the matrix A and stack b and d to get the vector b and call the least squares to get the params\n",
    "A = np.vstack((A, lambda_ * C))\n",
    "b = np.hstack((b, d))\n",
    "print(\"Shape of final matrix A and vector b:\", A.shape, b.shape)\n",
    "params = least_squares(A, b)\n",
    "\n",
    "# get the params for each part\n",
    "params_1, params_2, params_3 = params[:3], params[3:7], params[7:]\n",
    "\n",
    "# print the polynomials\n",
    "print(\"\\nPolynomial for part 1 = {:.2f} + {:.2f}x + {:.2f}x^2\".format(params_1[0], params_1[1], params_1[2]))\n",
    "print(\"Polynomial for part 2 = {:.2f} + {:.2f}x + {:.2f}x^2 + {:.2f}x^3\".format(params_2[0], params_2[1], params_2[2], params_2[3]))\n",
    "print(\"Polynomial for part 3 = {:.2f} + {:.2f}x + {:.2f}x^2\".format(params_3[0], params_3[1], params_3[2]))\n",
    "\n",
    "print(\"\\nConstraints:\")\n",
    "# reverse the order of the coefficients to get the polynomial in the correct order for the polyval function\n",
    "rev_params_1 = params_1[::-1]\n",
    "rev_params_2 = params_2[::-1]\n",
    "rev_params_3 = params_3[::-1]\n",
    "\n",
    "# check continuity\n",
    "print(\"f1(1) = {:.2f}\".format(np.polyval(rev_params_1, 1)))\n",
    "print(\"f2(1) = {:.2f}\".format(np.polyval(rev_params_2, 1)))\n",
    "print(\"f2(2) = {:.2f}\".format(np.polyval(rev_params_2, 2)))\n",
    "print(\"f3(2) = {:.2f}\".format(np.polyval(rev_params_3, 2)))\n",
    "\n",
    "# check differentiability\n",
    "print(\"f2'(2) = {:.2f}\".format(np.polyval(np.polyder(rev_params_2), 2)))\n",
    "print(\"f3'(2) = {:.2f}\".format(np.polyval(np.polyder(rev_params_3), 2)))\n",
    "\n",
    "# plotting the data and the polynomials\n",
    "print(\"\\nPlotting the data and the polynomials:\")\n",
    "plt.scatter(data[:, 0], data[:, 1], label=\"Data\", color=\"darkblue\")\n",
    "\n",
    "x = np.linspace(0, 1, 100)\n",
    "plt.plot(x, np.polyval(rev_params_1, x), label=\"Polynomial for part 1\")\n",
    "x = np.linspace(1, 2, 100)\n",
    "plt.plot(x, np.polyval(rev_params_2, x), label=\"Polynomial for part 2\")\n",
    "x = np.linspace(2, 3, 100)\n",
    "plt.plot(x, np.polyval(rev_params_3, x), label=\"Polynomial for part 3\")\n",
    "\n",
    "plt.title(\"Data and Polynomials\")\n",
    "plt.xlabel(\"x\")\n",
    "plt.ylabel(\"y\")\n",
    "plt.legend()\n",
    "plt.show()"
   ]
  },
  {
   "cell_type": "markdown",
   "metadata": {},
   "source": [
    "## Conclusion\n",
    "\n",
    "This assignment was based on least squares method and its applications. We saw how to use least squares method to solve regression problems and classification problems. We also saw how to use least squares method to solve polynomial fitting problems.\n",
    "\n",
    "Thank you."
   ]
  }
 ],
 "metadata": {
  "kernelspec": {
   "display_name": "Python 3",
   "language": "python",
   "name": "python3"
  },
  "language_info": {
   "codemirror_mode": {
    "name": "ipython",
    "version": 3
   },
   "file_extension": ".py",
   "mimetype": "text/x-python",
   "name": "python",
   "nbconvert_exporter": "python",
   "pygments_lexer": "ipython3",
   "version": "3.11.3"
  }
 },
 "nbformat": 4,
 "nbformat_minor": 2
}
