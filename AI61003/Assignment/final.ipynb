{
 "cells": [
  {
   "cell_type": "markdown",
   "metadata": {},
   "source": [
    "# Assignment 1: Least Squares\n",
    "## Name: Barun Parua\n",
    "## Roll Number: 21CS10014"
   ]
  },
  {
   "cell_type": "markdown",
   "metadata": {},
   "source": [
    "## Imports\n",
    "Here is the list of all the libraries used in this assignment."
   ]
  },
  {
   "cell_type": "code",
   "execution_count": 1121,
   "metadata": {},
   "outputs": [],
   "source": [
    "# imports\n",
    "\n",
    "# torchvision for MNIST dataset\n",
    "from torchvision.datasets import MNIST\n",
    "\n",
    "# numpy for mathematical operations\n",
    "import numpy as np\n",
    "# matplotlib for plotting graphs and images\n",
    "import matplotlib.pyplot as plt\n",
    "# pandas for data loading and printing the confusion matrix\n",
    "import pandas as pd"
   ]
  },
  {
   "cell_type": "markdown",
   "metadata": {},
   "source": [
    "## MNIST Dataset\n",
    "\n",
    "Here, the MNIST dataset is downloaded and stored separately for training and test data, hence no further splitting is required in questions 1 and 2. "
   ]
  },
  {
   "cell_type": "code",
   "execution_count": 1122,
   "metadata": {},
   "outputs": [],
   "source": [
    "# fetching and loading the MNIST dataset\n",
    "mnist_data_train = MNIST('/', train=True, download=True)\n",
    "mnist_data_test = MNIST('/', train=False, download=True)"
   ]
  },
  {
   "cell_type": "markdown",
   "metadata": {},
   "source": [
    "## Least Squares Function\n",
    "\n",
    "Main function of the assignment.\n",
    "\n",
    "This is the function that calculates the least squares solution for a given matrix A and vector b. It returns the vector x that minimizes the 2-norm of Ax-b.\n",
    "\n",
    "x is based on the formula: x = inv(A.T @ A) @ A.T @ b\n",
    "\n",
    "Note that here I have used the @ operator to denote matrix multiplication. Also, the transpose of a matrix A is denoted by A.T. Finally, inv(A) denotes the inverse of a matrix A. Here I have used the pinv function from numpy.linalg to calculate the pseudo-inverse of A, rather than the inverse of A so that the function can handle non-square and singular matrices.\n",
    "\n",
    "A corresponding function for regularized least squares is also defined, which takes in an additional parameter lambda_. The equation is modified to: x = inv(A.T @ A + lambda_ * I) @ A.T @ b"
   ]
  },
  {
   "cell_type": "code",
   "execution_count": 1123,
   "metadata": {},
   "outputs": [],
   "source": [
    "def least_squares(A, b):\n",
    "    x = np.linalg.pinv(A.T @ A) @ A.T @ b\n",
    "    return x\n",
    "\n",
    "def least_squares_regularized(A, b, lambda_):\n",
    "    x = np.linalg.pinv(A.T @ A + lambda_ * np.identity(A.shape[1])) @ A.T @ b\n",
    "    return x"
   ]
  },
  {
   "cell_type": "markdown",
   "metadata": {},
   "source": [
    "## Question 1\n",
    "\n",
    "The MNIST dataset is loaded already above. Now, we have to filter the dataset to only include classes 1 and 7 and assign them labels 1 and -1 respectively. After this the images are flattened from matrices of size 28x28 to vectors of length 784. Then, using the least squares function we train the model on train set and report the accuracy and the confusion matrix on the test set.\n",
    "\n",
    "It can be seen that the accuracy is very high, and the confusion matrix shows that the model is able to distinguish between 1 and 7 very well."
   ]
  },
  {
   "cell_type": "code",
   "execution_count": 1124,
   "metadata": {},
   "outputs": [
    {
     "name": "stdout",
     "output_type": "stream",
     "text": [
      "Shapes of the train and test data before filtering: torch.Size([60000, 28, 28]) torch.Size([10000, 28, 28])\n",
      "Shapes of X_train and X_test before flattening: (13007, 28, 28), (2163, 28, 28)\n",
      "Shapes of X_train and X_test after flattening: (13007, 784), (2163, 784)\n",
      "\n",
      "Accuracy: 0.9894\n",
      "\n",
      "Confusion Matrix:\n",
      "Predicted  -1.0   1.0\n",
      "Actual               \n",
      "-1         1007    21\n",
      " 1            2  1133\n"
     ]
    }
   ],
   "source": [
    "# function to filter the dataset to only include 1s and 7s as per the assignment\n",
    "def filter_dataset(dataset):\n",
    "    indices = (dataset.targets == 1) | (dataset.targets == 7)\n",
    "    images = dataset.data[indices]\n",
    "    labels = dataset.targets[indices]\n",
    "    return images, labels\n",
    "\n",
    "print(\"Shapes of the train and test data before filtering:\", mnist_data_train.data.shape, mnist_data_test.data.shape)\n",
    "\n",
    "# applying the filter to get the test and train data\n",
    "X_train, y_train = filter_dataset(mnist_data_train)\n",
    "X_test, y_test = filter_dataset(mnist_data_test)\n",
    "\n",
    "# assigning the labels to 1 if class is 1 and -1 if class is 7\n",
    "y_train = np.where(y_train == 1, 1, -1)\n",
    "y_test = np.where(y_test == 1, 1, -1)\n",
    "\n",
    "# making X_train and X_test numpy arrays\n",
    "X_train = np.array(X_train)\n",
    "X_test = np.array(X_test)\n",
    "\n",
    "print(f\"Shapes of X_train and X_test before flattening: {X_train.shape}, {X_test.shape}\")\n",
    "\n",
    "# vectorizing the images\n",
    "X_train = X_train.reshape(-1, 28 * 28) / 255.0\n",
    "X_test = X_test.reshape(-1, 28 * 28) / 255.0\n",
    "print(f\"Shapes of X_train and X_test after flattening: {X_train.shape}, {X_test.shape}\\n\")\n",
    "\n",
    "# adding a column of 1s to the data for the bias term\n",
    "X_train = np.hstack((np.ones((X_train.shape[0], 1)), X_train))\n",
    "X_test = np.hstack((np.ones((X_test.shape[0], 1)), X_test))\n",
    "\n",
    "# training the model to get the weights\n",
    "weights = least_squares(X_train, y_train)\n",
    "\n",
    "# predicting the labels for the test data\n",
    "y_pred = np.sign(X_test @ weights)\n",
    "\n",
    "# reporting the accuracy of the model\n",
    "accuracy = np.mean(y_pred == y_test)\n",
    "print(f\"Accuracy: {accuracy:.4f}\\n\\nConfusion Matrix:\")\n",
    "\n",
    "# plotting the confusion matrix\n",
    "confusion_matrix = pd.crosstab(y_test, y_pred, rownames=['Actual'], colnames=['Predicted'])\n",
    "print(confusion_matrix)\n"
   ]
  },
  {
   "cell_type": "markdown",
   "metadata": {},
   "source": [
    "## Question 2\n",
    "\n",
    "The MNIST dataset is loaded already above. Now, the images are flattened from matrices of size 28x28 to vectors of length 784.\n",
    "\n",
    "For each class, we have to train a separate model. Fpr this, we select samples of the current class as positive samples and randomly select equal number of samples from the other classes as negative samples to make the dataset balanced. Now using the least squares function we train the model on train set for each of the classes. Auxiliary functions are used so that repeated code is not written.\n",
    "\n",
    "Now, we have to predict the class of each test sample by using the model that gives the highest score of prediction for that sample and assigning the sample to that class. Finally we report the accuracy and the confusion matrix on the test set."
   ]
  },
  {
   "cell_type": "code",
   "execution_count": 1125,
   "metadata": {},
   "outputs": [],
   "source": [
    "# define the training and test sets as numpy arrays\n",
    "X_train, y_train = np.array(mnist_data_train.data), np.array(mnist_data_train.targets)\n",
    "X_test, y_test = np.array(mnist_data_test.data), np.array(mnist_data_test.targets)\n",
    "\n",
    "# vectorizing the images\n",
    "X_train = X_train.reshape(-1, 28 * 28) / 255.0\n",
    "X_test = X_test.reshape(-1, 28 * 28) / 255.0\n",
    "\n",
    "# function to filter the dataset to only include class i images for i in [0, 1, 2, 3, 4, 5, 6, 7, 8, 9]\n",
    "def filter_dataset(train_x, train_y, class_label):\n",
    "    indices = (train_y == class_label)\n",
    "    images = train_x[indices]\n",
    "    labels = train_y[indices]\n",
    "    return images, labels\n",
    "\n",
    "# function to select all images except those of class i for i in [0, 1, 2, 3, 4, 5, 6, 7, 8, 9]\n",
    "def filter_dataset_not(train_x, train_y, class_label):\n",
    "    indices = (train_y != class_label)\n",
    "    images = train_x[indices]\n",
    "    labels = train_y[indices]\n",
    "    return images, labels\n",
    "\n",
    "# function to train the model for a given class label\n",
    "def train_wrt_class(class_label):\n",
    "    # class label is the label of the class for which the model is being trained\n",
    "    # take the images of class and randomly sample the same number of images from the rest of the dataset\n",
    "    X_train_0, y_train_0 = filter_dataset(X_train, y_train, class_label)\n",
    "    X_train_0_not, y_train_0_not = filter_dataset_not(X_train, y_train, class_label)\n",
    "\n",
    "    # randomly sample the same number of images from the rest of the dataset\n",
    "    indices = np.random.choice(np.arange(len(X_train_0_not)), len(X_train_0))\n",
    "    X_train_0_not = X_train_0_not[indices]\n",
    "    y_train_0_not = y_train_0_not[indices]\n",
    "\n",
    "    # add the images of class 0 and the randomly sampled images from the rest of the dataset\n",
    "    X_train_0 = np.concatenate((X_train_0, X_train_0_not))\n",
    "    y_train_0 = np.concatenate((y_train_0, y_train_0_not))\n",
    "\n",
    "    print(f\"Shapes of X_train_0 and y_train_0 after filtering and sampling: {X_train_0.shape}, {y_train_0.shape}\")\n",
    "\n",
    "    # assign the labels to 1 if class is class_label and -1 if class is not class_label\n",
    "    y_train_0 = np.where(y_train_0 == class_label, 1, -1)\n",
    "    y_test_0 = np.where(y_test == class_label, 1, -1)\n",
    "\n",
    "    # add a column of 1s to the data for the bias term\n",
    "    X_train_0 = np.hstack((np.ones((X_train_0.shape[0], 1)), X_train_0))\n",
    "    X_test_0 = np.hstack((np.ones((X_test.shape[0], 1)), X_test))\n",
    "    \n",
    "    # train the model to get the weights\n",
    "    weights_0 = least_squares(X_train_0, y_train_0)\n",
    "\n",
    "    # predict the labels for the test data\n",
    "    y_pred_0 = np.sign(X_test_0 @ weights_0)\n",
    "\n",
    "    # report the accuracy of the model\n",
    "    accuracy_0 = np.mean(y_pred_0 == y_test_0)\n",
    "    print(f\"\\nAccuracy for class {class_label}: {accuracy_0:.4f}\\n\\nConfusion Matrix for class {class_label}:\")\n",
    "\n",
    "    # plot the confusion matrix\n",
    "    confusion_matrix_0 = pd.crosstab(y_test_0, y_pred_0, rownames=['Actual'], colnames=['Predicted'])\n",
    "    print(confusion_matrix_0)\n",
    "    \n",
    "    return weights_0"
   ]
  },
  {
   "cell_type": "markdown",
   "metadata": {},
   "source": [
    "### Class 0\n",
    "\n",
    "Training of the model for class 0."
   ]
  },
  {
   "cell_type": "code",
   "execution_count": 1126,
   "metadata": {},
   "outputs": [
    {
     "name": "stdout",
     "output_type": "stream",
     "text": [
      "Shapes of X_train_0 and y_train_0 after filtering and sampling: (11846, 784), (11846,)\n",
      "\n",
      "Accuracy for class 0: 0.9736\n",
      "\n",
      "Confusion Matrix for class 0:\n",
      "Predicted  -1.0   1.0\n",
      "Actual               \n",
      "-1         8769   251\n",
      " 1           13   967\n"
     ]
    }
   ],
   "source": [
    "# class 0\n",
    "weights_0 = train_wrt_class(0)"
   ]
  },
  {
   "cell_type": "markdown",
   "metadata": {},
   "source": [
    "### Class 1\n",
    "\n",
    "Training of the model for class 1."
   ]
  },
  {
   "cell_type": "code",
   "execution_count": 1127,
   "metadata": {},
   "outputs": [
    {
     "name": "stdout",
     "output_type": "stream",
     "text": [
      "Shapes of X_train_0 and y_train_0 after filtering and sampling: (13484, 784), (13484,)\n",
      "\n",
      "Accuracy for class 1: 0.9651\n",
      "\n",
      "Confusion Matrix for class 1:\n",
      "Predicted  -1.0   1.0\n",
      "Actual               \n",
      "-1         8528   337\n",
      " 1           12  1123\n"
     ]
    }
   ],
   "source": [
    "# class 1\n",
    "weights_1 = train_wrt_class(1)"
   ]
  },
  {
   "cell_type": "markdown",
   "metadata": {},
   "source": [
    "### Class 2\n",
    "\n",
    "Training of the model for class 2."
   ]
  },
  {
   "cell_type": "code",
   "execution_count": 1128,
   "metadata": {},
   "outputs": [
    {
     "name": "stdout",
     "output_type": "stream",
     "text": [
      "Shapes of X_train_0 and y_train_0 after filtering and sampling: (11916, 784), (11916,)\n",
      "\n",
      "Accuracy for class 2: 0.9517\n",
      "\n",
      "Confusion Matrix for class 2:\n",
      "Predicted  -1.0   1.0\n",
      "Actual               \n",
      "-1         8571   397\n",
      " 1           86   946\n"
     ]
    }
   ],
   "source": [
    "# class 2\n",
    "weights_2 = train_wrt_class(2)"
   ]
  },
  {
   "cell_type": "markdown",
   "metadata": {},
   "source": [
    "### Class 3\n",
    "\n",
    "Training of the model for class 3."
   ]
  },
  {
   "cell_type": "code",
   "execution_count": 1129,
   "metadata": {},
   "outputs": [
    {
     "name": "stdout",
     "output_type": "stream",
     "text": [
      "Shapes of X_train_0 and y_train_0 after filtering and sampling: (12262, 784), (12262,)\n",
      "\n",
      "Accuracy for class 3: 0.9283\n",
      "\n",
      "Confusion Matrix for class 3:\n",
      "Predicted  -1.0   1.0\n",
      "Actual               \n",
      "-1         8332   658\n",
      " 1           59   951\n"
     ]
    }
   ],
   "source": [
    "# class 3\n",
    "weights_3 = train_wrt_class(3)"
   ]
  },
  {
   "cell_type": "markdown",
   "metadata": {},
   "source": [
    "### Class 4\n",
    "\n",
    "Training of the model for class 4."
   ]
  },
  {
   "cell_type": "code",
   "execution_count": 1130,
   "metadata": {},
   "outputs": [
    {
     "name": "stdout",
     "output_type": "stream",
     "text": [
      "Shapes of X_train_0 and y_train_0 after filtering and sampling: (11684, 784), (11684,)\n",
      "\n",
      "Accuracy for class 4: 0.9391\n",
      "\n",
      "Confusion Matrix for class 4:\n",
      "Predicted  -1.0   1.0\n",
      "Actual               \n",
      "-1         8434   584\n",
      " 1           25   957\n"
     ]
    }
   ],
   "source": [
    "# class 4\n",
    "weights_4 = train_wrt_class(4)"
   ]
  },
  {
   "cell_type": "markdown",
   "metadata": {},
   "source": [
    "### Class 5\n",
    "\n",
    "Training of the model for class 5."
   ]
  },
  {
   "cell_type": "code",
   "execution_count": 1131,
   "metadata": {},
   "outputs": [
    {
     "name": "stdout",
     "output_type": "stream",
     "text": [
      "Shapes of X_train_0 and y_train_0 after filtering and sampling: (10842, 784), (10842,)\n",
      "\n",
      "Accuracy for class 5: 0.9016\n",
      "\n",
      "Confusion Matrix for class 5:\n",
      "Predicted  -1.0   1.0\n",
      "Actual               \n",
      "-1         8175   933\n",
      " 1           51   841\n"
     ]
    }
   ],
   "source": [
    "# class 5\n",
    "weights_5 = train_wrt_class(5)"
   ]
  },
  {
   "cell_type": "markdown",
   "metadata": {},
   "source": [
    "### Class 6\n",
    "\n",
    "Training of the model for class 6."
   ]
  },
  {
   "cell_type": "code",
   "execution_count": 1132,
   "metadata": {},
   "outputs": [
    {
     "name": "stdout",
     "output_type": "stream",
     "text": [
      "Shapes of X_train_0 and y_train_0 after filtering and sampling: (11836, 784), (11836,)\n",
      "\n",
      "Accuracy for class 6: 0.9654\n",
      "\n",
      "Confusion Matrix for class 6:\n",
      "Predicted  -1.0   1.0\n",
      "Actual               \n",
      "-1         8731   311\n",
      " 1           35   923\n"
     ]
    }
   ],
   "source": [
    "# class 6\n",
    "weights_6 = train_wrt_class(6)"
   ]
  },
  {
   "cell_type": "markdown",
   "metadata": {},
   "source": [
    "### Class 7\n",
    "\n",
    "Training of the model for class 7."
   ]
  },
  {
   "cell_type": "code",
   "execution_count": 1133,
   "metadata": {},
   "outputs": [
    {
     "name": "stdout",
     "output_type": "stream",
     "text": [
      "Shapes of X_train_0 and y_train_0 after filtering and sampling: (12530, 784), (12530,)\n",
      "\n",
      "Accuracy for class 7: 0.9510\n",
      "\n",
      "Confusion Matrix for class 7:\n",
      "Predicted  -1.0   1.0\n",
      "Actual               \n",
      "-1         8533   439\n",
      " 1           51   977\n"
     ]
    }
   ],
   "source": [
    "# class 7\n",
    "weights_7 = train_wrt_class(7)"
   ]
  },
  {
   "cell_type": "markdown",
   "metadata": {},
   "source": [
    "### Class 8\n",
    "\n",
    "Training of the model for class 8."
   ]
  },
  {
   "cell_type": "code",
   "execution_count": 1134,
   "metadata": {},
   "outputs": [
    {
     "name": "stdout",
     "output_type": "stream",
     "text": [
      "Shapes of X_train_0 and y_train_0 after filtering and sampling: (11702, 784), (11702,)\n",
      "\n",
      "Accuracy for class 8: 0.8956\n",
      "\n",
      "Confusion Matrix for class 8:\n",
      "Predicted  -1.0   1.0\n",
      "Actual               \n",
      "-1         8071   955\n",
      " 1           89   885\n"
     ]
    }
   ],
   "source": [
    "# class 8\n",
    "weights_8 = train_wrt_class(8)"
   ]
  },
  {
   "cell_type": "markdown",
   "metadata": {},
   "source": [
    "### Class 9\n",
    "\n",
    "Training of the model for class 9."
   ]
  },
  {
   "cell_type": "code",
   "execution_count": 1135,
   "metadata": {},
   "outputs": [
    {
     "name": "stdout",
     "output_type": "stream",
     "text": [
      "Shapes of X_train_0 and y_train_0 after filtering and sampling: (11898, 784), (11898,)\n",
      "\n",
      "Accuracy for class 9: 0.8933\n",
      "\n",
      "Confusion Matrix for class 9:\n",
      "Predicted  -1.0   1.0\n",
      "Actual               \n",
      "-1         8000   991\n",
      " 1           76   933\n"
     ]
    }
   ],
   "source": [
    "# class 9\n",
    "weights_9 = train_wrt_class(9)"
   ]
  },
  {
   "cell_type": "markdown",
   "metadata": {},
   "source": [
    "### Using the models to get the confidence scores and assigning the class with highest score\n",
    "\n",
    "Now, we have to predict the class of each test sample by using the model that gives the highest score of prediction for that sample and assigning the sample to that class. Finally we report the accuracy and the confusion matrix on the test set."
   ]
  },
  {
   "cell_type": "code",
   "execution_count": 1136,
   "metadata": {},
   "outputs": [
    {
     "name": "stdout",
     "output_type": "stream",
     "text": [
      "Accuracy of the model: 0.8814\n",
      "\n",
      "Confusion Matrix:\n",
      "Predicted    0     1    2    3    4    5    6    7    8    9\n",
      "Actual                                                      \n",
      "0          923     1    5    1    2   27   13    2    4    2\n",
      "1            0  1094    2    3    1    5    4    0   26    0\n",
      "2           12    25  844   22   21   10   17   14   57   10\n",
      "3           10     6   21  866    3   44    6   13   28   13\n",
      "4            1     6    4    5  902    2    4    2    7   49\n",
      "5           11    11    0   31   16  753   19    6   29   16\n",
      "6            8     9    7    2   14   38  866    2   11    1\n",
      "7            2    26   24   11   16    7    1  859    3   79\n",
      "8            5    22    7   22   16   36   11   11  823   21\n",
      "9           11    12    0   13   45   13    0   21   10  884\n"
     ]
    }
   ],
   "source": [
    "# function to predict the class of an image by calculating the confidence scores for each class\n",
    "def predict_class(image):\n",
    "    # add a column of 1s to the image for the bias term\n",
    "    image = np.hstack((1, image))\n",
    "    confidence_scores = np.array([image @ weights_0, image @ weights_1, image @ weights_2, image @ weights_3, image @ weights_4, image @ weights_5, image @ weights_6, image @ weights_7, image @ weights_8, image @ weights_9])\n",
    "    \n",
    "    # return the class with the highest confidence score\n",
    "    return np.argmax(confidence_scores)\n",
    "\n",
    "# predicting the classes of the test images\n",
    "y_pred = np.array([predict_class(image) for image in X_test])\n",
    "\n",
    "# reporting the accuracy of the model\n",
    "accuracy = np.mean(y_pred == y_test)\n",
    "print(f\"Accuracy of the model: {accuracy:.4f}\\n\\nConfusion Matrix:\")\n",
    "\n",
    "# plotting the confusion matrix\n",
    "confusion_matrix = pd.crosstab(y_test, y_pred, rownames=['Actual'], colnames=['Predicted'])\n",
    "print(confusion_matrix)"
   ]
  },
  {
   "cell_type": "markdown",
   "metadata": {},
   "source": [
    "## Question 3\n",
    "\n",
    "Here first of all, we generate two random vectors p and q of length 100 sampled from uniform random distribution between [-10,10].\n",
    "\n",
    "Then the target variable b is defined as bi = +1 if pi*qi > 1 and bi = -1 otherwise, for i = 1,2,...,100.\n",
    "\n",
    "Now we generate 6 basis functions as provided. Then we generate the matrix A of basis functions.\n",
    "\n",
    "Now, we use the least squares method to find the optimal weights vector x. The optimal weights vector x is given by the formula (A^T A)^-1 A^T b, where A is the matrix of basis functions and b is the target variable vector.\n",
    "\n",
    "We get the weight vector x in this way and report x as well as the accuracy of the model."
   ]
  },
  {
   "cell_type": "code",
   "execution_count": 1137,
   "metadata": {},
   "outputs": [
    {
     "name": "stdout",
     "output_type": "stream",
     "text": [
      "Coefficient vector x: [-0.18517371  0.00187451  0.01430904  0.00532639 -0.00102931  0.02398185]\n",
      "Accuracy: 0.93\n"
     ]
    }
   ],
   "source": [
    "# generate vectors p and q\n",
    "p = np.random.uniform(-10, 10, 100)\n",
    "q = np.random.uniform(-10, 10, 100)\n",
    "\n",
    "# generate the target variable b\n",
    "b = np.where(p*q > 1, 1, -1)\n",
    "\n",
    "# defining the 6 basis functions\n",
    "f0 = np.ones(100)\n",
    "f1 = p\n",
    "f2 = q\n",
    "f3 = p**2\n",
    "f4 = q**2\n",
    "f5 = p * q\n",
    "\n",
    "# creating matrix A from the basis functions\n",
    "A = np.column_stack((f0, f1, f2, f3, f4, f5))\n",
    "\n",
    "# calling the least squares function to calculate the coefficient vector x\n",
    "x = least_squares(A, b)\n",
    "print(f'Coefficient vector x: {x}')\n",
    "\n",
    "# calculating the predicted values\n",
    "y_pred = np.sign(A @ x)\n",
    "accuracy = np.mean(y_pred == b)\n",
    "print(f'Accuracy: {accuracy}')"
   ]
  },
  {
   "cell_type": "markdown",
   "metadata": {},
   "source": [
    "## Question 4\n",
    "\n",
    "Here first of all, we generate two random vectors p and q of length 100 sampled from uniform random distribution between [-1,1].\n",
    "\n",
    "Then the target variable b is defined as pq + p^2 + q^2.\n",
    "\n",
    "Now we generate 6 basis functions as provided. Then we generate the matrix A of basis functions.\n",
    "\n",
    "Now, we use the least squares method to find the optimal weights vector x. The optimal weights vector x is given by the formula (A^T A)^-1 A^T b, where A is the matrix of basis functions and b is the target variable vector.\n",
    "\n",
    "As we can see very easily that the target function is a linear combination of the basis functions, the mean squared error is very close to zero and the weights vector x is very close to [0,0,0,1,1,1] as expected."
   ]
  },
  {
   "cell_type": "code",
   "execution_count": 1138,
   "metadata": {},
   "outputs": [
    {
     "name": "stdout",
     "output_type": "stream",
     "text": [
      "Coefficient vector x: [ 2.49800181e-16 -8.32667268e-17 -8.32667268e-17  1.00000000e+00\n",
      "  1.00000000e+00  1.00000000e+00]\n",
      "Mean Squared Error (MSE): 6.559527806854025e-32\n"
     ]
    }
   ],
   "source": [
    "# generate vectors p and q\n",
    "p = np.random.uniform(-1, 1, 100)\n",
    "q = np.random.uniform(-1, 1, 100)\n",
    "\n",
    "# generate the target variable b\n",
    "b = p * q + p**2 + q**2\n",
    "\n",
    "# defining the 6 basis functions\n",
    "f0 = np.ones(100)\n",
    "f1 = p\n",
    "f2 = q\n",
    "f3 = p**2\n",
    "f4 = q**2\n",
    "f5 = p * q\n",
    "\n",
    "# creating matrix A from the basis functions\n",
    "A = np.column_stack((f0, f1, f2, f3, f4, f5))\n",
    "\n",
    "# calling the least squares function to calculate the coefficient vector x\n",
    "x = least_squares(A, b)\n",
    "\n",
    "# calculating the mse and printing the results\n",
    "mse = np.mean((A @ x - b)**2)\n",
    "print(\"Coefficient vector x:\", x)\n",
    "print(\"Mean Squared Error (MSE):\", mse)"
   ]
  },
  {
   "cell_type": "markdown",
   "metadata": {},
   "source": [
    "## Question 5\n",
    "\n"
   ]
  },
  {
   "cell_type": "markdown",
   "metadata": {},
   "source": [
    "## Triangular Basis Function\n",
    "\n",
    "In this question we deal with the triangular basis function. The function to generate the triangular basis function is defined below, so as to reduce repeated code and make the code more readable.\n",
    "\n",
    "p is again a vector of length 100 sampled from uniform random distribution between [0,1]. b is defined as b = 7p - 3p^2 and we have to generate the coefficients of the triangular basis function."
   ]
  },
  {
   "cell_type": "code",
   "execution_count": 1139,
   "metadata": {},
   "outputs": [],
   "source": [
    "# generate random vector p of size 100 ranging from 0 to 1\n",
    "p = np.random.uniform(0, 1, 100)\n",
    "\n",
    "# define b = 7p - 3p^2\n",
    "b = 7*p - 3*(p**2)\n",
    "\n",
    "# basis function matrix generating function\n",
    "def gen_basis_matrix(p, c):\n",
    "    A = [[0 for _ in range(c)] for _ in range(100)]\n",
    "    for i in range(100):\n",
    "        for j in range(c):\n",
    "            # if p[i] is in the interval [j/c, (j+1)/c), then A[i][j] = (2j+1)/(2c) - |p[i] - (2j+1)/(2c)|\n",
    "            # else A[i][j] = 0\n",
    "            if j / c <= p[i] and p[i] < (j + 1) / c:\n",
    "                A[i][j] = ((2 * j + 1) / (2 * c) - np.abs(p[i] - (2 * j + 1) / (2 * c))) * 2 * c\n",
    "            else:\n",
    "                A[i][j] = 0\n",
    "    return A"
   ]
  },
  {
   "cell_type": "markdown",
   "metadata": {},
   "source": [
    "### Part A (Normal Least Squares)\n",
    "\n",
    "Normal least squares method is used to find the optimal weights vector x. The optimal weights vector x is given by the formula (A^T A)^-1 A^T b, where A is the matrix of basis functions and b is the target variable vector. The coefficient vector x and the mean squared error are reported."
   ]
  },
  {
   "cell_type": "markdown",
   "metadata": {},
   "source": [
    "n = 10"
   ]
  },
  {
   "cell_type": "code",
   "execution_count": 1140,
   "metadata": {},
   "outputs": [
    {
     "name": "stdout",
     "output_type": "stream",
     "text": [
      "Results for 10 basis functions:\n",
      "Coefficient vector x: [0.43713473 0.35455605 0.35552762 0.33108385 0.2938685  0.27804981\n",
      " 0.25892975 0.24432323 0.23011863 0.2123285 ]\n",
      "Mean Squared Error (MSE): 0.03087145230549008\n"
     ]
    }
   ],
   "source": [
    "# number of basis functions = 10\n",
    "A = np.array(gen_basis_matrix(p, 10))\n",
    "\n",
    "# least squares solution\n",
    "x = least_squares(A, b)\n",
    "\n",
    "# calculate the mse and print the results\n",
    "mse = np.mean((A @ x - b)**2)\n",
    "print(\"Results for 10 basis functions:\")\n",
    "print(\"Coefficient vector x:\", x)\n",
    "print(\"Mean Squared Error (MSE):\", mse)"
   ]
  },
  {
   "cell_type": "markdown",
   "metadata": {},
   "source": [
    "n = 50"
   ]
  },
  {
   "cell_type": "code",
   "execution_count": 1141,
   "metadata": {},
   "outputs": [
    {
     "name": "stdout",
     "output_type": "stream",
     "text": [
      "Results for 50 basis functions:\n",
      "Coefficient vector x: [0.06980176 0.06920087 0.07143507 0.         0.07647679 0.\n",
      " 0.06730723 0.06556477 0.0650792  0.06438561 0.06390306 0.06327025\n",
      " 0.06710545 0.06287522 0.06187342 0.         0.06023136 0.06091075\n",
      " 0.05951026 0.05873236 0.05838158 0.05806907 0.05707823 0.05639534\n",
      " 0.05603566 0.05537321 0.05431423 0.05356426 0.05298323 0.05306388\n",
      " 0.05232012 0.05160282 0.05125987 0.05000449 0.         0.04870948\n",
      " 0.04826483 0.0477393  0.         0.04685446 0.         0.\n",
      " 0.04488421 0.04423555 0.0434018  0.04292966 0.04225718 0.04169471\n",
      " 0.         0.04044921]\n",
      "Mean Squared Error (MSE): 0.0004940345177771198\n"
     ]
    }
   ],
   "source": [
    "# number of basis functions = 50\n",
    "A = np.array(gen_basis_matrix(p, 50))\n",
    "\n",
    "# least squares solution\n",
    "x = least_squares(A, b)\n",
    "\n",
    "# calculate the mse and print the results\n",
    "mse = np.mean((A @ x - b)**2)\n",
    "print(\"Results for 50 basis functions:\")\n",
    "print(\"Coefficient vector x:\", x)\n",
    "print(\"Mean Squared Error (MSE):\", mse)"
   ]
  },
  {
   "cell_type": "markdown",
   "metadata": {},
   "source": [
    "### Part B (Regularized Least Squares)\n",
    "\n",
    "Here we do the same thing as in part A, but using regularized least squares instead of least squares. The lambda_ parameter is randomly sampled from a uniform distribution between [0,0.2].\n",
    "\n",
    "The values of n in this cases are 150 and 200. The least squares regularized method is used to find the optimal weights vector x. The optimal weights vector x is given by the formula (A^T A + lambda_ * I)^-1 A^T b, where A is the matrix of basis functions and b is the target variable vector. Note that here x is commented out as it takes too much space to print and only the mse is reported. If required, please uncomment the print statement to see the value of x."
   ]
  },
  {
   "cell_type": "markdown",
   "metadata": {},
   "source": [
    "n = 150"
   ]
  },
  {
   "cell_type": "code",
   "execution_count": 1142,
   "metadata": {},
   "outputs": [
    {
     "name": "stdout",
     "output_type": "stream",
     "text": [
      "Results for 150 basis functions and lambda = 0.03368931148598473:\n",
      "Mean Squared Error (MSE): 5.136207175976154e-05\n",
      "\n",
      "Results for 150 basis functions and lambda = 0.09248339471499052:\n",
      "Mean Squared Error (MSE): 5.1607311891533036e-05\n",
      "\n",
      "Results for 150 basis functions and lambda = 0.07382671291204619:\n",
      "Mean Squared Error (MSE): 5.1571372779876634e-05\n",
      "\n",
      "Results for 150 basis functions and lambda = 0.16657075344229555:\n",
      "Mean Squared Error (MSE): 5.16718837139642e-05\n",
      "\n",
      "Results for 150 basis functions and lambda = 0.04106586699300899:\n",
      "Mean Squared Error (MSE): 5.143080968683853e-05\n",
      "\n"
     ]
    }
   ],
   "source": [
    "# number of basis functions = 150\n",
    "A = np.array(gen_basis_matrix(p, 150))\n",
    "\n",
    "# pick 5 random values of lambda from 0 to 0.2\n",
    "lambdas = np.random.uniform(0, 0.2, 5)\n",
    "for lambda_ in lambdas:\n",
    "    # least squares regularized solution\n",
    "    x = least_squares_regularized(A, b, lambda_)\n",
    "\n",
    "    # calculate the mse and print the results\n",
    "    mse = np.mean((A @ x - b)**2)\n",
    "    print(f\"Results for 150 basis functions and lambda = {lambda_}:\")\n",
    "    # print(\"Coefficient vector x:\", x)\n",
    "    print(\"Mean Squared Error (MSE):\", mse)\n",
    "    print()"
   ]
  },
  {
   "cell_type": "markdown",
   "metadata": {},
   "source": [
    "n = 200"
   ]
  },
  {
   "cell_type": "code",
   "execution_count": 1143,
   "metadata": {},
   "outputs": [
    {
     "name": "stdout",
     "output_type": "stream",
     "text": [
      "Results for 200 basis functions and lambda = 0.15068443913803017:\n",
      "Mean Squared Error (MSE): 1.0431234281038182e-05\n",
      "\n",
      "Results for 200 basis functions and lambda = 0.031513039234186135:\n",
      "Mean Squared Error (MSE): 1.0420468681960136e-05\n",
      "\n",
      "Results for 200 basis functions and lambda = 0.17827666299542508:\n",
      "Mean Squared Error (MSE): 1.0435637705770329e-05\n",
      "\n",
      "Results for 200 basis functions and lambda = 0.1450920250600131:\n",
      "Mean Squared Error (MSE): 1.0430426975900057e-05\n",
      "\n",
      "Results for 200 basis functions and lambda = 0.16544179106019807:\n",
      "Mean Squared Error (MSE): 1.0433502880026447e-05\n",
      "\n"
     ]
    }
   ],
   "source": [
    "# number of basis functions = 200\n",
    "A = np.array(gen_basis_matrix(p, 200))\n",
    "\n",
    "# pick 5 random values of lambda from 0 to 0.2\n",
    "lambdas = np.random.uniform(0, 0.2, 5)\n",
    "for lambda_ in lambdas:\n",
    "    # least squares regularized solution\n",
    "    x = least_squares_regularized(A, b, lambda_)\n",
    "\n",
    "    # calculate the mse and print the results\n",
    "    mse = np.mean((A @ x - b)**2)\n",
    "    print(f\"Results for 200 basis functions and lambda = {lambda_}:\")\n",
    "    # print(\"Coefficient vector x:\", x)\n",
    "    print(\"Mean Squared Error (MSE):\", mse)\n",
    "    print()"
   ]
  },
  {
   "cell_type": "markdown",
   "metadata": {},
   "source": [
    "## Question 6\n",
    "\n",
    "Here we have a csv file with various kinds of data. However according to the assignment, we only have to consider the consumption column as the data and build a auto-regressive model for it. We take the last 8 values of the consumption column as the lagged values and the current value as the target variable.\n",
    "\n",
    "This way, we build the matrix A of data points and the vector b of target variables. Then we use the least squares method to find the optimal weights vector x. As we know that the last 8 values of the consumption column are the lagged values, we can use the last 8 values of the weights vector x to predict the next value of the consumption column.\n",
    "\n",
    "Finally, the weights vector x and the next day's predicted value of the consumption column are reported."
   ]
  },
  {
   "cell_type": "code",
   "execution_count": 1144,
   "metadata": {},
   "outputs": [
    {
     "name": "stdout",
     "output_type": "stream",
     "text": [
      "Mean of Consumption: 1338.6758355897787\n",
      "Lagged data: [[1069.184   1380.521   1442.533   ... 1403.427   1300.287   1207.985  ]\n",
      " [1380.521   1442.533   1457.217   ... 1300.287   1207.985   1529.323  ]\n",
      " [1442.533   1457.217   1477.131   ... 1207.985   1529.323   1576.911  ]\n",
      " ...\n",
      " [1520.37206 1423.23782 1272.17085 ... 1130.11683 1263.94091 1299.86398]\n",
      " [1423.23782 1272.17085 1141.7573  ... 1263.94091 1299.86398 1295.08753]\n",
      " [1272.17085 1141.7573  1111.28338 ... 1299.86398 1295.08753 1215.44897]]\n",
      "Target variable: [1529.323   1576.911   1577.176   ... 1295.08753 1215.44897 1107.11488]\n",
      "\n",
      "Weights: [-0.48031652  0.79451371  0.0741064   0.00317865 -0.04130348  0.08092347\n",
      " -0.08570714  0.65400841]\n",
      "Predicted value for the next day: 1093.2953728795715\n"
     ]
    }
   ],
   "source": [
    "# loading the dataset\n",
    "data = pd.read_csv('q6.csv')\n",
    "\n",
    "# extracting the consumption column and converting it to a numpy array\n",
    "y = np.array(data['Consumption'])\n",
    "print(\"Mean of Consumption:\", np.mean(y))\n",
    "# print(\"Shape of Consumption:\", y.shape)\n",
    "\n",
    "# creating a new dataset where lag_1 to lag_8 are the features and the next value of consumption is the target variable\n",
    "X = np.zeros((len(y) - 8, 8))\n",
    "for i in range(len(y) - 8):\n",
    "    X[i] = y[i:i+8]\n",
    "print(\"Lagged data:\", X)\n",
    "y = y[8:]\n",
    "print(\"Target variable:\", y)\n",
    "\n",
    "# fit the model using least squares\n",
    "weights = least_squares(X, y)\n",
    "\n",
    "# y_new is the last 8 values of the consumption column\n",
    "# y_pred is the predicted value for the next day\n",
    "y_new = y[-8:]\n",
    "y_pred = y_new @ weights\n",
    "\n",
    "# print the results\n",
    "print(\"\\nWeights:\", weights)\n",
    "print(\"Predicted value for the next day:\", y_pred)"
   ]
  },
  {
   "cell_type": "markdown",
   "metadata": {},
   "source": [
    "## Question 7\n",
    "\n"
   ]
  },
  {
   "cell_type": "code",
   "execution_count": 1145,
   "metadata": {},
   "outputs": [
    {
     "name": "stdout",
     "output_type": "stream",
     "text": [
      "Initial image:\n"
     ]
    },
    {
     "data": {
      "image/png": "[encoded data removed]",
      "text/plain": [
       "<Figure size 640x480 with 1 Axes>"
      ]
     },
     "metadata": {},
     "output_type": "display_data"
    }
   ],
   "source": [
    "# get any image from MNIST dataset, here we are getting the 42nd image\n",
    "image = np.array(mnist_data_train.data[42])\n",
    "print(\"Initial image:\")\n",
    "plt.imshow(image)\n",
    "flat_image = image.flatten()"
   ]
  },
  {
   "cell_type": "code",
   "execution_count": 1146,
   "metadata": {},
   "outputs": [
    {
     "name": "stdout",
     "output_type": "stream",
     "text": [
      "Shape of toeplitz kernel: (784, 784)\n",
      "Toeplitz kernel:\n",
      " [[0.0625 0.125  0.0625 ... 0.     0.     0.    ]\n",
      " [0.     0.0625 0.125  ... 0.     0.     0.    ]\n",
      " [0.     0.     0.0625 ... 0.     0.     0.    ]\n",
      " ...\n",
      " [0.     0.     0.     ... 0.0625 0.125  0.0625]\n",
      " [0.0625 0.     0.     ... 0.     0.0625 0.125 ]\n",
      " [0.125  0.0625 0.     ... 0.     0.     0.0625]]\n",
      "\n",
      "Blurred image:\n"
     ]
    },
    {
     "data": {
      "text/plain": [
       "<matplotlib.image.AxesImage at 0x2108612f210>"
      ]
     },
     "execution_count": 1146,
     "metadata": {},
     "output_type": "execute_result"
    },
    {
     "data": {
      "image/png": "[encoded data removed]",
      "text/plain": [
       "<Figure size 640x480 with 1 Axes>"
      ]
     },
     "metadata": {},
     "output_type": "display_data"
    }
   ],
   "source": [
    "# define the kernel vector as a 784x1 vector instead of a 3x3 matrix\n",
    "# this is so that we can generate the toeplitz matrix of the kernel\n",
    "kernel = np.zeros(784)\n",
    "kernel[0], kernel[1], kernel[2] = 1/16, 1/8, 1/16\n",
    "kernel[28], kernel[29], kernel[30] = 1/8, 1/4, 1/8\n",
    "kernel[56], kernel[57], kernel[58] = 1/16, 1/8, 1/16\n",
    "\n",
    "# get the toeplitz matrix of the kernel\n",
    "# np.roll is used to shift the kernel by i places to the right\n",
    "toeplitz_kernel = np.zeros((784, 784))\n",
    "for i in range(784):\n",
    "    toeplitz_kernel[i] = np.roll(kernel, i)\n",
    "print(\"Shape of toeplitz kernel:\", toeplitz_kernel.shape)\n",
    "print(\"Toeplitz kernel:\\n\", toeplitz_kernel)\n",
    "\n",
    "# get the blurred image by multiplying the toeplitz matrix with the flattened image\n",
    "# equivalent to convolving the image with the kernel matrix\n",
    "blurred_image = toeplitz_kernel @ flat_image\n",
    "\n",
    "# reshape the blurred image to 28x28 to get the image\n",
    "blurred_image = np.reshape(blurred_image, (28, 28))\n",
    "print(\"\\nBlurred image:\")\n",
    "plt.imshow(blurred_image)"
   ]
  },
  {
   "cell_type": "code",
   "execution_count": 1147,
   "metadata": {},
   "outputs": [
    {
     "name": "stdout",
     "output_type": "stream",
     "text": [
      "Shape of matrix D: (27, 28)\n",
      "Shape of matrix Dv: (756, 784)\n",
      "Shape of matrix Dh: (756, 784)\n",
      "Shape of matrix A: (2296, 784)\n",
      "Shape of vector b: (2296,)\n"
     ]
    },
    {
     "name": "stdout",
     "output_type": "stream",
     "text": [
      "Shape of vector x: (784,)\n",
      "\n",
      "Deblurred image with lambda = 0.0007:\n"
     ]
    },
    {
     "data": {
      "text/plain": [
       "<matplotlib.image.AxesImage at 0x210d9ae6110>"
      ]
     },
     "execution_count": 1147,
     "metadata": {},
     "output_type": "execute_result"
    },
    {
     "data": {
      "image/png": "[encoded data removed]",
      "text/plain": [
       "<Figure size 640x480 with 1 Axes>"
      ]
     },
     "metadata": {},
     "output_type": "display_data"
    }
   ],
   "source": [
    "# deblurring the image using the least squares solution\n",
    "\n",
    "# generating identity matrices of size 27 and 28 along with their negative counterparts for ease of use\n",
    "I27 = np.identity(27)\n",
    "MI27 = -I27\n",
    "I28 = np.identity(28)\n",
    "MI28 = -I28\n",
    "\n",
    "# stack an additional column of zeros to the right of MI27 and an additional row of zeros to the left of I27 and add them to get the matrix D\n",
    "# we can see that this is equivalent to the matrix D in the assignment\n",
    "D = np.hstack((np.zeros((27, 1)), I27)) + np.hstack((MI27, np.zeros((27, 1))))\n",
    "print(\"Shape of matrix D:\", D.shape)\n",
    "\n",
    "# matrix Dv using D as the diagonal block element\n",
    "# Dv = sp.linalg.block_diag(*([D] * 28))\n",
    "Dv = np.kron(np.eye(28), D)\n",
    "print(\"Shape of matrix Dv:\", Dv.shape)\n",
    "\n",
    "# get the stacked matrices I28*27 and MI28*27\n",
    "# I28_27 = sp.linalg.block_diag(*([I28] * 27))\n",
    "I28_27 = np.kron(np.eye(27), I28)\n",
    "# print(\"Shape of matrix I28_27:\", I28_27.shape)\n",
    "# MI28_27 = sp.linalg.block_diag(*([MI28] * 27))\n",
    "MI28_27 = np.kron(np.eye(27), MI28)\n",
    "\n",
    "# stack an additional column of zeros to the right of MI28_27 and an additional row of zeros to the left of I28_27 and add them to get the matrix Dh\n",
    "Dh = np.hstack((np.zeros((756, 28)), I28_27)) + np.hstack((MI28_27, np.zeros((756, 28))))\n",
    "print(\"Shape of matrix Dh:\", Dh.shape)\n",
    "\n",
    "# stack matrices toeplitz_kernel, Dv and Dh to get the matrix A\n",
    "lambda_ = 0.0007\n",
    "Dv_, Dh_ = lambda_ * Dv, lambda_ * Dh\n",
    "A = np.vstack((toeplitz_kernel, Dv_, Dh_))\n",
    "print(\"Shape of matrix A:\", A.shape)\n",
    "\n",
    "# similarly stack the blurred image, zeros and zeros to get the vector b\n",
    "b = np.hstack((blurred_image.flatten(), np.zeros(756), np.zeros(756)))\n",
    "print(\"Shape of vector b:\", b.shape)\n",
    "\n",
    "# calculate the least squares solution\n",
    "x = least_squares(A, b)\n",
    "print(\"Shape of vector x:\", x.shape)\n",
    "\n",
    "# deblur the image using the least squares solution\n",
    "deblurred_image = np.reshape(x, (28, 28))\n",
    "print(\"\\nDeblurred image with lambda = 0.0007:\")\n",
    "plt.imshow(deblurred_image)"
   ]
  },
  {
   "cell_type": "code",
   "execution_count": 1148,
   "metadata": {},
   "outputs": [
    {
     "name": "stdout",
     "output_type": "stream",
     "text": [
      "\n",
      "Deblurred image with lambda = 0.0001:\n"
     ]
    },
    {
     "data": {
      "text/plain": [
       "<matplotlib.image.AxesImage at 0x2108614f210>"
      ]
     },
     "execution_count": 1148,
     "metadata": {},
     "output_type": "execute_result"
    },
    {
     "data": {
      "image/png": "[encoded data removed]",
      "text/plain": [
       "<Figure size 640x480 with 1 Axes>"
      ]
     },
     "metadata": {},
     "output_type": "display_data"
    }
   ],
   "source": [
    "# lambda = 0.0001\n",
    "lambda_ = 0.0001\n",
    "Dv_, Dh_ = lambda_ * Dv, lambda_ * Dh\n",
    "A = np.vstack((toeplitz_kernel, Dv_, Dh_))\n",
    "x = least_squares(A, b)\n",
    "deblurred_image = np.reshape(x, (28, 28))\n",
    "print(\"\\nDeblurred image with lambda = 0.0001:\")\n",
    "plt.imshow(deblurred_image)"
   ]
  },
  {
   "cell_type": "code",
   "execution_count": 1149,
   "metadata": {},
   "outputs": [
    {
     "name": "stdout",
     "output_type": "stream",
     "text": [
      "\n",
      "Deblurred image with lambda = 0:\n"
     ]
    },
    {
     "data": {
      "text/plain": [
       "<matplotlib.image.AxesImage at 0x21086866110>"
      ]
     },
     "execution_count": 1149,
     "metadata": {},
     "output_type": "execute_result"
    },
    {
     "data": {
      "image/png": "[encoded data removed]",
      "text/plain": [
       "<Figure size 640x480 with 1 Axes>"
      ]
     },
     "metadata": {},
     "output_type": "display_data"
    }
   ],
   "source": [
    "# lambda = 0\n",
    "lambda_ = 0\n",
    "Dv_, Dh_ = lambda_ * Dv, lambda_ * Dh\n",
    "A = np.vstack((toeplitz_kernel, Dv_, Dh_))\n",
    "x = least_squares(A, b)\n",
    "deblurred_image = np.reshape(x, (28, 28))\n",
    "print(\"\\nDeblurred image with lambda = 0:\")\n",
    "plt.imshow(deblurred_image)"
   ]
  },
  {
   "cell_type": "code",
   "execution_count": 1150,
   "metadata": {},
   "outputs": [
    {
     "name": "stdout",
     "output_type": "stream",
     "text": [
      "\n",
      "Deblurred image with lambda = 0.01:\n"
     ]
    },
    {
     "data": {
      "text/plain": [
       "<matplotlib.image.AxesImage at 0x21086816110>"
      ]
     },
     "execution_count": 1150,
     "metadata": {},
     "output_type": "execute_result"
    },
    {
     "data": {
      "image/png": "[encoded data removed]",
      "text/plain": [
       "<Figure size 640x480 with 1 Axes>"
      ]
     },
     "metadata": {},
     "output_type": "display_data"
    }
   ],
   "source": [
    "# lambda = 0.01\n",
    "lambda_ = 0.01\n",
    "Dv_, Dh_ = lambda_ * Dv, lambda_ * Dh\n",
    "A = np.vstack((toeplitz_kernel, Dv_, Dh_))\n",
    "x = least_squares(A, b)\n",
    "deblurred_image = np.reshape(x, (28, 28))\n",
    "print(\"\\nDeblurred image with lambda = 0.01:\")\n",
    "plt.imshow(deblurred_image)"
   ]
  },
  {
   "cell_type": "code",
   "execution_count": 1151,
   "metadata": {},
   "outputs": [
    {
     "name": "stdout",
     "output_type": "stream",
     "text": [
      "\n",
      "Deblurred image with lambda = 0.1:\n"
     ]
    },
    {
     "data": {
      "text/plain": [
       "<matplotlib.image.AxesImage at 0x210867dc910>"
      ]
     },
     "execution_count": 1151,
     "metadata": {},
     "output_type": "execute_result"
    },
    {
     "data": {
      "image/png": "[encoded data removed]",
      "text/plain": [
       "<Figure size 640x480 with 1 Axes>"
      ]
     },
     "metadata": {},
     "output_type": "display_data"
    }
   ],
   "source": [
    "# lambda = 0.1\n",
    "lambda_ = 0.1\n",
    "Dv_, Dh_ = lambda_ * Dv, lambda_ * Dh\n",
    "A = np.vstack((toeplitz_kernel, Dv_, Dh_))\n",
    "x = least_squares(A, b)\n",
    "deblurred_image = np.reshape(x, (28, 28))\n",
    "print(\"\\nDeblurred image with lambda = 0.1:\")\n",
    "plt.imshow(deblurred_image)"
   ]
  },
  {
   "cell_type": "code",
   "execution_count": 1152,
   "metadata": {},
   "outputs": [
    {
     "name": "stdout",
     "output_type": "stream",
     "text": [
      "\n",
      "Deblurred image with lambda = 1:\n"
     ]
    },
    {
     "data": {
      "text/plain": [
       "<matplotlib.image.AxesImage at 0x2108a064910>"
      ]
     },
     "execution_count": 1152,
     "metadata": {},
     "output_type": "execute_result"
    },
    {
     "data": {
      "image/png": "[encoded data removed]",
      "text/plain": [
       "<Figure size 640x480 with 1 Axes>"
      ]
     },
     "metadata": {},
     "output_type": "display_data"
    }
   ],
   "source": [
    "# lambda = 1\n",
    "lambda_ = 1\n",
    "Dv_, Dh_ = lambda_ * Dv, lambda_ * Dh\n",
    "A = np.vstack((toeplitz_kernel, Dv_, Dh_))\n",
    "x = least_squares(A, b)\n",
    "deblurred_image = np.reshape(x, (28, 28))\n",
    "print(\"\\nDeblurred image with lambda = 1:\")\n",
    "plt.imshow(deblurred_image)"
   ]
  },
  {
   "cell_type": "markdown",
   "metadata": {},
   "source": [
    "## Question 8\n",
    "### Note: This is the same question as 4, just that we use the analytical solution there and here we use the gradient descent algorithm.\n",
    "\n",
    "Here first of all, we generate two random vectors p and q of length 100 sampled from uniform random distribution between [-1,1].\n",
    "\n",
    "Then the target variable b is defined as pq + p^2 + q^2.\n",
    "\n",
    "Now we generate 6 basis functions as provided in order to implement the gradient descent algorithm to find the optimal weights vector x. Then we generate the matrix A of basis functions.\n",
    "\n",
    "Gradient descent algorithm is implemented using the cost function and the update weights function. x (here theta) is initialized as a random vector of length 6.\n",
    "\n",
    "The learning rate is set as 0.01 so that the algorithm converges to the optimal weights vector and the number of iterations is set as 50000. The cost graph is plotted to see how the cost function decreases with the number of iterations.\n",
    "\n",
    "As we can see very easily that the target function is a linear combination of the basis functions, the mean squared error is very close to zero and the weights vector x (or theta) is very close to [0,0,0,1,1,1] as expected."
   ]
  },
  {
   "cell_type": "code",
   "execution_count": 1153,
   "metadata": {},
   "outputs": [
    {
     "data": {
      "image/png": "[encoded data removed]",
      "text/plain": [
       "<Figure size 640x480 with 1 Axes>"
      ]
     },
     "metadata": {},
     "output_type": "display_data"
    },
    {
     "name": "stdout",
     "output_type": "stream",
     "text": [
      "Coefficient vector x: [ 5.06807997e-14 -3.01126252e-15 -3.79601674e-15  1.00000000e+00\n",
      "  1.00000000e+00  1.00000000e+00]\n",
      "Mean Squared Error (MSE): 2.3098390858048177e-27\n"
     ]
    }
   ],
   "source": [
    "# generate vectors p and q\n",
    "p = np.random.uniform(-1, 1, 100)\n",
    "q = np.random.uniform(-1, 1, 100)\n",
    "\n",
    "# generate the target variable b\n",
    "b = p * q + p**2 + q**2\n",
    "\n",
    "# defining the 6 basis functions\n",
    "f0 = np.ones(100)\n",
    "f1 = p\n",
    "f2 = q\n",
    "f3 = p**2\n",
    "f4 = q**2\n",
    "f5 = p * q\n",
    "\n",
    "# creating matrix A from the basis functions\n",
    "A = np.column_stack((f0, f1, f2, f3, f4, f5))\n",
    "\n",
    "# gradient descent functions\n",
    "# cost function\n",
    "def cost(x,y,theta):\n",
    "    return np.sum((x @ theta - y)**2)/(2*len(y))\n",
    "\n",
    "# gradient descent function which updates theta\n",
    "def gradient_descent(x,y,theta,learning_rate):\n",
    "    return theta - learning_rate * x.T @ (x @ theta - y) / len(y)\n",
    "\n",
    "# doing the gradient descent and plotting the cost function over iterations\n",
    "# random initial theta\n",
    "theta = np.random.randn(6)\n",
    "# print(\"Initial theta:\", theta)\n",
    "\n",
    "learning_rate = 0.01\n",
    "num_iterations = 50000\n",
    "cost_history = np.zeros(num_iterations)\n",
    "\n",
    "for i in range(num_iterations):\n",
    "    theta = gradient_descent(A,b,theta,learning_rate)\n",
    "    cost_history[i] = cost(A,b,theta)\n",
    "plt.plot(cost_history)\n",
    "plt.title(\"Cost over iterations\")\n",
    "plt.xlabel(\"Iteration\")\n",
    "plt.ylabel(\"Cost\")\n",
    "plt.show()\n",
    "\n",
    "# calculating the mse and printing the results\n",
    "mse = np.mean((A @ theta - b)**2)\n",
    "print(\"Coefficient vector x:\", theta)\n",
    "print(\"Mean Squared Error (MSE):\", mse)"
   ]
  },
  {
   "cell_type": "markdown",
   "metadata": {},
   "source": [
    "## Question 9\n",
    "\n",
    "Here, based on the given data, we have to fit 3 piece wise polynomial functions on the interval [0,1] and [1,2] and [2,3] respectively for f1, f2 and f3.\n",
    "\n",
    "It is given that f1 is degree 2 polynomial, f2 is degree 3 polynomial and f3 is degree 2 polynomial. Further, to impose continuity and differentiability at the boundaries, some additional constraints are added.\n",
    "\n",
    "f1(1) = f2(1) and f2(2) = f3(2) and f2'(2) = f3'(2)\n",
    "\n",
    "Now, we have to find the optimal weights vector x1, x2 and x3 for f1, f2 and f3 respectively, using the least squares method. \n",
    "\n",
    "We get,\n",
    "f1(x) = 4.00 + -3.00x + 1.00x^2\n",
    "\n",
    "f2(x) = 1.00 + 0.00x + -2.00x^2 + 3.00x^3\n",
    "\n",
    "f3(x) = -35.00 + 24.00x + 1.00x^2\n",
    "\n",
    "We see that the required polynomials also satisfy the given constraints. (Note that f1'(1) != f2'(1), but it is not our constraint.)\n",
    "\n",
    "Finally, the data points and the fitted polynomials are plotted to see how well the polynomials fit the data, it can be seen that our polynomials fit the data very well."
   ]
  },
  {
   "cell_type": "code",
   "execution_count": 1154,
   "metadata": {},
   "outputs": [
    {
     "name": "stdout",
     "output_type": "stream",
     "text": [
      "Function for part 1 = 4.00 + -3.00x + 1.00x^2\n",
      "Function for part 2 = 1.00 + 0.00x + -2.00x^2 + 3.00x^3\n",
      "Function for part 3 = -35.00 + 24.00x + 1.00x^2\n",
      "\n",
      "Constraints:\n",
      "f1(1) = 2.00\n",
      "f2(1) = 2.00\n",
      "f2(2) = 17.00\n",
      "f3(2) = 17.00\n",
      "f2'(2) = 28.00\n",
      "f3'(2) = 28.00\n"
     ]
    },
    {
     "data": {
      "image/png": "[encoded data removed]",
      "text/plain": [
       "<Figure size 640x480 with 1 Axes>"
      ]
     },
     "metadata": {},
     "output_type": "display_data"
    }
   ],
   "source": [
    "# loading the data\n",
    "data = pd.read_csv(\"q9.csv\")\n",
    "data = data.values\n",
    "\n",
    "# dividing the data into three parts\n",
    "part_1 = data[(data[:, 0] >= 0) & (data[:, 0] <= 1)]\n",
    "part_2 = data[(data[:, 0] > 1) & (data[:, 0] <= 2)]\n",
    "part_3 = data[(data[:, 0] > 2) & (data[:, 0] <= 3)]\n",
    "\n",
    "# defining the evaluation function\n",
    "def f(params, x):\n",
    "    return np.polyval(params, x)\n",
    "\n",
    "# least squares function for polynomial regression which returns the parameters\n",
    "def least_squares_poly(part, degree):\n",
    "    x = part[:, 0]\n",
    "    y = part[:, 1]\n",
    "    X = np.vander(x, degree + 1)\n",
    "\n",
    "    params = least_squares(X, y)\n",
    "    return params\n",
    "\n",
    "# calculating the parameters for the 3 parts\n",
    "params_1 = least_squares_poly(part_1, 2)\n",
    "params_2 = least_squares_poly(part_2, 3)\n",
    "params_3 = least_squares_poly(part_3, 2)\n",
    "\n",
    "# printing the functions\n",
    "print(\"Function for part 1 = {:.2f} + {:.2f}x + {:.2f}x^2\".format(params_1[2], params_1[1], params_1[0]))\n",
    "print(\"Function for part 2 = {:.2f} + {:.2f}x + {:.2f}x^2 + {:.2f}x^3\".format(params_2[3], params_2[2], params_2[1], params_2[0]))\n",
    "print(\"Function for part 3 = {:.2f} + {:.2f}x + {:.2f}x^2\".format(params_3[2], params_3[1], params_3[0]))\n",
    "\n",
    "print(\"\\nConstraints:\")\n",
    "\n",
    "# check continuity\n",
    "print(\"f1(1) = {:.2f}\".format(f(params_1, 1)))\n",
    "print(\"f2(1) = {:.2f}\".format(f(params_2, 1)))\n",
    "print(\"f2(2) = {:.2f}\".format(f(params_2, 2)))\n",
    "print(\"f3(2) = {:.2f}\".format(f(params_3, 2)))\n",
    "\n",
    "# check differentiability\n",
    "print(\"f2'(2) = {:.2f}\".format(f(np.polyder(params_2), 2)))\n",
    "print(\"f3'(2) = {:.2f}\".format(f(np.polyder(params_3), 2)))\n",
    "\n",
    "# plotting the data and the functions to compare\n",
    "plt.scatter(data[:, 0], data[:, 1], label=\"Data\", color=\"darkblue\")\n",
    "\n",
    "x = np.linspace(0, 1, 100)\n",
    "plt.plot(x, f(params_1, x), label=\"Function for part 1\")\n",
    "x = np.linspace(1, 2, 100)\n",
    "plt.plot(x, f(params_2, x), label=\"Function for part 2\")\n",
    "x = np.linspace(2, 3, 100)\n",
    "plt.plot(x, f(params_3, x), label=\"Function for part 3\")\n",
    "\n",
    "plt.title(\"Data and functions\")\n",
    "plt.xlabel(\"x\")\n",
    "plt.ylabel(\"y\")\n",
    "plt.legend()\n",
    "plt.show()"
   ]
  },
  {
   "cell_type": "markdown",
   "metadata": {},
   "source": [
    "## Conclusion\n",
    "\n",
    "This assignment was based on least squares method and its applications. We saw how to use least squares method to solve regression problems and classification problems. We also saw how to use least squares method to solve polynomial fitting problems.\n",
    "\n",
    "Thank you."
   ]
  }
 ],
 "metadata": {
  "kernelspec": {
   "display_name": "Python 3",
   "language": "python",
   "name": "python3"
  },
  "language_info": {
   "codemirror_mode": {
    "name": "ipython",
    "version": 3
   },
   "file_extension": ".py",
   "mimetype": "text/x-python",
   "name": "python",
   "nbconvert_exporter": "python",
   "pygments_lexer": "ipython3",
   "version": "3.11.3"
  }
 },
 "nbformat": 4,
 "nbformat_minor": 2
}
