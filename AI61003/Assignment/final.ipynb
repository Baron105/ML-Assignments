{
 "cells": [
  {
   "cell_type": "markdown",
   "metadata": {},
   "source": [
    "# Assignment 1: Least Squares\n",
    "## Name: Barun Parua\n",
    "## Roll Number: 21CS10014"
   ]
  },
  {
   "cell_type": "markdown",
   "metadata": {},
   "source": [
    "## Imports\n",
    "Here is the list of all the libraries used in this assignment."
   ]
  },
  {
   "cell_type": "code",
   "execution_count": 619,
   "metadata": {},
   "outputs": [],
   "source": [
    "# imports\n",
    "\n",
    "# torchvision for MNIST dataset\n",
    "from torchvision.datasets import MNIST\n",
    "\n",
    "# numpy for matrix operations, matplotlib for plotting, pandas for data loading\n",
    "import numpy as np\n",
    "import matplotlib.pyplot as plt\n",
    "import pandas as pd"
   ]
  },
  {
   "cell_type": "markdown",
   "metadata": {},
   "source": [
    "## MNIST Dataset\n",
    "\n",
    "Here, the MNIST dataset is downloaded and stored separately for training and test data, hence no further splitting is required. "
   ]
  },
  {
   "cell_type": "code",
   "execution_count": 620,
   "metadata": {},
   "outputs": [],
   "source": [
    "# fetching and loading the MNIST dataset\n",
    "mnist_data_train = MNIST('/', train=True, download=True)\n",
    "mnist_data_test = MNIST('/', train=False, download=True)"
   ]
  },
  {
   "cell_type": "markdown",
   "metadata": {},
   "source": [
    "## Least Squares Function\n",
    "\n",
    "Main function of the assignment.\n",
    "\n",
    "This is the function that calculates the least squares solution for a given matrix A and vector b. It returns the vector x that minimizes the 2-norm of Ax-b.\n",
    "\n",
    "x is based on the formula: x = inv(A.T @ A) @ A.T @ b\n",
    "\n",
    "Note that here I have used the @ operator to denote matrix multiplication. Also, the transpose of a matrix A is denoted by A.T. Finally, inv(A) denotes the inverse of a matrix A. Here I have used the pinv function from numpy.linalg to calculate the pseudo-inverse of A, rather than the inverse of A so that the function can handle non-square and singular matrices. (However, A.T @ A is always square and invertible, so this is not necessary here.)\n",
    "\n",
    "A corresponding function for regularized least squares is also defined, which takes in an additional parameter lambda_. The equation is modified to: x = inv(A.T @ A + lambda_ * I) @ A.T @ b"
   ]
  },
  {
   "cell_type": "code",
   "execution_count": 621,
   "metadata": {},
   "outputs": [],
   "source": [
    "def least_squares(A, b):\n",
    "    x = np.linalg.pinv(A.T @ A) @ A.T @ b\n",
    "    return x\n",
    "\n",
    "def least_squares_regularized(A, b, lambda_):\n",
    "    x = np.linalg.pinv(A.T @ A + lambda_ * np.identity(A.shape[1])) @ A.T @ b\n",
    "    return x"
   ]
  },
  {
   "cell_type": "markdown",
   "metadata": {},
   "source": [
    "## Question 1\n",
    "\n",
    "The MNIST dataset is loaded already above. Now, we have to filter the dataset to only include classes 1 and 7 and assign them labels 1 and -1 respectively. After this the images are flattened from matrices of size 28x28 to vectors of length 784. Then, using the least squares function we train the model on train set and report the accuracy and the confusion matrix on the test set.\n",
    "\n",
    "It can be seen that the accuracy is very high, and the confusion matrix shows that the model is able to distinguish between 1 and 7 very well."
   ]
  },
  {
   "cell_type": "code",
   "execution_count": 622,
   "metadata": {},
   "outputs": [
    {
     "name": "stdout",
     "output_type": "stream",
     "text": [
      "Shapes of the train and test data before filtering: torch.Size([60000, 28, 28]) torch.Size([10000, 28, 28])\n",
      "Shapes of X_train and X_test before flattening: torch.Size([13007, 28, 28]), torch.Size([2163, 28, 28])\n",
      "Shapes of X_train and X_test after flattening: torch.Size([13007, 784]), torch.Size([2163, 784])\n",
      "\n"
     ]
    },
    {
     "name": "stdout",
     "output_type": "stream",
     "text": [
      "Accuracy: 0.9894\n",
      "\n",
      "Confusion Matrix:\n",
      "Predicted  -1.0   1.0\n",
      "Actual               \n",
      "-1         1007    21\n",
      " 1            2  1133\n"
     ]
    }
   ],
   "source": [
    "# function to filter the dataset to only include 1s and 7s as per the assignment\n",
    "def filter_dataset(dataset):\n",
    "    indices = (dataset.targets == 1) | (dataset.targets == 7)\n",
    "    images = dataset.data[indices]\n",
    "    labels = dataset.targets[indices]\n",
    "    return images, labels\n",
    "\n",
    "print(\"Shapes of the train and test data before filtering:\", mnist_data_train.data.shape, mnist_data_test.data.shape)\n",
    "\n",
    "# applying the filter to get the test and train data\n",
    "X_train, y_train = filter_dataset(mnist_data_train)\n",
    "X_test, y_test = filter_dataset(mnist_data_test)\n",
    "\n",
    "# assigning the labels to 1 if class is 1 and -1 if class is 7\n",
    "y_train = np.where(y_train == 1, 1, -1)\n",
    "y_test = np.where(y_test == 1, 1, -1)\n",
    "\n",
    "print(f\"Shapes of X_train and X_test before flattening: {X_train.shape}, {X_test.shape}\")\n",
    "\n",
    "# vectorizing the images\n",
    "X_train = X_train.reshape(-1, 28 * 28) / 255.0\n",
    "X_test = X_test.reshape(-1, 28 * 28) / 255.0\n",
    "print(f\"Shapes of X_train and X_test after flattening: {X_train.shape}, {X_test.shape}\\n\")\n",
    "\n",
    "# adding a column of 1s to the data for the bias term\n",
    "X_train = np.hstack((np.ones((X_train.shape[0], 1)), X_train))\n",
    "X_test = np.hstack((np.ones((X_test.shape[0], 1)), X_test))\n",
    "\n",
    "# training the model to get the weights\n",
    "weights = least_squares(X_train, y_train)\n",
    "\n",
    "# predicting the labels for the test data\n",
    "y_pred = np.sign(X_test @ weights)\n",
    "\n",
    "# reporting the accuracy of the model\n",
    "accuracy = np.mean(y_pred == y_test)\n",
    "print(f\"Accuracy: {accuracy:.4f}\\n\\nConfusion Matrix:\")\n",
    "\n",
    "# plotting the confusion matrix\n",
    "confusion_matrix = pd.crosstab(y_test, y_pred, rownames=['Actual'], colnames=['Predicted'])\n",
    "print(confusion_matrix)\n"
   ]
  },
  {
   "cell_type": "markdown",
   "metadata": {},
   "source": [
    "## Question 2\n",
    "\n",
    "The MNIST dataset is loaded already above. Now, the images are flattened from matrices of size 28x28 to vectors of length 784. Then, using the least squares function we train the model on train set and report the accuracy and the confusion matrix on the test set.\n",
    "\n",
    "For each class, we have to train a separate model. Fpr this, we select samples of the current class as positive samples and randomly select equal number of samples from the other classes as negative samples to make the dataset balanced. Now using the least squares function we train the model on train set for each of the classes. Auxiliary functions are used so that repeated code is not written.\n",
    "\n",
    "Now, we have to predict the class of each test sample by using the model that gives the highest score of prediction for that sample and assigning the sample to that class. Finally we report the accuracy and the confusion matrix on the test set."
   ]
  },
  {
   "cell_type": "code",
   "execution_count": 623,
   "metadata": {},
   "outputs": [],
   "source": [
    "# define the training and test sets\n",
    "X_train, y_train = np.array(mnist_data_train.data), np.array(mnist_data_train.targets)\n",
    "X_test, y_test = np.array(mnist_data_test.data), np.array(mnist_data_test.targets)\n",
    "\n",
    "# vectorizing the images\n",
    "X_train = X_train.reshape(-1, 28 * 28) / 255.0\n",
    "X_test = X_test.reshape(-1, 28 * 28) / 255.0\n",
    "\n",
    "# function to filter the dataset to only include class i images for i in [0, 1, 2, 3, 4, 5, 6, 7, 8, 9]\n",
    "def filter_dataset(train_x, train_y, class_label):\n",
    "    indices = (train_y == class_label)\n",
    "    images = train_x[indices]\n",
    "    labels = train_y[indices]\n",
    "    return images, labels\n",
    "\n",
    "# function to select all images except those of class i for i in [0, 1, 2, 3, 4, 5, 6, 7, 8, 9]\n",
    "def filter_dataset_not(train_x, train_y, class_label):\n",
    "    indices = (train_y != class_label)\n",
    "    images = train_x[indices]\n",
    "    labels = train_y[indices]\n",
    "    return images, labels\n",
    "\n",
    "# function to train the model for a given class label\n",
    "def train_wrt_class(class_label):\n",
    "    # class label is the label of the class for which the model is being trained\n",
    "    # take the images of class and randomly sample the same number of images from the rest of the dataset\n",
    "    X_train_0, y_train_0 = filter_dataset(X_train, y_train, class_label)\n",
    "    X_train_0_not, y_train_0_not = filter_dataset_not(X_train, y_train, class_label)\n",
    "\n",
    "    # randomly sample the same number of images from the rest of the dataset\n",
    "    indices = np.random.choice(np.arange(len(X_train_0_not)), len(X_train_0))\n",
    "    X_train_0_not = X_train_0_not[indices]\n",
    "    y_train_0_not = y_train_0_not[indices]\n",
    "\n",
    "    # add the images of class 0 and the randomly sampled images from the rest of the dataset\n",
    "    X_train_0 = np.concatenate((X_train_0, X_train_0_not))\n",
    "    y_train_0 = np.concatenate((y_train_0, y_train_0_not))\n",
    "\n",
    "    print(f\"Shapes of X_train_0 and y_train_0 after filtering and sampling: {X_train_0.shape}, {y_train_0.shape}\")\n",
    "\n",
    "    # assign the labels to 1 if class is class_label and -1 if class is not class_label\n",
    "    y_train_0 = np.where(y_train_0 == class_label, 1, -1)\n",
    "    y_test_0 = np.where(y_test == class_label, 1, -1)\n",
    "\n",
    "    # train the model to get the weights\n",
    "    weights_0 = least_squares(X_train_0, y_train_0)\n",
    "\n",
    "    # predict the labels for the test data\n",
    "    y_pred_0 = np.sign(X_test @ weights_0)\n",
    "\n",
    "    # report the accuracy of the model\n",
    "    accuracy_0 = np.mean(y_pred_0 == y_test_0)\n",
    "    print(f\"\\nAccuracy for class {class_label}: {accuracy_0:.4f}\\n\\nConfusion Matrix for class {class_label}:\")\n",
    "\n",
    "    # plot the confusion matrix\n",
    "    confusion_matrix_0 = pd.crosstab(y_test_0, y_pred_0, rownames=['Actual'], colnames=['Predicted'])\n",
    "    print(confusion_matrix_0)\n",
    "    \n",
    "    return weights_0"
   ]
  },
  {
   "cell_type": "markdown",
   "metadata": {},
   "source": [
    "### Class 0\n",
    "\n",
    "Training of the model for class 0."
   ]
  },
  {
   "cell_type": "code",
   "execution_count": 624,
   "metadata": {},
   "outputs": [
    {
     "name": "stdout",
     "output_type": "stream",
     "text": [
      "Shapes of X_train_0 and y_train_0 after filtering and sampling: (11846, 784), (11846,)\n",
      "\n",
      "Accuracy for class 0: 0.9734\n",
      "\n",
      "Confusion Matrix for class 0:\n",
      "Predicted  -1.0   1.0\n",
      "Actual               \n",
      "-1         8765   255\n",
      " 1           11   969\n"
     ]
    }
   ],
   "source": [
    "# class 0\n",
    "weights_0 = train_wrt_class(0)"
   ]
  },
  {
   "cell_type": "markdown",
   "metadata": {},
   "source": [
    "### Class 1\n",
    "\n",
    "Training of the model for class 1."
   ]
  },
  {
   "cell_type": "code",
   "execution_count": 625,
   "metadata": {},
   "outputs": [
    {
     "name": "stdout",
     "output_type": "stream",
     "text": [
      "Shapes of X_train_0 and y_train_0 after filtering and sampling: (13484, 784), (13484,)\n",
      "\n",
      "Accuracy for class 1: 0.9649\n",
      "\n",
      "Confusion Matrix for class 1:\n",
      "Predicted  -1.0   1.0\n",
      "Actual               \n",
      "-1         8529   336\n",
      " 1           15  1120\n"
     ]
    }
   ],
   "source": [
    "# class 1\n",
    "weights_1 = train_wrt_class(1)"
   ]
  },
  {
   "cell_type": "markdown",
   "metadata": {},
   "source": [
    "### Class 2\n",
    "\n",
    "Training of the model for class 2."
   ]
  },
  {
   "cell_type": "code",
   "execution_count": 626,
   "metadata": {},
   "outputs": [
    {
     "name": "stdout",
     "output_type": "stream",
     "text": [
      "Shapes of X_train_0 and y_train_0 after filtering and sampling: (11916, 784), (11916,)\n",
      "\n",
      "Accuracy for class 2: 0.9468\n",
      "\n",
      "Confusion Matrix for class 2:\n",
      "Predicted  -1.0   1.0\n",
      "Actual               \n",
      "-1         8518   450\n",
      " 1           82   950\n"
     ]
    }
   ],
   "source": [
    "# class 2\n",
    "weights_2 = train_wrt_class(2)"
   ]
  },
  {
   "cell_type": "markdown",
   "metadata": {},
   "source": [
    "### Class 3\n",
    "\n",
    "Training of the model for class 3."
   ]
  },
  {
   "cell_type": "code",
   "execution_count": 627,
   "metadata": {},
   "outputs": [
    {
     "name": "stdout",
     "output_type": "stream",
     "text": [
      "Shapes of X_train_0 and y_train_0 after filtering and sampling: (12262, 784), (12262,)\n",
      "\n",
      "Accuracy for class 3: 0.9180\n",
      "\n",
      "Confusion Matrix for class 3:\n",
      "Predicted  -1.0   1.0\n",
      "Actual               \n",
      "-1         8225   765\n",
      " 1           55   955\n"
     ]
    }
   ],
   "source": [
    "# class 3\n",
    "weights_3 = train_wrt_class(3)"
   ]
  },
  {
   "cell_type": "markdown",
   "metadata": {},
   "source": [
    "### Class 4\n",
    "\n",
    "Training of the model for class 4."
   ]
  },
  {
   "cell_type": "code",
   "execution_count": 628,
   "metadata": {},
   "outputs": [
    {
     "name": "stdout",
     "output_type": "stream",
     "text": [
      "Shapes of X_train_0 and y_train_0 after filtering and sampling: (11684, 784), (11684,)\n",
      "\n",
      "Accuracy for class 4: 0.9388\n",
      "\n",
      "Confusion Matrix for class 4:\n",
      "Predicted  -1.0   1.0\n",
      "Actual               \n",
      "-1         8437   581\n",
      " 1           31   951\n"
     ]
    }
   ],
   "source": [
    "# class 4\n",
    "weights_4 = train_wrt_class(4)"
   ]
  },
  {
   "cell_type": "markdown",
   "metadata": {},
   "source": [
    "### Class 5\n",
    "\n",
    "Training of the model for class 5."
   ]
  },
  {
   "cell_type": "code",
   "execution_count": 629,
   "metadata": {},
   "outputs": [
    {
     "name": "stdout",
     "output_type": "stream",
     "text": [
      "Shapes of X_train_0 and y_train_0 after filtering and sampling: (10842, 784), (10842,)\n",
      "\n",
      "Accuracy for class 5: 0.9126\n",
      "\n",
      "Confusion Matrix for class 5:\n",
      "Predicted  -1.0   1.0\n",
      "Actual               \n",
      "-1         8291   817\n",
      " 1           57   835\n"
     ]
    }
   ],
   "source": [
    "# class 5\n",
    "weights_5 = train_wrt_class(5)"
   ]
  },
  {
   "cell_type": "markdown",
   "metadata": {},
   "source": [
    "### Class 6\n",
    "\n",
    "Training of the model for class 6."
   ]
  },
  {
   "cell_type": "code",
   "execution_count": 630,
   "metadata": {},
   "outputs": [
    {
     "name": "stdout",
     "output_type": "stream",
     "text": [
      "Shapes of X_train_0 and y_train_0 after filtering and sampling: (11836, 784), (11836,)\n",
      "\n",
      "Accuracy for class 6: 0.9605\n",
      "\n",
      "Confusion Matrix for class 6:\n",
      "Predicted  -1.0   1.0\n",
      "Actual               \n",
      "-1         8676   366\n",
      " 1           29   929\n"
     ]
    }
   ],
   "source": [
    "# class 6\n",
    "weights_6 = train_wrt_class(6)"
   ]
  },
  {
   "cell_type": "markdown",
   "metadata": {},
   "source": [
    "### Class 7\n",
    "\n",
    "Training of the model for class 7."
   ]
  },
  {
   "cell_type": "code",
   "execution_count": 631,
   "metadata": {},
   "outputs": [
    {
     "name": "stdout",
     "output_type": "stream",
     "text": [
      "Shapes of X_train_0 and y_train_0 after filtering and sampling: (12530, 784), (12530,)\n",
      "\n",
      "Accuracy for class 7: 0.9518\n",
      "\n",
      "Confusion Matrix for class 7:\n",
      "Predicted  -1.0   1.0\n",
      "Actual               \n",
      "-1         8537   435\n",
      " 1           47   981\n"
     ]
    }
   ],
   "source": [
    "# class 7\n",
    "weights_7 = train_wrt_class(7)"
   ]
  },
  {
   "cell_type": "markdown",
   "metadata": {},
   "source": [
    "### Class 8\n",
    "\n",
    "Training of the model for class 8."
   ]
  },
  {
   "cell_type": "code",
   "execution_count": 632,
   "metadata": {},
   "outputs": [
    {
     "name": "stdout",
     "output_type": "stream",
     "text": [
      "Shapes of X_train_0 and y_train_0 after filtering and sampling: (11702, 784), (11702,)\n",
      "\n",
      "Accuracy for class 8: 0.8536\n",
      "\n",
      "Confusion Matrix for class 8:\n",
      "Predicted  -1.0   1.0\n",
      "Actual               \n",
      "-1         7649  1377\n",
      " 1           87   887\n"
     ]
    }
   ],
   "source": [
    "# class 8\n",
    "weights_8 = train_wrt_class(8)"
   ]
  },
  {
   "cell_type": "markdown",
   "metadata": {},
   "source": [
    "### Class 9\n",
    "\n",
    "Training of the model for class 9."
   ]
  },
  {
   "cell_type": "code",
   "execution_count": 633,
   "metadata": {},
   "outputs": [
    {
     "name": "stdout",
     "output_type": "stream",
     "text": [
      "Shapes of X_train_0 and y_train_0 after filtering and sampling: (11898, 784), (11898,)\n",
      "\n",
      "Accuracy for class 9: 0.8819\n",
      "\n",
      "Confusion Matrix for class 9:\n",
      "Predicted  -1.0   1.0\n",
      "Actual               \n",
      "-1         7869  1122\n",
      " 1           59   950\n"
     ]
    }
   ],
   "source": [
    "# class 9\n",
    "weights_9 = train_wrt_class(9)"
   ]
  },
  {
   "cell_type": "markdown",
   "metadata": {},
   "source": [
    "### Using the models to get the confidence scores and assigning the class with highest score\n",
    "\n",
    "Now, we have to predict the class of each test sample by using the model that gives the highest score of prediction for that sample and assigning the sample to that class. Finally we report the accuracy and the confusion matrix on the test set."
   ]
  },
  {
   "cell_type": "code",
   "execution_count": 634,
   "metadata": {},
   "outputs": [
    {
     "name": "stdout",
     "output_type": "stream",
     "text": [
      "Accuracy: 0.8767\n",
      "\n",
      "Confusion Matrix:\n",
      "Predicted    0     1    2    3    4    5    6    7    8    9\n",
      "Actual                                                      \n",
      "0          923     1    3    1    1   22   14    2   11    2\n",
      "1            0  1093    3    3    1    3    4    1   27    0\n",
      "2           11    32  834   29   10   12   18   10   61   15\n",
      "3            4     3   17  887    5   33    6    9   34   12\n",
      "4            0    10    5    2  882    1    8    3   16   55\n",
      "5           13    14    2   38    8  710   22    7   57   21\n",
      "6           11    10    4    3   13   40  860    0   15    2\n",
      "7            3    26   22   11   29    1    0  849    5   82\n",
      "8            7    21    4   22   16   25   12    9  834   24\n",
      "9           15     9    1   15   45    3    0   15   11  895\n"
     ]
    }
   ],
   "source": [
    "# function to predict the class of an image\n",
    "def predict_class(image):\n",
    "    # calculate the confidence scores for each class\n",
    "    confidence_scores = np.array([image @ weights_0, image @ weights_1, image @ weights_2, image @ weights_3, image @ weights_4, image @ weights_5, image @ weights_6, image @ weights_7, image @ weights_8, image @ weights_9])\n",
    "    \n",
    "    # return the class with the highest confidence score\n",
    "    return np.argmax(confidence_scores)\n",
    "\n",
    "# predicting the classes of the test images\n",
    "y_pred = np.array([predict_class(image) for image in X_test])\n",
    "\n",
    "# reporting the accuracy of the model\n",
    "accuracy = np.mean(y_pred == y_test)\n",
    "print(f\"Accuracy: {accuracy:.4f}\\n\\nConfusion Matrix:\")\n",
    "\n",
    "# plotting the confusion matrix\n",
    "confusion_matrix = pd.crosstab(y_test, y_pred, rownames=['Actual'], colnames=['Predicted'])\n",
    "print(confusion_matrix)"
   ]
  },
  {
   "cell_type": "markdown",
   "metadata": {},
   "source": [
    "## Question 3\n",
    "\n",
    "Here first of all, we generate two random vectors p and q of length 100 sampled from uniform random distribution between [-10,10].\n",
    "\n",
    "Then the target variable b is defined as bi = +1 if pi*qi > 1 and bi = -1 otherwise, for i = 1,2,...,100.\n",
    "\n",
    "Now we generate 6 basis functions as provided. Then we generate the matrix A of basis functions.\n",
    "\n",
    "Now, we use the least squares method to find the optimal weights vector x. The optimal weights vector x is given by the formula (A^T A)^-1 A^T b, where A is the matrix of basis functions and b is the target variable vector.\n",
    "\n",
    "We get the weight vector x in this way and report x as well as the accuracy of the model."
   ]
  },
  {
   "cell_type": "code",
   "execution_count": 635,
   "metadata": {},
   "outputs": [
    {
     "name": "stdout",
     "output_type": "stream",
     "text": [
      "Coefficient vector x: [-1.90434446e-02 -1.53131594e-02 -4.20793398e-03 -3.71464252e-05\n",
      "  1.65682705e-04  2.42602536e-02]\n",
      "Accuracy: 0.96\n"
     ]
    }
   ],
   "source": [
    "# generate vectors p and q\n",
    "p = np.random.uniform(-10, 10, 100)\n",
    "q = np.random.uniform(-10, 10, 100)\n",
    "\n",
    "# generate the target variable b\n",
    "b = np.where(p*q > 1, 1, -1)\n",
    "\n",
    "# defining the 6 basis functions\n",
    "f0 = np.ones(100)\n",
    "f1 = p\n",
    "f2 = q\n",
    "f3 = p**2\n",
    "f4 = q**2\n",
    "f5 = p * q\n",
    "\n",
    "# creating matrix A from the basis functions\n",
    "A = np.column_stack((f0, f1, f2, f3, f4, f5))\n",
    "\n",
    "# calling the least squares function to calculate the coefficient vector x\n",
    "x = least_squares(A, b)\n",
    "print(f'Coefficient vector x: {x}')\n",
    "\n",
    "# calculating the predicted values\n",
    "y_pred = np.sign(A @ x)\n",
    "accuracy = np.mean(y_pred == b)\n",
    "print(f'Accuracy: {accuracy}')"
   ]
  },
  {
   "cell_type": "markdown",
   "metadata": {},
   "source": [
    "## Question 4\n",
    "\n",
    "Here first of all, we generate two random vectors p and q of length 100 sampled from uniform random distribution between [-1,1].\n",
    "\n",
    "Then the target variable b is defined as pq + p^2 + q^2.\n",
    "\n",
    "Now we generate 6 basis functions as provided. Then we generate the matrix A of basis functions.\n",
    "\n",
    "Now, we use the least squares method to find the optimal weights vector x. The optimal weights vector x is given by the formula (A^T A)^-1 A^T b, where A is the matrix of basis functions and b is the target variable vector.\n",
    "\n",
    "As we can see very easily that the target function is a linear combination of the basis functions, the mean squared error is very close to zero and the weights vector x is very close to [0,0,0,1,1,1] as expected."
   ]
  },
  {
   "cell_type": "code",
   "execution_count": 636,
   "metadata": {},
   "outputs": [
    {
     "name": "stdout",
     "output_type": "stream",
     "text": [
      "Coefficient vector x: [-7.04297731e-16  8.32667268e-17  2.63677968e-16  1.00000000e+00\n",
      "  1.00000000e+00  1.00000000e+00]\n",
      "Mean Squared Error (MSE): 1.1125899880905762e-30\n"
     ]
    }
   ],
   "source": [
    "# generate vectors p and q\n",
    "p = np.random.uniform(-1, 1, 100)\n",
    "q = np.random.uniform(-1, 1, 100)\n",
    "\n",
    "# generate the target variable b\n",
    "b = p * q + p**2 + q**2\n",
    "\n",
    "# defining the 6 basis functions\n",
    "f0 = np.ones(100)\n",
    "f1 = p\n",
    "f2 = q\n",
    "f3 = p**2\n",
    "f4 = q**2\n",
    "f5 = p * q\n",
    "\n",
    "# creating matrix A from the basis functions\n",
    "A = np.column_stack((f0, f1, f2, f3, f4, f5))\n",
    "\n",
    "# calling the least squares function to calculate the coefficient vector x\n",
    "x = least_squares(A, b)\n",
    "\n",
    "# calculating the mse and printing the results\n",
    "mse = np.mean((A @ x - b)**2)\n",
    "print(\"Coefficient vector x:\", x)\n",
    "print(\"Mean Squared Error (MSE):\", mse)"
   ]
  },
  {
   "cell_type": "markdown",
   "metadata": {},
   "source": [
    "## Question 5\n",
    "\n"
   ]
  },
  {
   "cell_type": "markdown",
   "metadata": {},
   "source": [
    "## Triangular Basis Function\n",
    "\n",
    "In this question we deal with the triangular basis function. The function to generate the triangular basis function is defined below, so as to reduce repeated code and make the code more readable.\n",
    "\n",
    "p is again a vector of length 100 sampled from uniform random distribution between [0,1]. b is defined as b = 7p - 3p^2 and we have to generate the coefficients of the triangular basis function."
   ]
  },
  {
   "cell_type": "code",
   "execution_count": 637,
   "metadata": {},
   "outputs": [],
   "source": [
    "# generate random vector p of size 100 ranging from 0 to 1\n",
    "p = np.random.uniform(0, 1, 100)\n",
    "\n",
    "# define b = 7p - 3p^2\n",
    "b = 7*p - 3*(p**2)\n",
    "\n",
    "# basis function matrix generating function\n",
    "def gen_basis_matrix(p, c):\n",
    "    A = [[0 for _ in range(c)] for _ in range(100)]\n",
    "    for i in range(100):\n",
    "        for j in range(c):\n",
    "            if j / c <= p[i] and p[i] < (j + 1) / c:\n",
    "                A[i][j] = ((2 * j + 1) / (2 * c) - np.abs(p[i] - (2 * j + 1) / (2 * c))) * 2 * c\n",
    "            else:\n",
    "                A[i][j] = 0\n",
    "    return A"
   ]
  },
  {
   "cell_type": "markdown",
   "metadata": {},
   "source": [
    "### Part A\n",
    "\n",
    "Normal least squares method is used to find the optimal weights vector x. The optimal weights vector x is given by the formula (A^T A)^-1 A^T b, where A is the matrix of basis functions and b is the target variable vector. The coefficient vector x and the mean squared error are reported."
   ]
  },
  {
   "cell_type": "markdown",
   "metadata": {},
   "source": [
    "cols = 10"
   ]
  },
  {
   "cell_type": "code",
   "execution_count": 638,
   "metadata": {},
   "outputs": [
    {
     "name": "stdout",
     "output_type": "stream",
     "text": [
      "Results for 10 basis functions:\n",
      "Coefficient vector x: [0.49932896 0.36896197 0.34792324 0.32338019 0.30053392 0.27828956\n",
      " 0.25705857 0.24518945 0.23081342 0.2132901 ]\n",
      "Mean Squared Error (MSE): 0.022418061540546798\n"
     ]
    }
   ],
   "source": [
    "# number of basis functions = 10\n",
    "A = np.array(gen_basis_matrix(p, 10))\n",
    "\n",
    "# least squares solution\n",
    "x = least_squares(A, b)\n",
    "\n",
    "# calculate the mse and print the results\n",
    "mse = np.mean((A @ x - b)**2)\n",
    "print(\"Results for 10 basis functions:\")\n",
    "print(\"Coefficient vector x:\", x)\n",
    "print(\"Mean Squared Error (MSE):\", mse)"
   ]
  },
  {
   "cell_type": "markdown",
   "metadata": {},
   "source": [
    "cols = 50"
   ]
  },
  {
   "cell_type": "code",
   "execution_count": 639,
   "metadata": {},
   "outputs": [
    {
     "name": "stdout",
     "output_type": "stream",
     "text": [
      "Results for 50 basis functions:\n",
      "Coefficient vector x: [0.08578574 0.06923613 0.07338203 0.07114964 0.06789795 0.06883416\n",
      " 0.06790144 0.06772226 0.06670851 0.07011863 0.06393578 0.06432493\n",
      " 0.0639782  0.06348752 0.0616457  0.06202832 0.06011846 0.\n",
      " 0.05984686 0.05912208 0.05862019 0.05725529 0.0567538  0.05712341\n",
      " 0.05550087 0.05547734 0.05437122 0.05350969 0.05401529 0.05262363\n",
      " 0.05182288 0.         0.05070471 0.05043221 0.         0.04930647\n",
      " 0.04854776 0.04795899 0.04695016 0.04634776 0.0458151  0.04546426\n",
      " 0.04450703 0.04432991 0.04359833 0.04302002 0.04217531 0.04162084\n",
      " 0.04121933 0.04053646]\n",
      "Mean Squared Error (MSE): 0.0005207379638840251\n"
     ]
    }
   ],
   "source": [
    "# number of basis functions = 50\n",
    "A = np.array(gen_basis_matrix(p, 50))\n",
    "\n",
    "# least squares solution\n",
    "x = least_squares(A, b)\n",
    "\n",
    "# calculate the mse and print the results\n",
    "mse = np.mean((A @ x - b)**2)\n",
    "print(\"Results for 50 basis functions:\")\n",
    "print(\"Coefficient vector x:\", x)\n",
    "print(\"Mean Squared Error (MSE):\", mse)"
   ]
  },
  {
   "cell_type": "markdown",
   "metadata": {},
   "source": [
    "### Part B (Regularized Least Squares)\n",
    "\n",
    "Here we do the same thing as in part A, but using regularized least squares instead of least squares. The lambda_ parameter is randomly sampled from a uniform distribution between [0,0.2].\n",
    "\n",
    "The values of n in this cases are 150 and 200. The least squares regularized method is used to find the optimal weights vector x. The optimal weights vector x is given by the formula (A^T A + lambda_ * I)^-1 A^T b, where A is the matrix of basis functions and b is the target variable vector. Note that here x is commented out as it takes too much space to print and only the mse is reported. If required, please uncomment the print statement to see the value of x."
   ]
  },
  {
   "cell_type": "markdown",
   "metadata": {},
   "source": [
    "cols = 150"
   ]
  },
  {
   "cell_type": "code",
   "execution_count": 640,
   "metadata": {},
   "outputs": [
    {
     "name": "stdout",
     "output_type": "stream",
     "text": [
      "Results for 150 basis functions and lambda = 0.17041814813233852:\n",
      "Mean Squared Error (MSE): 3.946034030679077e-05\n",
      "\n",
      "Results for 150 basis functions and lambda = 0.09051761519877954:\n",
      "Mean Squared Error (MSE): 3.9431167222383214e-05\n",
      "\n",
      "Results for 150 basis functions and lambda = 0.05126627312538377:\n",
      "Mean Squared Error (MSE): 3.9423222602574196e-05\n",
      "\n",
      "Results for 150 basis functions and lambda = 0.07844001364558358:\n",
      "Mean Squared Error (MSE): 3.9428265478369054e-05\n",
      "\n",
      "Results for 150 basis functions and lambda = 0.06849752784445029:\n",
      "Mean Squared Error (MSE): 3.942618055221097e-05\n",
      "\n"
     ]
    }
   ],
   "source": [
    "# number of basis functions = 150\n",
    "A = np.array(gen_basis_matrix(p, 150))\n",
    "\n",
    "# pick 5 random values of lambda from 0 to 0.2\n",
    "lambdas = np.random.uniform(0, 0.2, 5)\n",
    "for lambda_ in lambdas:\n",
    "    # least squares regularized solution\n",
    "    x = least_squares_regularized(A, b, lambda_)\n",
    "\n",
    "    # calculate the mse and print the results\n",
    "    mse = np.mean((A @ x - b)**2)\n",
    "    print(f\"Results for 150 basis functions and lambda = {lambda_}:\")\n",
    "    # print(\"Coefficient vector x:\", x)\n",
    "    print(\"Mean Squared Error (MSE):\", mse)\n",
    "    print()"
   ]
  },
  {
   "cell_type": "markdown",
   "metadata": {},
   "source": [
    "cols = 200"
   ]
  },
  {
   "cell_type": "code",
   "execution_count": 641,
   "metadata": {},
   "outputs": [
    {
     "name": "stdout",
     "output_type": "stream",
     "text": [
      "Results for 200 basis functions and lambda = 0.09869698920369525:\n",
      "Mean Squared Error (MSE): 3.752019883825071e-06\n",
      "\n",
      "Results for 200 basis functions and lambda = 0.17721939559384595:\n",
      "Mean Squared Error (MSE): 3.757882434085791e-06\n",
      "\n",
      "Results for 200 basis functions and lambda = 0.14425857456412075:\n",
      "Mean Squared Error (MSE): 3.7550206279992016e-06\n",
      "\n",
      "Results for 200 basis functions and lambda = 0.1896276888004442:\n",
      "Mean Squared Error (MSE): 3.7591091916498633e-06\n",
      "\n",
      "Results for 200 basis functions and lambda = 0.0002338595791113285:\n",
      "Mean Squared Error (MSE): 3.749364559326598e-06\n",
      "\n"
     ]
    }
   ],
   "source": [
    "# number of basis functions = 200\n",
    "A = np.array(gen_basis_matrix(p, 200))\n",
    "\n",
    "# pick 5 random values of lambda from 0 to 0.2\n",
    "lambdas = np.random.uniform(0, 0.2, 5)\n",
    "for lambda_ in lambdas:\n",
    "    # least squares regularized solution\n",
    "    x = least_squares_regularized(A, b, lambda_)\n",
    "\n",
    "    # calculate the mse and print the results\n",
    "    mse = np.mean((A @ x - b)**2)\n",
    "    print(f\"Results for 200 basis functions and lambda = {lambda_}:\")\n",
    "    # print(\"Coefficient vector x:\", x)\n",
    "    print(\"Mean Squared Error (MSE):\", mse)\n",
    "    print()"
   ]
  },
  {
   "cell_type": "markdown",
   "metadata": {},
   "source": [
    "## Question 6"
   ]
  },
  {
   "cell_type": "markdown",
   "metadata": {},
   "source": [
    "## Question 8\n",
    "### Note: This is the same question as 4, just that we use the analytical solution there and here we use the gradient descent algorithm.\n",
    "\n",
    "Here first of all, we generate two random vectors p and q of length 100 sampled from uniform random distribution between [-1,1].\n",
    "\n",
    "Then the target variable b is defined as pq + p^2 + q^2.\n",
    "\n",
    "Now we generate 6 basis functions as provided in order to implement the gradient descent algorithm to find the optimal weights vector x. Then we generate the matrix A of basis functions.\n",
    "\n",
    "Gradient descent algorithm is implemented using the cost function and the update weights function. x (here theta) is initialized as a random vector of length 6.\n",
    "\n",
    "The learning rate is set as 0.01 so that the algorithm converges to the optimal weights vector and the number of iterations is set as 50000. The cost graph is plotted to see how the cost function decreases with the number of iterations.\n",
    "\n",
    "As we can see very easily that the target function is a linear combination of the basis functions, the mean squared error is very close to zero and the weights vector x (or theta) is very close to [0,0,0,1,1,1] as expected."
   ]
  },
  {
   "cell_type": "code",
   "execution_count": 642,
   "metadata": {},
   "outputs": [
    {
     "data": {
      "image/png": "[encoded data removed]",
      "text/plain": [
       "<Figure size 640x480 with 1 Axes>"
      ]
     },
     "metadata": {},
     "output_type": "display_data"
    },
    {
     "name": "stdout",
     "output_type": "stream",
     "text": [
      "Coefficient vector x: [4.79670102e-14 1.08665481e-15 2.77280794e-15 1.00000000e+00\n",
      " 1.00000000e+00 1.00000000e+00]\n",
      "Mean Squared Error (MSE): 1.2095387441268974e-27\n"
     ]
    }
   ],
   "source": [
    "# generate vectors p and q\n",
    "p = np.random.uniform(-1, 1, 100)\n",
    "q = np.random.uniform(-1, 1, 100)\n",
    "\n",
    "# generate the target variable b\n",
    "b = p * q + p**2 + q**2\n",
    "\n",
    "# defining the 6 basis functions\n",
    "f0 = np.ones(100)\n",
    "f1 = p\n",
    "f2 = q\n",
    "f3 = p**2\n",
    "f4 = q**2\n",
    "f5 = p * q\n",
    "\n",
    "# creating matrix A from the basis functions\n",
    "A = np.column_stack((f0, f1, f2, f3, f4, f5))\n",
    "\n",
    "# gradient descent functions\n",
    "# cost function\n",
    "def cost(x,y,theta):\n",
    "    return np.sum((x @ theta - y)**2)/(2*len(y))\n",
    "\n",
    "# gradient descent function which updates theta\n",
    "def gradient_descent(x,y,theta,learning_rate):\n",
    "    return theta - learning_rate * x.T @ (x @ theta - y) / len(y)\n",
    "\n",
    "# doing the gradient descent and plotting the cost function over iterations\n",
    "# random initial theta\n",
    "theta = np.random.randn(6)\n",
    "# print(\"Initial theta:\", theta)\n",
    "\n",
    "learning_rate = 0.01\n",
    "num_iterations = 50000\n",
    "cost_history = np.zeros(num_iterations)\n",
    "\n",
    "for i in range(num_iterations):\n",
    "    theta = gradient_descent(A,b,theta,learning_rate)\n",
    "    cost_history[i] = cost(A,b,theta)\n",
    "plt.plot(cost_history)\n",
    "plt.title(\"Cost over iterations\")\n",
    "plt.xlabel(\"Iteration\")\n",
    "plt.ylabel(\"Cost\")\n",
    "plt.show()\n",
    "\n",
    "# calculating the mse and printing the results\n",
    "mse = np.mean((A @ theta - b)**2)\n",
    "print(\"Coefficient vector x:\", theta)\n",
    "print(\"Mean Squared Error (MSE):\", mse)"
   ]
  },
  {
   "cell_type": "markdown",
   "metadata": {},
   "source": [
    "## Question 9\n",
    "\n",
    "Here, based on the given data, we have to fit 3 piece wise polynomial functions on the interval [0,1] and [1,2] and [2,3] respectively for f1, f2 and f3.\n",
    "\n",
    "It is given that f1 is degree 2 polynomial, f2 is degree 3 polynomial and f3 is degree 2 polynomial. Further, to impose continuity and differentiability at the boundaries, some additional constraints are added.\n",
    "\n",
    "f1(1) = f2(1) and f2(2) = f3(2) and f2'(2) = f3'(2)\n",
    "\n",
    "Now, we have to find the optimal weights vector x1, x2 and x3 for f1, f2 and f3 respectively, using the least squares method. \n",
    "\n",
    "We get,\n",
    "f1(x) = 4.00 + -3.00x + 1.00x^2\n",
    "\n",
    "f2(x) = 1.00 + 0.00x + -2.00x^2 + 3.00x^3\n",
    "\n",
    "f3(x) = -35.00 + 24.00x + 1.00x^2\n",
    "\n",
    "We see that the required polynomials also satisfy the given constraints. (Note that f1'(1) != f2'(1), but it is not our constraint.)\n",
    "\n",
    "Finally, the data points and the fitted polynomials are plotted to see how well the polynomials fit the data, it can be seen that our polynomials fit the data very well."
   ]
  },
  {
   "cell_type": "code",
   "execution_count": 643,
   "metadata": {},
   "outputs": [
    {
     "name": "stdout",
     "output_type": "stream",
     "text": [
      "Function for part 1 = 4.00 + -3.00x + 1.00x^2\n",
      "Function for part 2 = 1.00 + 0.00x + -2.00x^2 + 3.00x^3\n",
      "Function for part 3 = -35.00 + 24.00x + 1.00x^2\n",
      "\n",
      "Constraints:\n",
      "f1(1) = 2.00\n",
      "f2(1) = 2.00\n",
      "f2(2) = 17.00\n",
      "f3(2) = 17.00\n",
      "f2'(2) = 28.00\n",
      "f3'(2) = 28.00\n"
     ]
    },
    {
     "data": {
      "image/png": "[encoded data removed]",
      "text/plain": [
       "<Figure size 640x480 with 1 Axes>"
      ]
     },
     "metadata": {},
     "output_type": "display_data"
    }
   ],
   "source": [
    "# loading the data\n",
    "data = pd.read_csv(\"q9.csv\")\n",
    "data = data.values\n",
    "\n",
    "# dividing the data into three parts\n",
    "part_1 = data[(data[:, 0] >= 0) & (data[:, 0] <= 1)]\n",
    "part_2 = data[(data[:, 0] > 1) & (data[:, 0] <= 2)]\n",
    "part_3 = data[(data[:, 0] > 2) & (data[:, 0] <= 3)]\n",
    "\n",
    "# defining the evaluation function\n",
    "def f(params, x):\n",
    "    return np.polyval(params, x)\n",
    "\n",
    "# least squares function for polynomial regression which returns the parameters\n",
    "def least_squares_poly(part, degree):\n",
    "    x = part[:, 0]\n",
    "    y = part[:, 1]\n",
    "    X = np.vander(x, degree + 1)\n",
    "\n",
    "    params = least_squares(X, y)\n",
    "    return params\n",
    "\n",
    "# calculating the parameters for the 3 parts\n",
    "params_1 = least_squares_poly(part_1, 2)\n",
    "params_2 = least_squares_poly(part_2, 3)\n",
    "params_3 = least_squares_poly(part_3, 2)\n",
    "\n",
    "# printing the functions\n",
    "print(\"Function for part 1 = {:.2f} + {:.2f}x + {:.2f}x^2\".format(params_1[2], params_1[1], params_1[0]))\n",
    "print(\"Function for part 2 = {:.2f} + {:.2f}x + {:.2f}x^2 + {:.2f}x^3\".format(params_2[3], params_2[2], params_2[1], params_2[0]))\n",
    "print(\"Function for part 3 = {:.2f} + {:.2f}x + {:.2f}x^2\".format(params_3[2], params_3[1], params_3[0]))\n",
    "\n",
    "print(\"\\nConstraints:\")\n",
    "\n",
    "# check continuity\n",
    "print(\"f1(1) = {:.2f}\".format(f(params_1, 1)))\n",
    "print(\"f2(1) = {:.2f}\".format(f(params_2, 1)))\n",
    "print(\"f2(2) = {:.2f}\".format(f(params_2, 2)))\n",
    "print(\"f3(2) = {:.2f}\".format(f(params_3, 2)))\n",
    "\n",
    "# check differentiability\n",
    "print(\"f2'(2) = {:.2f}\".format(f(np.polyder(params_2), 2)))\n",
    "print(\"f3'(2) = {:.2f}\".format(f(np.polyder(params_3), 2)))\n",
    "\n",
    "# plotting the data and the functions to compare\n",
    "plt.scatter(data[:, 0], data[:, 1], label=\"Data\", color=\"darkblue\")\n",
    "\n",
    "x = np.linspace(0, 1, 100)\n",
    "plt.plot(x, f(params_1, x), label=\"Function for part 1\")\n",
    "x = np.linspace(1, 2, 100)\n",
    "plt.plot(x, f(params_2, x), label=\"Function for part 2\")\n",
    "x = np.linspace(2, 3, 100)\n",
    "plt.plot(x, f(params_3, x), label=\"Function for part 3\")\n",
    "\n",
    "plt.title(\"Data and functions\")\n",
    "plt.xlabel(\"x\")\n",
    "plt.ylabel(\"y\")\n",
    "plt.legend()\n",
    "plt.show()"
   ]
  }
 ],
 "metadata": {
  "kernelspec": {
   "display_name": "Python 3",
   "language": "python",
   "name": "python3"
  },
  "language_info": {
   "codemirror_mode": {
    "name": "ipython",
    "version": 3
   },
   "file_extension": ".py",
   "mimetype": "text/x-python",
   "name": "python",
   "nbconvert_exporter": "python",
   "pygments_lexer": "ipython3",
   "version": "3.11.3"
  }
 },
 "nbformat": 4,
 "nbformat_minor": 2
}
