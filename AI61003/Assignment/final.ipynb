{
 "cells": [
  {
   "cell_type": "markdown",
   "metadata": {},
   "source": [
    "# Assignment 1: Least Squares\n",
    "## Name: Barun Parua\n",
    "## Roll Number: 21CS10014"
   ]
  },
  {
   "cell_type": "markdown",
   "metadata": {},
   "source": [
    "## Imports\n",
    "Here is the list of all the libraries used in this assignment."
   ]
  },
  {
   "cell_type": "code",
   "execution_count": 438,
   "metadata": {},
   "outputs": [],
   "source": [
    "# imports\n",
    "from torchvision.datasets import MNIST\n",
    "import numpy as np\n",
    "# from sklearn.model_selection import train_test_split\n",
    "import matplotlib.pyplot as plt\n",
    "import pandas as pd"
   ]
  },
  {
   "cell_type": "markdown",
   "metadata": {},
   "source": [
    "## MNIST Dataset\n",
    "\n",
    "Here, the MNIST dataset is downloaded and stored separately for training and test data, hence no further splitting is required. "
   ]
  },
  {
   "cell_type": "code",
   "execution_count": 439,
   "metadata": {},
   "outputs": [],
   "source": [
    "# fetching and loading the MNIST dataset\n",
    "mnist_data_train = MNIST('/', train=True, download=True)\n",
    "mnist_data_test = MNIST('/', train=False, download=True)"
   ]
  },
  {
   "cell_type": "markdown",
   "metadata": {},
   "source": [
    "## Least Squares Function\n",
    "\n",
    "Main function of the assignment.\n",
    "\n",
    "This is the function that calculates the least squares solution for a given matrix A and vector b. It returns the vector x that minimizes the 2-norm of Ax-b.\n",
    "\n",
    "x is based on the formula: x = inv(A.T @ A) @ A.T @ b\n",
    "\n",
    "Note that here I have used the @ operator to denote matrix multiplication. Also, the transpose of a matrix A is denoted by A.T. Finally, inv(A) denotes the inverse of a matrix A. Here I have used the pinv function from numpy.linalg to calculate the pseudo-inverse of A, rather than the inverse of A so that the function can handle non-square and singular matrices. (However, A.T @ A is always square and invertible, so this is not necessary here.)"
   ]
  },
  {
   "cell_type": "code",
   "execution_count": 440,
   "metadata": {},
   "outputs": [],
   "source": [
    "def least_squares(A, b):\n",
    "    x = np.linalg.pinv(A.T @ A) @ A.T @ b\n",
    "    return x"
   ]
  },
  {
   "cell_type": "markdown",
   "metadata": {},
   "source": [
    "## Question 1\n",
    "\n",
    "The MNIST dataset is loaded already above. Now, we have to filter the dataset to only include classes 1 and 7 and assign them labels 1 and -1 respectively. After this the images are flattened from matrices of size 28x28 to vectors of length 784. Then, using the least squares function we train the model on train set and report the accuracy and the confusion matrix on the test set.\n",
    "\n",
    "It can be seen that the accuracy is very high, and the confusion matrix shows that the model is able to distinguish between 1 and 7 very well."
   ]
  },
  {
   "cell_type": "code",
   "execution_count": 441,
   "metadata": {},
   "outputs": [
    {
     "name": "stdout",
     "output_type": "stream",
     "text": [
      "Shapes of the train and test data before filtering: torch.Size([60000, 28, 28]) torch.Size([10000, 28, 28])\n",
      "Shapes of X_train and X_test before flattening: torch.Size([13007, 28, 28]), torch.Size([2163, 28, 28])\n",
      "Shapes of X_train and X_test after flattening: torch.Size([13007, 784]), torch.Size([2163, 784])\n",
      "\n",
      "Accuracy: 0.9894\n",
      "\n",
      "Confusion Matrix:\n",
      "Predicted  -1.0   1.0\n",
      "Actual               \n",
      "-1         1007    21\n",
      " 1            2  1133\n"
     ]
    }
   ],
   "source": [
    "# function to filter the dataset to only include 1s and 7s as per the assignment\n",
    "def filter_dataset(dataset):\n",
    "    indices = (dataset.targets == 1) | (dataset.targets == 7)\n",
    "    images = dataset.data[indices]\n",
    "    labels = dataset.targets[indices]\n",
    "    return images, labels\n",
    "\n",
    "print(\"Shapes of the train and test data before filtering:\", mnist_data_train.data.shape, mnist_data_test.data.shape)\n",
    "\n",
    "# applying the filter to get the test and train data\n",
    "X_train, y_train = filter_dataset(mnist_data_train)\n",
    "X_test, y_test = filter_dataset(mnist_data_test)\n",
    "\n",
    "# assigning the labels to 1 if class is 1 and -1 if class is 7\n",
    "y_train = np.where(y_train == 1, 1, -1)\n",
    "y_test = np.where(y_test == 1, 1, -1)\n",
    "\n",
    "print(f\"Shapes of X_train and X_test before flattening: {X_train.shape}, {X_test.shape}\")\n",
    "\n",
    "# vectorizing the images\n",
    "X_train = X_train.reshape(-1, 28 * 28) / 255.0\n",
    "X_test = X_test.reshape(-1, 28 * 28) / 255.0\n",
    "print(f\"Shapes of X_train and X_test after flattening: {X_train.shape}, {X_test.shape}\\n\")\n",
    "\n",
    "# adding a column of 1s to the data for the bias term\n",
    "X_train = np.hstack((np.ones((X_train.shape[0], 1)), X_train))\n",
    "X_test = np.hstack((np.ones((X_test.shape[0], 1)), X_test))\n",
    "\n",
    "# training the model to get the weights\n",
    "weights = least_squares(X_train, y_train)\n",
    "\n",
    "# predicting the labels for the test data\n",
    "y_pred = np.sign(X_test @ weights)\n",
    "\n",
    "# reporting the accuracy of the model\n",
    "accuracy = np.mean(y_pred == y_test)\n",
    "print(f\"Accuracy: {accuracy:.4f}\\n\\nConfusion Matrix:\")\n",
    "\n",
    "# plotting the confusion matrix\n",
    "confusion_matrix = pd.crosstab(y_test, y_pred, rownames=['Actual'], colnames=['Predicted'])\n",
    "print(confusion_matrix)\n"
   ]
  },
  {
   "cell_type": "markdown",
   "metadata": {},
   "source": [
    "## Question 2\n",
    "\n",
    "The MNIST dataset is loaded already above. Now, the images are flattened from matrices of size 28x28 to vectors of length 784. Then, using the least squares function we train the model on train set and report the accuracy and the confusion matrix on the test set.\n",
    "\n",
    "For each class, we have to train a separate model. Fpr this, we select samples of the current class as positive samples and randomly select equal number of samples from the other classes as negative samples to make the dataset balanced. Now using the least squares function we train the model on train set for each of the classes. Auxiliary functions are used so that repeated code is not written.\n",
    "\n",
    "Now, we have to predict the class of each test sample by using the model that gives the highest score of prediction for that sample and assigning the sample to that class. Finally we report the accuracy and the confusion matrix on the test set."
   ]
  },
  {
   "cell_type": "code",
   "execution_count": 442,
   "metadata": {},
   "outputs": [],
   "source": [
    "# define the training and test sets\n",
    "X_train, y_train = np.array(mnist_data_train.data), np.array(mnist_data_train.targets)\n",
    "X_test, y_test = np.array(mnist_data_test.data), np.array(mnist_data_test.targets)\n",
    "\n",
    "# vectorizing the images\n",
    "X_train = X_train.reshape(-1, 28 * 28) / 255.0\n",
    "X_test = X_test.reshape(-1, 28 * 28) / 255.0\n",
    "\n",
    "# function to filter the dataset to only include class i images for i in [0, 1, 2, 3, 4, 5, 6, 7, 8, 9]\n",
    "def filter_dataset(train_x, train_y, class_label):\n",
    "    indices = (train_y == class_label)\n",
    "    images = train_x[indices]\n",
    "    labels = train_y[indices]\n",
    "    return images, labels\n",
    "\n",
    "# function to select all images except those of class i for i in [0, 1, 2, 3, 4, 5, 6, 7, 8, 9]\n",
    "def filter_dataset_not(train_x, train_y, class_label):\n",
    "    indices = (train_y != class_label)\n",
    "    images = train_x[indices]\n",
    "    labels = train_y[indices]\n",
    "    return images, labels\n",
    "\n",
    "# function to train the model for a given class label\n",
    "def train_wrt_class(class_label):\n",
    "    # class label is the label of the class for which the model is being trained\n",
    "    # take the images of class and randomly sample the same number of images from the rest of the dataset\n",
    "    X_train_0, y_train_0 = filter_dataset(X_train, y_train, class_label)\n",
    "    X_train_0_not, y_train_0_not = filter_dataset_not(X_train, y_train, class_label)\n",
    "\n",
    "    # randomly sample the same number of images from the rest of the dataset\n",
    "    indices = np.random.choice(np.arange(len(X_train_0_not)), len(X_train_0))\n",
    "    X_train_0_not = X_train_0_not[indices]\n",
    "    y_train_0_not = y_train_0_not[indices]\n",
    "\n",
    "    # add the images of class 0 and the randomly sampled images from the rest of the dataset\n",
    "    X_train_0 = np.concatenate((X_train_0, X_train_0_not))\n",
    "    y_train_0 = np.concatenate((y_train_0, y_train_0_not))\n",
    "\n",
    "    print(f\"Shapes of X_train_0 and y_train_0 after filtering and sampling: {X_train_0.shape}, {y_train_0.shape}\")\n",
    "\n",
    "    # assign the labels to 1 if class is class_label and -1 if class is not class_label\n",
    "    y_train_0 = np.where(y_train_0 == class_label, 1, -1)\n",
    "    y_test_0 = np.where(y_test == class_label, 1, -1)\n",
    "\n",
    "    # train the model to get the weights\n",
    "    weights_0 = least_squares(X_train_0, y_train_0)\n",
    "\n",
    "    # predict the labels for the test data\n",
    "    y_pred_0 = np.sign(X_test @ weights_0)\n",
    "\n",
    "    # report the accuracy of the model\n",
    "    accuracy_0 = np.mean(y_pred_0 == y_test_0)\n",
    "    print(f\"\\nAccuracy for class {class_label}: {accuracy_0:.4f}\\n\\nConfusion Matrix for class {class_label}:\")\n",
    "\n",
    "    # plot the confusion matrix\n",
    "    confusion_matrix_0 = pd.crosstab(y_test_0, y_pred_0, rownames=['Actual'], colnames=['Predicted'])\n",
    "    print(confusion_matrix_0)\n",
    "    \n",
    "    return weights_0"
   ]
  },
  {
   "cell_type": "markdown",
   "metadata": {},
   "source": [
    "### Class 0\n",
    "\n",
    "Training of the model for class 0."
   ]
  },
  {
   "cell_type": "code",
   "execution_count": 443,
   "metadata": {},
   "outputs": [
    {
     "name": "stdout",
     "output_type": "stream",
     "text": [
      "Shapes of X_train_0 and y_train_0 after filtering and sampling: (11846, 784), (11846,)\n",
      "\n",
      "Accuracy for class 0: 0.9740\n",
      "\n",
      "Confusion Matrix for class 0:\n",
      "Predicted  -1.0   1.0\n",
      "Actual               \n",
      "-1         8769   251\n",
      " 1            9   971\n"
     ]
    }
   ],
   "source": [
    "# class 0\n",
    "weights_0 = train_wrt_class(0)"
   ]
  },
  {
   "cell_type": "markdown",
   "metadata": {},
   "source": [
    "### Class 1\n",
    "\n",
    "Training of the model for class 1."
   ]
  },
  {
   "cell_type": "code",
   "execution_count": 444,
   "metadata": {},
   "outputs": [
    {
     "name": "stdout",
     "output_type": "stream",
     "text": [
      "Shapes of X_train_0 and y_train_0 after filtering and sampling: (13484, 784), (13484,)\n",
      "\n",
      "Accuracy for class 1: 0.9654\n",
      "\n",
      "Confusion Matrix for class 1:\n",
      "Predicted  -1.0   1.0\n",
      "Actual               \n",
      "-1         8531   334\n",
      " 1           12  1123\n"
     ]
    }
   ],
   "source": [
    "# class 1\n",
    "weights_1 = train_wrt_class(1)"
   ]
  },
  {
   "cell_type": "markdown",
   "metadata": {},
   "source": [
    "### Class 2\n",
    "\n",
    "Training of the model for class 2."
   ]
  },
  {
   "cell_type": "code",
   "execution_count": 445,
   "metadata": {},
   "outputs": [
    {
     "name": "stdout",
     "output_type": "stream",
     "text": [
      "Shapes of X_train_0 and y_train_0 after filtering and sampling: (11916, 784), (11916,)\n",
      "\n",
      "Accuracy for class 2: 0.9486\n",
      "\n",
      "Confusion Matrix for class 2:\n",
      "Predicted  -1.0   1.0\n",
      "Actual               \n",
      "-1         8537   431\n",
      " 1           83   949\n"
     ]
    }
   ],
   "source": [
    "# class 2\n",
    "weights_2 = train_wrt_class(2)"
   ]
  },
  {
   "cell_type": "markdown",
   "metadata": {},
   "source": [
    "### Class 3\n",
    "\n",
    "Training of the model for class 3."
   ]
  },
  {
   "cell_type": "code",
   "execution_count": 446,
   "metadata": {},
   "outputs": [
    {
     "name": "stdout",
     "output_type": "stream",
     "text": [
      "Shapes of X_train_0 and y_train_0 after filtering and sampling: (12262, 784), (12262,)\n",
      "\n",
      "Accuracy for class 3: 0.9208\n",
      "\n",
      "Confusion Matrix for class 3:\n",
      "Predicted  -1.0   1.0\n",
      "Actual               \n",
      "-1         8253   737\n",
      " 1           55   955\n"
     ]
    }
   ],
   "source": [
    "# class 3\n",
    "weights_3 = train_wrt_class(3)"
   ]
  },
  {
   "cell_type": "markdown",
   "metadata": {},
   "source": [
    "### Class 4\n",
    "\n",
    "Training of the model for class 4."
   ]
  },
  {
   "cell_type": "code",
   "execution_count": 447,
   "metadata": {},
   "outputs": [
    {
     "name": "stdout",
     "output_type": "stream",
     "text": [
      "Shapes of X_train_0 and y_train_0 after filtering and sampling: (11684, 784), (11684,)\n",
      "\n",
      "Accuracy for class 4: 0.9347\n",
      "\n",
      "Confusion Matrix for class 4:\n",
      "Predicted  -1.0   1.0\n",
      "Actual               \n",
      "-1         8390   628\n",
      " 1           25   957\n"
     ]
    }
   ],
   "source": [
    "# class 4\n",
    "weights_4 = train_wrt_class(4)"
   ]
  },
  {
   "cell_type": "markdown",
   "metadata": {},
   "source": [
    "### Class 5\n",
    "\n",
    "Training of the model for class 5."
   ]
  },
  {
   "cell_type": "code",
   "execution_count": 448,
   "metadata": {},
   "outputs": [
    {
     "name": "stdout",
     "output_type": "stream",
     "text": [
      "Shapes of X_train_0 and y_train_0 after filtering and sampling: (10842, 784), (10842,)\n",
      "\n",
      "Accuracy for class 5: 0.9056\n",
      "\n",
      "Confusion Matrix for class 5:\n",
      "Predicted  -1.0   1.0\n",
      "Actual               \n",
      "-1         8226   882\n",
      " 1           62   830\n"
     ]
    }
   ],
   "source": [
    "# class 5\n",
    "weights_5 = train_wrt_class(5)"
   ]
  },
  {
   "cell_type": "markdown",
   "metadata": {},
   "source": [
    "### Class 6\n",
    "\n",
    "Training of the model for class 6."
   ]
  },
  {
   "cell_type": "code",
   "execution_count": 449,
   "metadata": {},
   "outputs": [
    {
     "name": "stdout",
     "output_type": "stream",
     "text": [
      "Shapes of X_train_0 and y_train_0 after filtering and sampling: (11836, 784), (11836,)\n",
      "\n",
      "Accuracy for class 6: 0.9590\n",
      "\n",
      "Confusion Matrix for class 6:\n",
      "Predicted  -1.0   1.0\n",
      "Actual               \n",
      "-1         8661   381\n",
      " 1           29   929\n"
     ]
    }
   ],
   "source": [
    "# class 6\n",
    "weights_6 = train_wrt_class(6)"
   ]
  },
  {
   "cell_type": "markdown",
   "metadata": {},
   "source": [
    "### Class 7\n",
    "\n",
    "Training of the model for class 7."
   ]
  },
  {
   "cell_type": "code",
   "execution_count": 450,
   "metadata": {},
   "outputs": [
    {
     "name": "stdout",
     "output_type": "stream",
     "text": [
      "Shapes of X_train_0 and y_train_0 after filtering and sampling: (12530, 784), (12530,)\n",
      "\n",
      "Accuracy for class 7: 0.9520\n",
      "\n",
      "Confusion Matrix for class 7:\n",
      "Predicted  -1.0   1.0\n",
      "Actual               \n",
      "-1         8537   435\n",
      " 1           45   983\n"
     ]
    }
   ],
   "source": [
    "# class 7\n",
    "weights_7 = train_wrt_class(7)"
   ]
  },
  {
   "cell_type": "markdown",
   "metadata": {},
   "source": [
    "### Class 8\n",
    "\n",
    "Training of the model for class 8."
   ]
  },
  {
   "cell_type": "code",
   "execution_count": 451,
   "metadata": {},
   "outputs": [
    {
     "name": "stdout",
     "output_type": "stream",
     "text": [
      "Shapes of X_train_0 and y_train_0 after filtering and sampling: (11702, 784), (11702,)\n",
      "\n",
      "Accuracy for class 8: 0.8500\n",
      "\n",
      "Confusion Matrix for class 8:\n",
      "Predicted  -1.0   1.0\n",
      "Actual               \n",
      "-1         7611  1415\n",
      " 1           85   889\n"
     ]
    }
   ],
   "source": [
    "# class 8\n",
    "weights_8 = train_wrt_class(8)"
   ]
  },
  {
   "cell_type": "markdown",
   "metadata": {},
   "source": [
    "### Class 9\n",
    "\n",
    "Training of the model for class 9."
   ]
  },
  {
   "cell_type": "code",
   "execution_count": 452,
   "metadata": {},
   "outputs": [
    {
     "name": "stdout",
     "output_type": "stream",
     "text": [
      "Shapes of X_train_0 and y_train_0 after filtering and sampling: (11898, 784), (11898,)\n",
      "\n",
      "Accuracy for class 9: 0.8839\n",
      "\n",
      "Confusion Matrix for class 9:\n",
      "Predicted  -1.0   1.0\n",
      "Actual               \n",
      "-1         7893  1098\n",
      " 1           63   946\n"
     ]
    }
   ],
   "source": [
    "# class 9\n",
    "weights_9 = train_wrt_class(9)"
   ]
  },
  {
   "cell_type": "markdown",
   "metadata": {},
   "source": [
    "### Using the models to get the confidence scores and assigning the class with highest score\n",
    "\n",
    "Now, we have to predict the class of each test sample by using the model that gives the highest score of prediction for that sample and assigning the sample to that class. Finally we report the accuracy and the confusion matrix on the test set."
   ]
  },
  {
   "cell_type": "code",
   "execution_count": 453,
   "metadata": {},
   "outputs": [
    {
     "name": "stdout",
     "output_type": "stream",
     "text": [
      "Accuracy: 0.8735\n",
      "\n",
      "Confusion Matrix:\n",
      "Predicted    0     1    2    3    4    5    6    7    8    9\n",
      "Actual                                                      \n",
      "0          922     1    5    0    3   15   15    2   14    3\n",
      "1            0  1090    3    5    1    1    3    1   31    0\n",
      "2           13    25  831   26   20    9   20   14   67    7\n",
      "3            8     2   16  877    5   41    5    9   31   16\n",
      "4            0     7    5    3  895    2    6    2   16   46\n",
      "5           11    11    3   34    9  711   25    6   64   18\n",
      "6           11     6   11    1   28   35  851    1   14    0\n",
      "7            2    31   20    8   19    4    1  844   10   89\n",
      "8            5    25    4   14   12   33   14   12  830   25\n",
      "9            9    11    3   18   46    6    2   20   10  884\n"
     ]
    }
   ],
   "source": [
    "# function to predict the class of an image\n",
    "def predict_class(image):\n",
    "    # calculate the confidence scores for each class\n",
    "    confidence_scores = np.array([image @ weights_0, image @ weights_1, image @ weights_2, image @ weights_3, image @ weights_4, image @ weights_5, image @ weights_6, image @ weights_7, image @ weights_8, image @ weights_9])\n",
    "    \n",
    "    # return the class with the highest confidence score\n",
    "    return np.argmax(confidence_scores)\n",
    "\n",
    "# predicting the classes of the test images\n",
    "y_pred = np.array([predict_class(image) for image in X_test])\n",
    "\n",
    "# reporting the accuracy of the model\n",
    "accuracy = np.mean(y_pred == y_test)\n",
    "print(f\"Accuracy: {accuracy:.4f}\\n\\nConfusion Matrix:\")\n",
    "\n",
    "# plotting the confusion matrix\n",
    "confusion_matrix = pd.crosstab(y_test, y_pred, rownames=['Actual'], colnames=['Predicted'])\n",
    "print(confusion_matrix)"
   ]
  },
  {
   "cell_type": "markdown",
   "metadata": {},
   "source": [
    "## Question 3\n",
    "\n",
    "Here first of all, we generate two random vectors p and q of length 100 sampled from uniform random distribution between [-10,10].\n",
    "\n",
    "Then the target variable b is defined as bi = +1 if pi*qi > 1 and bi = -1 otherwise, for i = 1,2,...,100.\n",
    "\n",
    "Now we generate 6 basis functions as provided. Then we generate the matrix A of basis functions.\n",
    "\n",
    "Now, we use the least squares method to find the optimal weights vector x. The optimal weights vector x is given by the formula (A^T A)^-1 A^T b, where A is the matrix of basis functions and b is the target variable vector.\n",
    "\n",
    "We get the weight vector x in this way and report x as well as the accuracy of the model."
   ]
  },
  {
   "cell_type": "code",
   "execution_count": 454,
   "metadata": {},
   "outputs": [
    {
     "name": "stdout",
     "output_type": "stream",
     "text": [
      "Coefficient vector x: [-0.20406687 -0.01252966 -0.01415187  0.00413896  0.00220245  0.02419242]\n",
      "Accuracy: 0.94\n"
     ]
    }
   ],
   "source": [
    "# generate vectors p and q\n",
    "p = np.random.uniform(-10, 10, 100)\n",
    "q = np.random.uniform(-10, 10, 100)\n",
    "\n",
    "# generate the target variable b\n",
    "b = np.where(p*q > 1, 1, -1)\n",
    "\n",
    "# defining the 6 basis functions\n",
    "f0 = np.ones(100)\n",
    "f1 = p\n",
    "f2 = q\n",
    "f3 = p**2\n",
    "f4 = q**2\n",
    "f5 = p * q\n",
    "\n",
    "# creating matrix A from the basis functions\n",
    "A = np.column_stack((f0, f1, f2, f3, f4, f5))\n",
    "\n",
    "# calling the least squares function to calculate the coefficient vector x\n",
    "x = least_squares(A, b)\n",
    "print(f'Coefficient vector x: {x}')\n",
    "\n",
    "# calculating the predicted values\n",
    "y_pred = np.sign(A @ x)\n",
    "accuracy = np.mean(y_pred == b)\n",
    "print(f'Accuracy: {accuracy}')"
   ]
  },
  {
   "cell_type": "markdown",
   "metadata": {},
   "source": [
    "## Question 4\n",
    "\n",
    "Here first of all, we generate two random vectors p and q of length 100 sampled from uniform random distribution between [-1,1].\n",
    "\n",
    "Then the target variable b is defined as pq + p^2 + q^2.\n",
    "\n",
    "Now we generate 6 basis functions as provided. Then we generate the matrix A of basis functions.\n",
    "\n",
    "Now, we use the least squares method to find the optimal weights vector x. The optimal weights vector x is given by the formula (A^T A)^-1 A^T b, where A is the matrix of basis functions and b is the target variable vector.\n",
    "\n",
    "As we can see very easily that the target function is a linear combination of the basis functions, the mean squared error is very close to zero and the weights vector x is very close to [0,0,0,1,1,1] as expected."
   ]
  },
  {
   "cell_type": "code",
   "execution_count": 455,
   "metadata": {},
   "outputs": [
    {
     "name": "stdout",
     "output_type": "stream",
     "text": [
      "Coefficient vector x: [ 1.45716772e-15 -6.93889390e-17 -1.52655666e-16  1.00000000e+00\n",
      "  1.00000000e+00  1.00000000e+00]\n",
      "Mean Squared Error (MSE): 6.94573634416132e-31\n"
     ]
    }
   ],
   "source": [
    "# generate vectors p and q\n",
    "p = np.random.uniform(-1, 1, 100)\n",
    "q = np.random.uniform(-1, 1, 100)\n",
    "\n",
    "# generate the target variable b\n",
    "b = p * q + p**2 + q**2\n",
    "\n",
    "# defining the 6 basis functions\n",
    "f0 = np.ones(100)\n",
    "f1 = p\n",
    "f2 = q\n",
    "f3 = p**2\n",
    "f4 = q**2\n",
    "f5 = p * q\n",
    "\n",
    "# creating matrix A from the basis functions\n",
    "A = np.column_stack((f0, f1, f2, f3, f4, f5))\n",
    "\n",
    "# calling the least squares function to calculate the coefficient vector x\n",
    "x = least_squares(A, b)\n",
    "\n",
    "# calculating the mse and printing the results\n",
    "mse = np.mean((A @ x - b)**2)\n",
    "print(\"Coefficient vector x:\", x)\n",
    "print(\"Mean Squared Error (MSE):\", mse)"
   ]
  },
  {
   "cell_type": "markdown",
   "metadata": {},
   "source": [
    "## Question 8\n",
    "### Note: This is the same question as 4, just that we use the analytical solution there and here we use the gradient descent algorithm.\n",
    "\n",
    "Here first of all, we generate two random vectors p and q of length 100 sampled from uniform random distribution between [-1,1].\n",
    "\n",
    "Then the target variable b is defined as pq + p^2 + q^2.\n",
    "\n",
    "Now we generate 6 basis functions as provided in order to implement the gradient descent algorithm to find the optimal weights vector x. Then we generate the matrix A of basis functions.\n",
    "\n",
    "Gradient descent algorithm is implemented using the cost function and the update weights function. x (here theta) is initialized as a random vector of length 6.\n",
    "\n",
    "The learning rate is set as 0.01 so that the algorithm converges to the optimal weights vector and the number of iterations is set as 50000. The cost graph is plotted to see how the cost function decreases with the number of iterations.\n",
    "\n",
    "As we can see very easily that the target function is a linear combination of the basis functions, the mean squared error is very close to zero and the weights vector x (or theta) is very close to [0,0,0,1,1,1] as expected."
   ]
  },
  {
   "cell_type": "code",
   "execution_count": 456,
   "metadata": {},
   "outputs": [
    {
     "data": {
      "image/png": "[encoded data removed]",
      "text/plain": [
       "<Figure size 640x480 with 1 Axes>"
      ]
     },
     "metadata": {},
     "output_type": "display_data"
    },
    {
     "name": "stdout",
     "output_type": "stream",
     "text": [
      "Coefficient vector x: [ 6.78006229e-16 -3.61171776e-15 -1.21994714e-14  1.00000000e+00\n",
      "  1.00000000e+00  1.00000000e+00]\n",
      "Mean Squared Error (MSE): 2.1900758598459814e-27\n"
     ]
    }
   ],
   "source": [
    "# generate vectors p and q\n",
    "p = np.random.uniform(-1, 1, 100)\n",
    "q = np.random.uniform(-1, 1, 100)\n",
    "\n",
    "# generate the target variable b\n",
    "b = p * q + p**2 + q**2\n",
    "\n",
    "# defining the 6 basis functions\n",
    "f0 = np.ones(100)\n",
    "f1 = p\n",
    "f2 = q\n",
    "f3 = p**2\n",
    "f4 = q**2\n",
    "f5 = p * q\n",
    "\n",
    "# creating matrix A from the basis functions\n",
    "A = np.column_stack((f0, f1, f2, f3, f4, f5))\n",
    "\n",
    "# gradient descent functions\n",
    "# cost function\n",
    "def cost(x,y,theta):\n",
    "    return np.sum((x @ theta - y)**2)/(2*len(y))\n",
    "\n",
    "# gradient descent function which updates theta\n",
    "def gradient_descent(x,y,theta,learning_rate):\n",
    "    return theta - learning_rate * x.T @ (x @ theta - y) / len(y)\n",
    "\n",
    "# doing the gradient descent and plotting the cost function over iterations\n",
    "# random initial theta\n",
    "theta = np.random.randn(6)\n",
    "# print(\"Initial theta:\", theta)\n",
    "\n",
    "learning_rate = 0.01\n",
    "num_iterations = 50000\n",
    "cost_history = np.zeros(num_iterations)\n",
    "\n",
    "for i in range(num_iterations):\n",
    "    theta = gradient_descent(A,b,theta,learning_rate)\n",
    "    cost_history[i] = cost(A,b,theta)\n",
    "plt.plot(cost_history)\n",
    "plt.title(\"Cost over iterations\")\n",
    "plt.xlabel(\"Iteration\")\n",
    "plt.ylabel(\"Cost\")\n",
    "plt.show()\n",
    "\n",
    "# calculating the mse and printing the results\n",
    "mse = np.mean((A @ theta - b)**2)\n",
    "print(\"Coefficient vector x:\", theta)\n",
    "print(\"Mean Squared Error (MSE):\", mse)"
   ]
  },
  {
   "cell_type": "markdown",
   "metadata": {},
   "source": [
    "## Question 9\n",
    "\n",
    "Here, based on the given data, we have to fit 3 piece wise polynomial functions on the interval [0,1] and [1,2] and [2,3] respectively for f1, f2 and f3.\n",
    "\n",
    "It is given that f1 is degree 2 polynomial, f2 is degree 3 polynomial and f3 is degree 2 polynomial. Further, to impose continuity and differentiability at the boundaries, some additional constraints are added.\n",
    "\n",
    "f1(1) = f2(1) and f2(2) = f3(2) and f2'(2) = f3'(2)\n",
    "\n",
    "Now, we have to find the optimal weights vector x1, x2 and x3 for f1, f2 and f3 respectively, using the least squares method. \n",
    "\n",
    "We get,\n",
    "f1(x) = 4.00 + -3.00x + 1.00x^2\n",
    "\n",
    "f2(x) = 1.00 + 0.00x + -2.00x^2 + 3.00x^3\n",
    "\n",
    "f3(x) = -35.00 + 24.00x + 1.00x^2\n",
    "\n",
    "We see that the required polynomials also satisfy the given constraints. (Note that f1'(1) != f2'(1), but it is not our constraint.)\n",
    "\n",
    "Finally, the data points and the fitted polynomials are plotted to see how well the polynomials fit the data, it can be seen that our polynomials fit the data very well."
   ]
  },
  {
   "cell_type": "code",
   "execution_count": 457,
   "metadata": {},
   "outputs": [
    {
     "name": "stdout",
     "output_type": "stream",
     "text": [
      "Function for part 1 = 4.00 + -3.00x + 1.00x^2\n",
      "Function for part 2 = 1.00 + 0.00x + -2.00x^2 + 3.00x^3\n",
      "Function for part 3 = -35.00 + 24.00x + 1.00x^2\n",
      "\n",
      "Constraints:\n",
      "f1(1) = 2.00\n",
      "f2(1) = 2.00\n",
      "f2(2) = 17.00\n",
      "f3(2) = 17.00\n",
      "f2'(2) = 28.00\n",
      "f3'(2) = 28.00\n"
     ]
    },
    {
     "data": {
      "image/png": "[encoded data removed]",
      "text/plain": [
       "<Figure size 640x480 with 1 Axes>"
      ]
     },
     "metadata": {},
     "output_type": "display_data"
    }
   ],
   "source": [
    "# loading the data\n",
    "data = pd.read_csv(\"q9.csv\")\n",
    "data = data.values\n",
    "\n",
    "# dividing the data into three parts\n",
    "part_1 = data[(data[:, 0] >= 0) & (data[:, 0] <= 1)]\n",
    "part_2 = data[(data[:, 0] > 1) & (data[:, 0] <= 2)]\n",
    "part_3 = data[(data[:, 0] > 2) & (data[:, 0] <= 3)]\n",
    "\n",
    "# defining the evaluation function\n",
    "def f(params, x):\n",
    "    return np.polyval(params, x)\n",
    "\n",
    "# least squares function for polynomial regression which returns the parameters\n",
    "def least_squares_poly(part, degree):\n",
    "    x = part[:, 0]\n",
    "    y = part[:, 1]\n",
    "    X = np.vander(x, degree + 1)\n",
    "\n",
    "    params = least_squares(X, y)\n",
    "    return params\n",
    "\n",
    "# calculating the parameters for the 3 parts\n",
    "params_1 = least_squares_poly(part_1, 2)\n",
    "params_2 = least_squares_poly(part_2, 3)\n",
    "params_3 = least_squares_poly(part_3, 2)\n",
    "\n",
    "# printing the functions\n",
    "print(\"Function for part 1 = {:.2f} + {:.2f}x + {:.2f}x^2\".format(params_1[2], params_1[1], params_1[0]))\n",
    "print(\"Function for part 2 = {:.2f} + {:.2f}x + {:.2f}x^2 + {:.2f}x^3\".format(params_2[3], params_2[2], params_2[1], params_2[0]))\n",
    "print(\"Function for part 3 = {:.2f} + {:.2f}x + {:.2f}x^2\".format(params_3[2], params_3[1], params_3[0]))\n",
    "\n",
    "print(\"\\nConstraints:\")\n",
    "\n",
    "# check continuity\n",
    "print(\"f1(1) = {:.2f}\".format(f(params_1, 1)))\n",
    "print(\"f2(1) = {:.2f}\".format(f(params_2, 1)))\n",
    "print(\"f2(2) = {:.2f}\".format(f(params_2, 2)))\n",
    "print(\"f3(2) = {:.2f}\".format(f(params_3, 2)))\n",
    "\n",
    "# check differentiability\n",
    "print(\"f2'(2) = {:.2f}\".format(f(np.polyder(params_2), 2)))\n",
    "print(\"f3'(2) = {:.2f}\".format(f(np.polyder(params_3), 2)))\n",
    "\n",
    "# plotting the data and the functions to compare\n",
    "plt.scatter(data[:, 0], data[:, 1], label=\"Data\", color=\"darkblue\")\n",
    "\n",
    "x = np.linspace(0, 1, 100)\n",
    "plt.plot(x, f(params_1, x), label=\"Function for part 1\")\n",
    "x = np.linspace(1, 2, 100)\n",
    "plt.plot(x, f(params_2, x), label=\"Function for part 2\")\n",
    "x = np.linspace(2, 3, 100)\n",
    "plt.plot(x, f(params_3, x), label=\"Function for part 3\")\n",
    "\n",
    "plt.title(\"Data and functions\")\n",
    "plt.xlabel(\"x\")\n",
    "plt.ylabel(\"y\")\n",
    "plt.legend()\n",
    "plt.show()"
   ]
  }
 ],
 "metadata": {
  "kernelspec": {
   "display_name": "Python 3",
   "language": "python",
   "name": "python3"
  },
  "language_info": {
   "codemirror_mode": {
    "name": "ipython",
    "version": 3
   },
   "file_extension": ".py",
   "mimetype": "text/x-python",
   "name": "python",
   "nbconvert_exporter": "python",
   "pygments_lexer": "ipython3",
   "version": "3.11.3"
  }
 },
 "nbformat": 4,
 "nbformat_minor": 2
}
