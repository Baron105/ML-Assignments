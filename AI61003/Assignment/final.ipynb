{
 "cells": [
  {
   "cell_type": "code",
   "execution_count": 26,
   "metadata": {},
   "outputs": [],
   "source": [
    "# imports\n",
    "# from torchvision.datasets import MNIST\n",
    "import numpy as np\n",
    "# from sklearn.preprocessing import StandardScaler, MinMaxScaler\n",
    "# from sklearn.linear_model import LinearRegression\n",
    "# from sklearn.metrics import accuracy_score, confusion_matrix\n",
    "# from sklearn.model_selection import train_test_split\n",
    "import matplotlib.pyplot as plt\n",
    "# import pandas as pd"
   ]
  },
  {
   "cell_type": "markdown",
   "metadata": {},
   "source": [
    "## Least Squares Function\n",
    "\n",
    "Main function of the assignment.\n",
    "\n",
    "This is the function that calculates the least squares solution for a given matrix A and vector b. It returns the vector x that minimizes the 2-norm of Ax-b.\n",
    "\n",
    "x is based on the formula: x = inv(A.T @ A) @ A.T @ b\n",
    "\n",
    "Note that here I have used the @ operator to denote matrix multiplication. Also, the transpose of a matrix A is denoted by A.T. Finally, inv(A) denotes the inverse of a matrix A. Here I have used the pinv function from numpy.linalg to calculate the pseudo-inverse of A, rather than the inverse of A so that the function can handle non-square and singular matrices. (However, A.T @ A is always square and invertible, so this is not necessary here.)"
   ]
  },
  {
   "cell_type": "code",
   "execution_count": 27,
   "metadata": {},
   "outputs": [],
   "source": [
    "def least_squares(A, b):\n",
    "    x = np.linalg.pinv(A.T @ A) @ A.T @ b\n",
    "    return x"
   ]
  },
  {
   "cell_type": "markdown",
   "metadata": {},
   "source": [
    "## Question 4\n",
    "\n",
    "Here first of all, we generate two random vectors p and q of length 100 sampled from uniform random distribution between [-1,1].\n",
    "\n",
    "Then the target variable b is defined as pq + p^2 + q^2.\n",
    "\n",
    "Now we generate 6 basis functions as provided in order to implement the gradient descent algorithm to find the optimal weights vector x.\n",
    "\n",
    "Now, we use the least squares method to find the optimal weights vector x. The optimal weights vector x is given by the formula (A^T A)^-1 A^T b, where A is the matrix of basis functions and b is the target variable vector.\n",
    "\n",
    "As we can see very easily that the target function is a linear combination of the basis functions, the mean squared error is very close to zero and the weights vector x is very close to [0,0,0,1,1,1] as expected."
   ]
  },
  {
   "cell_type": "code",
   "execution_count": 28,
   "metadata": {},
   "outputs": [
    {
     "name": "stdout",
     "output_type": "stream",
     "text": [
      "Coefficient vector x: [ 4.44089210e-16  2.77555756e-17 -1.80411242e-16  1.00000000e+00\n",
      "  1.00000000e+00  1.00000000e+00]\n",
      "Mean Squared Error (MSE): 1.9017914970315185e-31\n"
     ]
    }
   ],
   "source": [
    "# generate vectors p and q\n",
    "p = np.random.uniform(-1, 1, 100)\n",
    "q = np.random.uniform(-1, 1, 100)\n",
    "\n",
    "# generate the target variable b\n",
    "b = p * q + p**2 + q**2\n",
    "\n",
    "# defining the 6 basis functions\n",
    "f0 = np.ones(100)\n",
    "f1 = p\n",
    "f2 = q\n",
    "f3 = p**2\n",
    "f4 = q**2\n",
    "f5 = p * q\n",
    "\n",
    "# creating matrix A from the basis functions\n",
    "A = np.column_stack((f0, f1, f2, f3, f4, f5))\n",
    "\n",
    "# calling the least squares function to calculate the coefficient vector x\n",
    "x = least_squares(A, b)\n",
    "\n",
    "# calculating the mse and printing the results\n",
    "mse = np.mean((A @ x - b)**2)\n",
    "print(\"Coefficient vector x:\", x)\n",
    "print(\"Mean Squared Error (MSE):\", mse)"
   ]
  },
  {
   "cell_type": "markdown",
   "metadata": {},
   "source": [
    "## Question 8\n",
    "### Note: This is the same question as 4, just that we use the analytical solution there and here we use the gradient descent algorithm.\n",
    "\n",
    "Here first of all, we generate two random vectors p and q of length 100 sampled from uniform random distribution between [-1,1].\n",
    "\n",
    "Then the target variable b is defined as pq + p^2 + q^2.\n",
    "\n",
    "Now we generate 6 basis functions as provided in order to implement the gradient descent algorithm to find the optimal weights vector x.\n",
    "\n",
    "Gradient descent algorithm is implemented using the cost function and the update weights function. x (here theta) is initialized as a random vector of length 6.\n",
    "\n",
    "The learning rate is set as 0.01 so that the algorithm converges to the optimal weights vector and the number of iterations is set as 50000. The cost graph is plotted to see how the cost function decreases with the number of iterations.\n",
    "\n",
    "As we can see very easily that the target function is a linear combination of the basis functions, the mean squared error is very close to zero and the weights vector x (or theta) is very close to [0,0,0,1,1,1] as expected."
   ]
  },
  {
   "cell_type": "code",
   "execution_count": 29,
   "metadata": {},
   "outputs": [
    {
     "data": {
      "image/png": "[encoded data removed]",
      "text/plain": [
       "<Figure size 640x480 with 1 Axes>"
      ]
     },
     "metadata": {},
     "output_type": "display_data"
    },
    {
     "name": "stdout",
     "output_type": "stream",
     "text": [
      "Coefficient vector x: [ 4.11398686e-14 -5.96541565e-15 -2.23710887e-15  1.00000000e+00\n",
      "  1.00000000e+00  1.00000000e+00]\n",
      "Mean Squared Error (MSE): 9.227715943160692e-28\n"
     ]
    }
   ],
   "source": [
    "# generate vectors p and q\n",
    "p = np.random.uniform(-1, 1, 100)\n",
    "q = np.random.uniform(-1, 1, 100)\n",
    "\n",
    "# generate the target variable b\n",
    "b = p * q + p**2 + q**2\n",
    "\n",
    "# defining the 6 basis functions\n",
    "f0 = np.ones(100)\n",
    "f1 = p\n",
    "f2 = q\n",
    "f3 = p**2\n",
    "f4 = q**2\n",
    "f5 = p * q\n",
    "\n",
    "# creating matrix A from the basis functions\n",
    "A = np.column_stack((f0, f1, f2, f3, f4, f5))\n",
    "\n",
    "# gradient descent functions\n",
    "# cost function\n",
    "def cost(x,y,theta):\n",
    "    return np.sum((x @ theta - y)**2)/(2*len(y))\n",
    "\n",
    "# gradient descent function which updates theta\n",
    "def gradient_descent(x,y,theta,learning_rate):\n",
    "    return theta - learning_rate * x.T @ (x @ theta - y) / len(y)\n",
    "\n",
    "# doing the gradient descent and plotting the cost function over iterations\n",
    "# random initial theta\n",
    "theta = np.random.randn(6)\n",
    "# print(\"Initial theta:\", theta)\n",
    "\n",
    "learning_rate = 0.01\n",
    "num_iterations = 50000\n",
    "cost_history = np.zeros(num_iterations)\n",
    "\n",
    "for i in range(num_iterations):\n",
    "    theta = gradient_descent(A,b,theta,learning_rate)\n",
    "    cost_history[i] = cost(A,b,theta)\n",
    "plt.plot(cost_history)\n",
    "plt.title(\"Cost over iterations\")\n",
    "plt.xlabel(\"Iteration\")\n",
    "plt.ylabel(\"Cost\")\n",
    "plt.show()\n",
    "\n",
    "# calculating the mse and printing the results\n",
    "mse = np.mean((A @ theta - b)**2)\n",
    "print(\"Coefficient vector x:\", theta)\n",
    "print(\"Mean Squared Error (MSE):\", mse)"
   ]
  },
  {
   "cell_type": "markdown",
   "metadata": {},
   "source": []
  }
 ],
 "metadata": {
  "kernelspec": {
   "display_name": "Python 3",
   "language": "python",
   "name": "python3"
  },
  "language_info": {
   "codemirror_mode": {
    "name": "ipython",
    "version": 3
   },
   "file_extension": ".py",
   "mimetype": "text/x-python",
   "name": "python",
   "nbconvert_exporter": "python",
   "pygments_lexer": "ipython3",
   "version": "3.11.3"
  }
 },
 "nbformat": 4,
 "nbformat_minor": 2
}
