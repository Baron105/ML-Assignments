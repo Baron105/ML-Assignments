{
  "cells": [
    {
      "cell_type": "markdown",
      "metadata": {
        "id": "8TtKhNt2mW4T"
      },
      "source": [
        "# **Get all imports**"
      ]
    },
    {
      "cell_type": "code",
      "execution_count": null,
      "metadata": {
        "id": "k5yBnn3shWRP"
      },
      "outputs": [],
      "source": [
        "import pandas as pd\n",
        "import numpy as np\n",
        "import matplotlib.pyplot as plt\n",
        "import seaborn as sns"
      ]
    },
    {
      "cell_type": "markdown",
      "metadata": {
        "id": "1I88dKuMmO7j"
      },
      "source": [
        "# **Use Pandas to read data and separate into input features and target**\n",
        "### **Data Description**: We are going to predict Miles per Gallon (MPG) consumed by cars based on the following features\n",
        "\n",
        "\n",
        "1.   Cylinders - (Real) Number of cylinders used in the car's engine\n",
        "2.   Displacement - (Real) A measure of the cylinder volume swept by all of the pistons\n",
        "3.   Horsepower - (Real) The power of the engine\n",
        "2.   Weight - (Real) The weight of the entire car\n",
        "2.   Acceleration - (Real) The acceleration of the car\n",
        "2.   Mode Year - (Real) The year that the vehicle was built\n",
        "\n"
      ]
    },
    {
      "cell_type": "code",
      "execution_count": null,
      "metadata": {
        "colab": {
          "base_uri": "https://localhost:8080/",
          "height": 206
        },
        "id": "LofuV0fzhgYl",
        "outputId": "90b5824b-412b-4073-a1e8-fa6098cf08b5"
      },
      "outputs": [],
      "source": [
        "df = pd.read_csv(\"auto-mpg.data\", delimiter=\",\")\n",
        "# Drop the origin and car name columns\n",
        "df = df.drop([\"origin\", \"car name\"], axis=1)\n",
        "display(df.head())\n",
        "\n",
        "X, Y = df.drop([\"mpg\"], axis=1).values, df[\"mpg\"].values"
      ]
    },
    {
      "cell_type": "markdown",
      "metadata": {
        "id": "HfYakfkUOywG"
      },
      "source": [
        "# **Define the linear regression model using Pseudo Inverse.**"
      ]
    },
    {
      "cell_type": "code",
      "execution_count": null,
      "metadata": {
        "id": "oemoty5oOyS5"
      },
      "outputs": [],
      "source": [
        "class LinearRegression():\n",
        "    # Constructor of this class\n",
        "    def __init__(self):\n",
        "        self.coeff = list()\n",
        "\n",
        "    # This function is used to find the coefficients for the line of best fit\n",
        "    def fit(self, A, Y):\n",
        "        # Add Bias\n",
        "        A = np.concatenate((np.ones((len(A), 1)), A), axis=1)\n",
        "        # Find Pseudo Inverse\n",
        "        pseudo_inv = np.matmul(np.linalg.inv(np.matmul(np.transpose(A), A)), np.transpose(A))\n",
        "        # Finally get the coefficients\n",
        "        self.coeff = np.matmul(pseudo_inv, np.reshape(Y, (-1, 1)))\n",
        "\n",
        "    # This function uses the found coefficients to deliver predictions\n",
        "    def predict(self, A):\n",
        "        A = np.concatenate((np.ones((len(A), 1)), A), axis=1)\n",
        "        print(\"Model Coefficients:\", self.coeff)\n",
        "        return np.squeeze(np.matmul(A, self.coeff))"
      ]
    },
    {
      "cell_type": "markdown",
      "metadata": {
        "id": "6Bpfp2rzmCkp"
      },
      "source": [
        "# **Applying Linear Regression to Predict Miles Per Gallon**"
      ]
    },
    {
      "cell_type": "code",
      "execution_count": null,
      "metadata": {
        "colab": {
          "base_uri": "https://localhost:8080/"
        },
        "id": "Fb3HpGIUhuX3",
        "outputId": "18cf95d8-cc4f-4262-b8a0-711addac0a0c"
      },
      "outputs": [],
      "source": [
        "model = LinearRegression()\n",
        "model.fit(X, Y)\n",
        "preds = model.predict(X)\n",
        "print(\"Mean Squared Error:\", (np.sum((Y-preds)**2))/len(Y))"
      ]
    }
  ],
  "metadata": {
    "colab": {
      "provenance": []
    },
    "kernelspec": {
      "display_name": "Python 3",
      "name": "python3"
    },
    "language_info": {
      "codemirror_mode": {
        "name": "ipython",
        "version": 3
      },
      "file_extension": ".py",
      "mimetype": "text/x-python",
      "name": "python",
      "nbconvert_exporter": "python",
      "pygments_lexer": "ipython3",
      "version": "3.11.3"
    }
  },
  "nbformat": 4,
  "nbformat_minor": 0
}
