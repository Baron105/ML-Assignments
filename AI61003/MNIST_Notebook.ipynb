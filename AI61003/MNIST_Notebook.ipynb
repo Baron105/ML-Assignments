{
  "cells": [
    {
      "cell_type": "markdown",
      "metadata": {
        "id": "_P4U2mqhNQLY"
      },
      "source": [
        "## Get all Imports"
      ]
    },
    {
      "cell_type": "code",
      "execution_count": null,
      "metadata": {
        "id": "2JHbD8Ic-K3Z"
      },
      "outputs": [],
      "source": [
        "from torchvision.datasets import MNIST\n",
        "from sklearn.preprocessing import StandardScaler, MinMaxScaler\n",
        "from sklearn.linear_model import LinearRegression\n",
        "import numpy as np\n",
        "from sklearn.metrics import accuracy_score, confusion_matrix\n",
        "import matplotlib.pyplot as plt\n",
        "import seaborn as sns"
      ]
    },
    {
      "cell_type": "markdown",
      "metadata": {
        "id": "gfYUDSkbNAao"
      },
      "source": [
        "## Download and save the MNIST dataset"
      ]
    },
    {
      "cell_type": "code",
      "execution_count": null,
      "metadata": {
        "colab": {
          "base_uri": "https://localhost:8080/"
        },
        "id": "sxBuOTQ2-nY6",
        "outputId": "f5c0e6ed-8c95-48b7-c727-a53278c4f27d"
      },
      "outputs": [],
      "source": [
        "mnist_data_train = MNIST('/', train=True, download=True)\n",
        "mnist_data_test = MNIST('/', train=False, download=True)"
      ]
    },
    {
      "cell_type": "markdown",
      "metadata": {
        "id": "GQc7I6SxNHV-"
      },
      "source": [
        "## Load the data and perform pre-processing"
      ]
    },
    {
      "cell_type": "code",
      "execution_count": null,
      "metadata": {
        "colab": {
          "base_uri": "https://localhost:8080/",
          "height": 430
        },
        "id": "0K3iulSQ_7TY",
        "outputId": "9d4cc916-a48f-48df-9ff0-94265166dd67"
      },
      "outputs": [],
      "source": [
        "# Putting data into correct variables\n",
        "X_train, Y_train = mnist_data_train.data, mnist_data_train.targets\n",
        "X_test, Y_test = mnist_data_test.data, mnist_data_test.targets\n",
        "\n",
        "index = np.where(Y_test==5)[0][0]\n",
        "plt.imshow(X_test[index])\n",
        "\n",
        "# Flatten the images into vectors\n",
        "X_train, X_test = np.reshape(X_train, (X_train.shape[0], 28*28)), np.reshape(X_test, (X_test.shape[0], 28*28))\n",
        "\n",
        "# Select two classes (1 -> +1) and (7 -> -1). This is for train set\n",
        "sample_indices_pos = np.where(Y_train == 8)[0]\n",
        "sample_indices_neg = np.where(Y_train != 8)[0]\n",
        "X1, X2 = X_train[sample_indices_pos], X_train[sample_indices_neg[:len(sample_indices_pos)]]\n",
        "# Y1, Y2 = Y_train[sample_indices_pos], np.asarray([-1 for i in range(len(sample_indices_neg))])\n",
        "Y1, Y2 = np.ones(len(sample_indices_pos)), np.ones(len(sample_indices_pos))*-1\n",
        "# Create one train dataset out of this\n",
        "X_train, Y_train = np.concatenate((X1, X2), axis=0), np.concatenate([Y1, Y2])\n",
        "\n",
        "# Select two classes (1 -> +1) and (7 -> -1). This is for test set\n",
        "sample_indices_pos = np.where(Y_test == 8)[0]\n",
        "sample_indices_neg = np.where(Y_test != 8)[0]\n",
        "X1, X2 = X_test[sample_indices_pos], X_test[sample_indices_neg[:len(sample_indices_pos)]]\n",
        "# Y1, Y2 = Y_test[sample_indices_pos], np.asarray([-1 for i in range(len(sample_indices_neg))])\n",
        "Y1, Y2 = np.ones(len(sample_indices_pos)), np.ones(len(sample_indices_pos))*-1\n",
        "# Create one train dataset out of this\n",
        "X_test, Y_test = np.concatenate((X1, X2), axis=0), np.concatenate([Y1, Y2])\n",
        "\n",
        "# Whiten the data\n",
        "scaler = StandardScaler()\n",
        "X_train = scaler.fit_transform(X_train)\n",
        "X_test = scaler.transform(X_test)"
      ]
    },
    {
      "cell_type": "code",
      "execution_count": null,
      "metadata": {
        "colab": {
          "base_uri": "https://localhost:8080/"
        },
        "id": "oWOps9c9pVlk",
        "outputId": "ea8a1f41-44a1-4f06-c89d-000a0072b4a1"
      },
      "outputs": [],
      "source": [
        "X_train.shape"
      ]
    },
    {
      "cell_type": "code",
      "execution_count": null,
      "metadata": {
        "colab": {
          "base_uri": "https://localhost:8080/"
        },
        "id": "lC7_aA-LpgdH",
        "outputId": "2a08b97e-c1d3-4b7a-ecfa-34d612a733e1"
      },
      "outputs": [],
      "source": [
        "Y_test[:10]"
      ]
    },
    {
      "cell_type": "markdown",
      "metadata": {
        "id": "8ZuzQCwyQi6Q"
      },
      "source": [
        "## Now Apply Linear Regression based Classification"
      ]
    },
    {
      "cell_type": "code",
      "execution_count": null,
      "metadata": {
        "id": "K-gqfFEcK5tT"
      },
      "outputs": [],
      "source": [
        "model = LinearRegression()\n",
        "model.fit(X_train, Y_train)\n",
        "preds = model.predict(X_test)"
      ]
    },
    {
      "cell_type": "markdown",
      "metadata": {
        "id": "zOxQnfL_XBtu"
      },
      "source": [
        "## Check out the confusion matrix"
      ]
    },
    {
      "cell_type": "code",
      "execution_count": null,
      "metadata": {
        "colab": {
          "base_uri": "https://localhost:8080/",
          "height": 805
        },
        "id": "8MFIgJbQXBLv",
        "outputId": "9838a102-0a3e-40a8-c877-6e103fc92198"
      },
      "outputs": [],
      "source": [
        "# The outputs are continuous. Apply thresholding to calculate accuracy\n",
        "preds = np.asarray([1 if i>0 else -1 for i in preds])\n",
        "print(\"Accuracy:\", accuracy_score(Y_test, preds), \"\\n\\n\")\n",
        "\n",
        "cm = confusion_matrix(Y_test, preds)\n",
        "plt.figure(figsize=(9,9))\n",
        "sns.heatmap(cm, annot=True, fmt=\".3f\", linewidths=.5, square=True, cmap='Blues_r', xticklabels=[-1, 1], yticklabels=[-1, 1]);\n",
        "plt.ylabel('Actual label');\n",
        "plt.xlabel('Predicted label');\n",
        "plt.title(\"Confusion Matrix\", size = 15)"
      ]
    },
    {
      "cell_type": "markdown",
      "metadata": {
        "id": "HRSxBkgVeFoM"
      },
      "source": [
        "## Images correctly classified (True Positive)"
      ]
    },
    {
      "cell_type": "code",
      "execution_count": null,
      "metadata": {
        "colab": {
          "base_uri": "https://localhost:8080/",
          "height": 452
        },
        "id": "lGZu0HYDeFJz",
        "outputId": "9cfa5046-eaf2-4121-ffc5-f48d96a0217b"
      },
      "outputs": [],
      "source": [
        "plt.figure()\n",
        "f, axarr = plt.subplots(4,1)\n",
        "indices = np.where((preds==1) & (Y_test==1))[0][:4]\n",
        "for idx, index in enumerate(indices):\n",
        "    axarr[idx].imshow(np.reshape(X_test[index], (28, 28)))"
      ]
    },
    {
      "cell_type": "markdown",
      "metadata": {
        "id": "R8cSMyJpet1F"
      },
      "source": [
        "## Images correctly classified (True Negatives)"
      ]
    },
    {
      "cell_type": "code",
      "execution_count": null,
      "metadata": {
        "colab": {
          "base_uri": "https://localhost:8080/",
          "height": 452
        },
        "id": "NCGts6qWetfW",
        "outputId": "8174e36f-1323-4c4e-d6fa-f8222cb299cd"
      },
      "outputs": [],
      "source": [
        "plt.figure()\n",
        "f, axarr = plt.subplots(4,1)\n",
        "indices = np.where((preds==-1) & (Y_test==-1))[0][:4]\n",
        "for idx, index in enumerate(indices):\n",
        "    axarr[idx].imshow(np.reshape(X_test[index], (28, 28)))"
      ]
    },
    {
      "cell_type": "markdown",
      "metadata": {
        "id": "P9t2Zt03e1sF"
      },
      "source": [
        "## Images incorrectly classified (False Positives)"
      ]
    },
    {
      "cell_type": "code",
      "execution_count": null,
      "metadata": {
        "colab": {
          "base_uri": "https://localhost:8080/",
          "height": 452
        },
        "id": "Aupp_bB8e1c8",
        "outputId": "b5a22e3f-a61e-45da-a0c6-e3a9ff84cc11"
      },
      "outputs": [],
      "source": [
        "plt.figure()\n",
        "f, axarr = plt.subplots(4,1)\n",
        "indices = np.where((preds==1) & (Y_test==-1))[0][:4]\n",
        "for idx, index in enumerate(indices):\n",
        "    axarr[idx].imshow(np.reshape(X_test[index], (28, 28)))"
      ]
    },
    {
      "cell_type": "markdown",
      "metadata": {
        "id": "N9esRUGze_ub"
      },
      "source": [
        "## Images incorrectly classified (False Negatives)"
      ]
    },
    {
      "cell_type": "code",
      "execution_count": null,
      "metadata": {
        "colab": {
          "base_uri": "https://localhost:8080/",
          "height": 452
        },
        "id": "f6YJBDHce_Yu",
        "outputId": "7b7245ca-6fd3-4f8d-d00f-3bfb9b03e8dd"
      },
      "outputs": [],
      "source": [
        "plt.figure()\n",
        "f, axarr = plt.subplots(4,1)\n",
        "indices = np.where((preds==-1) & (Y_test==1))[0][:4]\n",
        "for idx, index in enumerate(indices):\n",
        "    axarr[idx].imshow(np.reshape(X_test[index], (28, 28)))"
      ]
    }
  ],
  "metadata": {
    "colab": {
      "provenance": []
    },
    "kernelspec": {
      "display_name": "Python 3",
      "name": "python3"
    },
    "language_info": {
      "codemirror_mode": {
        "name": "ipython",
        "version": 3
      },
      "file_extension": ".py",
      "mimetype": "text/x-python",
      "name": "python",
      "nbconvert_exporter": "python",
      "pygments_lexer": "ipython3",
      "version": "3.11.3"
    }
  },
  "nbformat": 4,
  "nbformat_minor": 0
}
