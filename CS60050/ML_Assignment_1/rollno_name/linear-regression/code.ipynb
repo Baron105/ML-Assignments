{
 "cells": [
  {
   "attachments": {},
   "cell_type": "markdown",
   "metadata": {},
   "source": [
    "## Assignment 1\n",
    "### Name: Barun Parua\n",
    "### Roll Number: 21CS10014"
   ]
  },
  {
   "cell_type": "code",
   "execution_count": 676,
   "metadata": {},
   "outputs": [],
   "source": [
    "# import all the necessary libraries here\n",
    "import pandas as pd\n",
    "import numpy as np"
   ]
  },
  {
   "cell_type": "code",
   "execution_count": 677,
   "metadata": {},
   "outputs": [
    {
     "name": "stdout",
     "output_type": "stream",
     "text": [
      "(1599, 12)\n"
     ]
    }
   ],
   "source": [
    "df = pd.read_csv('../../dataset/linear-regression.csv')\n",
    "print(df.shape)"
   ]
  },
  {
   "cell_type": "code",
   "execution_count": 678,
   "metadata": {},
   "outputs": [],
   "source": [
    "# normalize the data\n",
    "# df = (df - df.mean()) / df.std()\n",
    "# df.head()"
   ]
  },
  {
   "cell_type": "code",
   "execution_count": 679,
   "metadata": {},
   "outputs": [],
   "source": [
    "train_size = 0.5\n",
    "validate_size = 0.3\n",
    "test_size = 0.2\n",
    "train_data, validate_data, test_data = np.split(df.sample(frac=1), [int(train_size * len(df)), int((validate_size + train_size) * len(df))])\n",
    "x_total = df.iloc[:,:-1].values\n",
    "y_total = df.iloc[:,-1].values"
   ]
  },
  {
   "cell_type": "code",
   "execution_count": 680,
   "metadata": {},
   "outputs": [
    {
     "name": "stdout",
     "output_type": "stream",
     "text": [
      "[-1.11822433e+01 -1.65234332e-02 -1.32762151e+00 -4.00879232e-01\n",
      "  1.54485505e-02 -1.41622727e+00  3.40927499e-03 -4.56698094e-03\n",
      "  1.66245867e+01 -7.07880689e-01  9.80463692e-01  3.01938310e-01]\n"
     ]
    }
   ],
   "source": [
    "# training data\n",
    "x_train = train_data.iloc[:,:-1].values\n",
    "y_train = train_data.iloc[:,-1].values\n",
    "\n",
    "x_train = np.column_stack((np.ones(x_train.shape[0]), x_train))\n",
    "\n",
    "x_train_transpose = x_train.transpose()\n",
    "\n",
    "thetas = np.linalg.inv(x_train_transpose @ x_train) @ x_train_transpose @ y_train\n",
    "print(thetas)"
   ]
  },
  {
   "cell_type": "code",
   "execution_count": 681,
   "metadata": {},
   "outputs": [
    {
     "name": "stdout",
     "output_type": "stream",
     "text": [
      "MSE score:  0.43743801424074036\n",
      "RMSE score:  0.6613909692766755\n",
      "R-squared score:  0.8656833124342441\n"
     ]
    }
   ],
   "source": [
    "# using the thetas from the train dataset to predict the values of the test dataset\n",
    "x_test = test_data.iloc[:,:-1].values\n",
    "y_test = test_data.iloc[:,-1].values\n",
    "\n",
    "x_test = np.column_stack((np.ones(x_test.shape[0]), x_test))\n",
    "\n",
    "y_pred = x_test @ thetas\n",
    "\n",
    "mse = np.mean((y_pred - y_test)**2)\n",
    "print(\"MSE score: \", mse)\n",
    "\n",
    "rmse = np.sqrt(mse)\n",
    "print(\"RMSE score: \", rmse)\n",
    "\n",
    "test_var = np.sum((y_pred - y_test)**2)\n",
    "total_var = np.sum((y_total - np.mean(y_total))**2)\n",
    "r2 = 1 - (test_var/total_var)\n",
    "print(\"R-squared score: \", r2)"
   ]
  }
 ],
 "metadata": {
  "kernelspec": {
   "display_name": "base",
   "language": "python",
   "name": "python3"
  },
  "language_info": {
   "codemirror_mode": {
    "name": "ipython",
    "version": 3
   },
   "file_extension": ".py",
   "mimetype": "text/x-python",
   "name": "python",
   "nbconvert_exporter": "python",
   "pygments_lexer": "ipython3",
   "version": "3.11.3"
  },
  "orig_nbformat": 4,
  "vscode": {
   "interpreter": {
    "hash": "3067ead486e059ec00ffe7555bdb889e6e264a24dc711bf108106cc7baee8d5d"
   }
  }
 },
 "nbformat": 4,
 "nbformat_minor": 2
}
