{
 "cells": [
  {
   "attachments": {},
   "cell_type": "markdown",
   "metadata": {},
   "source": [
    "### Assignment 1\n",
    "#### Name: Barun Parua\n",
    "#### Roll Number: 21CS10014"
   ]
  },
  {
   "cell_type": "code",
   "execution_count": 199,
   "metadata": {},
   "outputs": [],
   "source": [
    "# importing all the necessary libraries\n",
    "# pandas for reading the csv file, numpy for mathematical operations, matplotlib for plotting the data\n",
    "import numpy as np\n",
    "import pandas as pd\n",
    "import matplotlib.pyplot as plt"
   ]
  },
  {
   "cell_type": "code",
   "execution_count": 200,
   "metadata": {},
   "outputs": [
    {
     "name": "stdout",
     "output_type": "stream",
     "text": [
      "(2500, 13)\n",
      "[1 1 0 ... 0 1 0]\n"
     ]
    }
   ],
   "source": [
    "df = pd.read_excel('../../dataset/logistic-regression/Pumpkin_Seeds_Dataset.xlsx')\n",
    "print(df.shape)\n",
    "\n",
    "# randomizing the dataset\n",
    "df = df.sample(frac=1).reset_index(drop=True)\n",
    "\n",
    "# splitting the dataset into x and y values\n",
    "x_total = df.iloc[:, :-1].values\n",
    "y_total = df.iloc[:, -1].values\n",
    "\n",
    "y_total = np.where(y_total == 'Ürgüp Sivrisi', int(1), int(0))\n",
    "print(y_total)"
   ]
  },
  {
   "cell_type": "code",
   "execution_count": 201,
   "metadata": {},
   "outputs": [],
   "source": [
    "# normalise the data\n",
    "for i in range(0, len(x_total[0])):\n",
    "    mean = np.mean(x_total[:, i])\n",
    "    std = np.std(x_total[:, i])\n",
    "    x_total[:, i] = (x_total[:, i] - mean) / std\n",
    "    \n",
    "# print(x_total)"
   ]
  },
  {
   "cell_type": "code",
   "execution_count": 202,
   "metadata": {},
   "outputs": [
    {
     "name": "stdout",
     "output_type": "stream",
     "text": [
      "(1250, 12) (1250,)\n"
     ]
    }
   ],
   "source": [
    "# split the data into train, test and validation set\n",
    "train_size = int(0.5 * len(x_total))\n",
    "validation_size = int(0.3 * len(x_total))\n",
    "test_size = int(0.2 * len(x_total))\n",
    "\n",
    "x_train = x_total[:train_size]\n",
    "x_validation = x_total[train_size:train_size+validation_size]\n",
    "x_test = x_total[train_size+validation_size:]\n",
    "\n",
    "y_train = y_total[:train_size]\n",
    "y_validation = y_total[train_size:train_size+validation_size]\n",
    "y_test = y_total[train_size+validation_size:]\n",
    "\n",
    "print(x_train.shape, y_train.shape)"
   ]
  },
  {
   "cell_type": "code",
   "execution_count": 203,
   "metadata": {},
   "outputs": [],
   "source": [
    "def sigmoid(z):\n",
    "    return 1 / (1 + np.exp(-z))\n",
    "\n",
    "def predict(x,theta):\n",
    "    return sigmoid(np.dot(x, theta))\n",
    "\n",
    "def cost(x,y,theta):\n",
    "    m = len(y)\n",
    "    h = predict(x, theta)\n",
    "    return (-1 / m) * np.sum(y * np.log(h) + (1 - y) * np.log(1 - h))\n",
    "\n",
    "def gradient_descent(x,y,theta,learning_rate):\n",
    "    n = len(y)\n",
    "    h = predict(x, theta)\n",
    "    gradient = np.dot(x.T, (h - y)) / n\n",
    "    theta -= learning_rate * gradient\n",
    "    return theta\n",
    "    "
   ]
  },
  {
   "cell_type": "code",
   "execution_count": 204,
   "metadata": {},
   "outputs": [
    {
     "name": "stdout",
     "output_type": "stream",
     "text": [
      "[-0.27985601  0.36559516  0.50853891 -0.49430382  0.28445784 -0.09509116\n",
      "  1.20774015  0.5664727   0.05225706 -0.33914382  0.94392475  0.32361644]\n"
     ]
    },
    {
     "ename": "ZeroDivisionError",
     "evalue": "division by zero",
     "output_type": "error",
     "traceback": [
      "\u001b[1;31m---------------------------------------------------------------------------\u001b[0m",
      "\u001b[1;31mZeroDivisionError\u001b[0m                         Traceback (most recent call last)",
      "Cell \u001b[1;32mIn[204], line 32\u001b[0m\n\u001b[0;32m     29\u001b[0m         tn \u001b[39m+\u001b[39m\u001b[39m=\u001b[39m \u001b[39m1\u001b[39m\n\u001b[0;32m     31\u001b[0m accuracy \u001b[39m=\u001b[39m ac\u001b[39m/\u001b[39m\u001b[39mlen\u001b[39m(y_pred)\n\u001b[1;32m---> 32\u001b[0m precision \u001b[39m=\u001b[39m tp\u001b[39m/\u001b[39;49m(tp\u001b[39m+\u001b[39;49mfp)\n\u001b[0;32m     33\u001b[0m recall \u001b[39m=\u001b[39m tp\u001b[39m/\u001b[39m(tp\u001b[39m+\u001b[39mfn)\n\u001b[0;32m     34\u001b[0m \u001b[39m#f1_score = 2*precision*recall/(precision+recall)\u001b[39;00m\n",
      "\u001b[1;31mZeroDivisionError\u001b[0m: division by zero"
     ]
    }
   ],
   "source": [
    "theta_grad = np.random.rand(x_total.shape[1])\n",
    "# print(x_total.shape)\n",
    "costs = []\n",
    "learning_rate = 0.01\n",
    "for i in range(1000):\n",
    "    costs.append(cost(x_train, y_train, theta_grad))\n",
    "    theta_grad = gradient_descent(x_train, y_train, theta_grad, learning_rate)\n",
    "print(theta_grad)\n",
    "\n",
    "y_pred = predict(x_test, theta_grad)\n",
    "\n",
    "# accuracy, precision, recall, f1 score\n",
    "c = 0\n",
    "\n",
    "for i in range(len(y_pred)):\n",
    "    if y_pred[i] >= 0.5:\n",
    "        y_pred[i] = 1\n",
    "    else:\n",
    "        y_pred[i] = 0\n",
    "    if (y_pred[i] == y_test[i]):\n",
    "        c += 1\n",
    "        \n",
    "print(\"Accuracy: \", c/len(y_pred))\n",
    "\n",
    "\n",
    "\n",
    "# plot the cost\n",
    "plt.plot(costs)\n",
    "plt.xlabel('Iterations')\n",
    "plt.ylabel('Cost')\n",
    "plt.title('Cost vs Iterations')\n",
    "plt.show()\n",
    "\n"
   ]
  }
 ],
 "metadata": {
  "kernelspec": {
   "display_name": "base",
   "language": "python",
   "name": "python3"
  },
  "language_info": {
   "codemirror_mode": {
    "name": "ipython",
    "version": 3
   },
   "file_extension": ".py",
   "mimetype": "text/x-python",
   "name": "python",
   "nbconvert_exporter": "python",
   "pygments_lexer": "ipython3",
   "version": "3.11.3"
  },
  "orig_nbformat": 4,
  "vscode": {
   "interpreter": {
    "hash": "3067ead486e059ec00ffe7555bdb889e6e264a24dc711bf108106cc7baee8d5d"
   }
  }
 },
 "nbformat": 4,
 "nbformat_minor": 2
}
