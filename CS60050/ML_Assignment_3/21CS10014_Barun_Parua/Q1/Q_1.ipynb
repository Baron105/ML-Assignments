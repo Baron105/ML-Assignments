{
 "cells": [
  {
   "cell_type": "markdown",
   "metadata": {},
   "source": [
    "## Assignment 3\n",
    "### Name: Barun Parua\n",
    "### Roll Number: 21CS10014"
   ]
  },
  {
   "cell_type": "code",
   "execution_count": 5,
   "metadata": {},
   "outputs": [],
   "source": [
    "from ucimlrepo import fetch_ucirepo\n",
    "import pandas as pd\n",
    "import numpy as np\n",
    "import matplotlib.pyplot as plt\n",
    "from sklearn.model_selection import train_test_split\n",
    "from sklearn.metrics import accuracy_score, precision_score, recall_score, f1_score, confusion_matrix\n",
    "from sklearn.svm import SVC\n",
    "import random\n",
    "\n",
    "# fetch the dataset\n",
    "spambase = fetch_ucirepo(id=94)"
   ]
  },
  {
   "cell_type": "code",
   "execution_count": 6,
   "metadata": {},
   "outputs": [],
   "source": [
    "# data as pandas dataframe\n",
    "X = spambase.data.features\n",
    "y = spambase.data.targets\n",
    "\n",
    "# split the data into train and test\n",
    "X_train, X_test, y_train, y_test = train_test_split(X, y, train_size=0.8, random_state=42)"
   ]
  },
  {
   "cell_type": "code",
   "execution_count": 7,
   "metadata": {},
   "outputs": [
    {
     "name": "stderr",
     "output_type": "stream",
     "text": [
      "c:\\Users\\barun\\AppData\\Local\\Programs\\Python\\Python311\\Lib\\site-packages\\sklearn\\utils\\validation.py:1143: DataConversionWarning: A column-vector y was passed when a 1d array was expected. Please change the shape of y to (n_samples, ), for example using ravel().\n",
      "  y = column_or_1d(y, warn=True)\n"
     ]
    },
    {
     "name": "stdout",
     "output_type": "stream",
     "text": [
      "Accuracy on training data:  0.9358695652173913\n"
     ]
    }
   ],
   "source": [
    "# train the SVM model\n",
    "clf = SVC(kernel='linear')\n",
    "clf.fit(X_train, y_train)\n",
    "\n",
    "# report the accuracy on the training data\n",
    "print(\"Accuracy on training data: \", clf.score(X_train, y_train))"
   ]
  },
  {
   "cell_type": "code",
   "execution_count": 8,
   "metadata": {},
   "outputs": [
    {
     "name": "stdout",
     "output_type": "stream",
     "text": [
      "Accuracy on test data:  0.9229098805646037\n",
      "Precision on test data:  0.9322493224932249\n",
      "Recall on test data:  0.882051282051282\n",
      "F1 score on test data:  0.9064558629776021\n",
      "Confusion matrix on test data: \n",
      " [[506  25]\n",
      " [ 46 344]]\n"
     ]
    }
   ],
   "source": [
    "# predict on the test data\n",
    "y_pred = clf.predict(X_test)\n",
    "\n",
    "# report the accuracy, precision, recall, and f1 score on the test data\n",
    "from sklearn.metrics import accuracy_score, precision_score, recall_score, f1_score, confusion_matrix\n",
    "print(\"Accuracy on test data: \", accuracy_score(y_test, y_pred))\n",
    "print(\"Precision on test data: \", precision_score(y_test, y_pred))\n",
    "print(\"Recall on test data: \", recall_score(y_test, y_pred))\n",
    "print(\"F1 score on test data: \", f1_score(y_test, y_pred))\n",
    "\n",
    "# report the confusion matrix on the test data\n",
    "print(\"Confusion matrix on test data: \\n\", confusion_matrix(y_test, y_pred))"
   ]
  },
  {
   "cell_type": "code",
   "execution_count": 9,
   "metadata": {},
   "outputs": [
    {
     "name": "stderr",
     "output_type": "stream",
     "text": [
      "c:\\Users\\barun\\AppData\\Local\\Programs\\Python\\Python311\\Lib\\site-packages\\sklearn\\utils\\validation.py:1143: DataConversionWarning: A column-vector y was passed when a 1d array was expected. Please change the shape of y to (n_samples, ), for example using ravel().\n",
      "  y = column_or_1d(y, warn=True)\n",
      "c:\\Users\\barun\\AppData\\Local\\Programs\\Python\\Python311\\Lib\\site-packages\\sklearn\\utils\\validation.py:1143: DataConversionWarning: A column-vector y was passed when a 1d array was expected. Please change the shape of y to (n_samples, ), for example using ravel().\n",
      "  y = column_or_1d(y, warn=True)\n",
      "c:\\Users\\barun\\AppData\\Local\\Programs\\Python\\Python311\\Lib\\site-packages\\sklearn\\utils\\validation.py:1143: DataConversionWarning: A column-vector y was passed when a 1d array was expected. Please change the shape of y to (n_samples, ), for example using ravel().\n",
      "  y = column_or_1d(y, warn=True)\n",
      "c:\\Users\\barun\\AppData\\Local\\Programs\\Python\\Python311\\Lib\\site-packages\\sklearn\\utils\\validation.py:1143: DataConversionWarning: A column-vector y was passed when a 1d array was expected. Please change the shape of y to (n_samples, ), for example using ravel().\n",
      "  y = column_or_1d(y, warn=True)\n",
      "c:\\Users\\barun\\AppData\\Local\\Programs\\Python\\Python311\\Lib\\site-packages\\sklearn\\utils\\validation.py:1143: DataConversionWarning: A column-vector y was passed when a 1d array was expected. Please change the shape of y to (n_samples, ), for example using ravel().\n",
      "  y = column_or_1d(y, warn=True)\n"
     ]
    }
   ],
   "source": [
    "# Regularization\n",
    "# Tabularising the accuracy values for different values of C\n",
    "\n",
    "acc = []\n",
    "\n",
    "# train the SVM model with C=0.001 and report the accuracy on the test data\n",
    "clf = SVC(kernel='linear', C=0.001)\n",
    "clf.fit(X_train, y_train)\n",
    "\n",
    "# report the accuracy on the test data\n",
    "y_pred = clf.predict(X_test)\n",
    "acc.append(accuracy_score(y_test, y_pred))\n",
    "\n",
    "# train the SVM model with C=0.1 and report the accuracy on the test data\n",
    "clf = SVC(kernel='linear', C=0.1)\n",
    "clf.fit(X_train, y_train)\n",
    "\n",
    "# report the accuracy on the test data\n",
    "y_pred = clf.predict(X_test)\n",
    "acc.append(accuracy_score(y_test, y_pred))\n",
    "\n",
    "# train the SVM model with C=1 and report the accuracy on the test data\n",
    "clf = SVC(kernel='linear', C=1)\n",
    "clf.fit(X_train, y_train)\n",
    "\n",
    "# report the accuracy on the test data\n",
    "y_pred = clf.predict(X_test)\n",
    "acc.append(accuracy_score(y_test, y_pred))\n",
    "\n",
    "# train the SVM model with C=10 and report the accuracy on the test data\n",
    "clf = SVC(kernel='linear', C=10)\n",
    "clf.fit(X_train, y_train)\n",
    "\n",
    "# report the accuracy on the test data\n",
    "y_pred = clf.predict(X_test)\n",
    "acc.append(accuracy_score(y_test, y_pred))\n",
    "\n",
    "# train the SVM model with C=100 and report the accuracy on the test data\n",
    "clf = SVC(kernel='linear', C=100)\n",
    "clf.fit(X_train, y_train)\n",
    "\n",
    "# report the accuracy on the test data\n",
    "y_pred = clf.predict(X_test)\n",
    "acc.append(accuracy_score(y_test, y_pred))\n",
    "\n",
    "\n",
    "# plot the accuracy values for different values of C\n",
    "plt.plot([0.001, 0.1, 1, 10, 100], acc)\n",
    "plt.xlabel('C')\n",
    "plt.ylabel('Accuracy')\n",
    "plt.title('Accuracy vs C')\n",
    "plt.show()\n"
   ]
  },
  {
   "cell_type": "markdown",
   "metadata": {},
   "source": [
    "## Kernel Tricks"
   ]
  },
  {
   "cell_type": "code",
   "execution_count": null,
   "metadata": {},
   "outputs": [],
   "source": [
    "# poly kernel degree 2\n",
    "# train the SVM model with poly kernel and degree=2 and report the accuracy on the test data\n",
    "clf = SVC(kernel='poly', degree=2)\n",
    "clf.fit(X_train, y_train)\n",
    "\n",
    "# report the accuracy on the test data\n",
    "y_pred = clf.predict(X_test)\n",
    "print(\"Accuracy on test data for poly kernel and degree=2: \", accuracy_score(y_test, y_pred))\n",
    "print(\"Precision on test data for poly kernel and degree=2: \", precision_score(y_test, y_pred))\n",
    "print(\"Recall on test data for poly kernel and degree=2: \", recall_score(y_test, y_pred))\n",
    "print(\"F1 score on test data for poly kernel and degree=2: \", f1_score(y_test, y_pred))\n",
    "print()\n",
    "\n",
    "# poly kernel degree 3\n",
    "# train the SVM model with poly kernel and degree=3 and report the accuracy on the test data\n",
    "clf = SVC(kernel='poly', degree=3)\n",
    "clf.fit(X_train, y_train)\n",
    "\n",
    "# report the accuracy on the test data\n",
    "y_pred = clf.predict(X_test)\n",
    "print(\"Accuracy on test data for poly kernel and degree=3: \", accuracy_score(y_test, y_pred))\n",
    "print(\"Precision on test data for poly kernel and degree=3: \", precision_score(y_test, y_pred))\n",
    "print(\"Recall on test data for poly kernel and degree=3: \", recall_score(y_test, y_pred))\n",
    "print(\"F1 score on test data for poly kernel and degree=3: \", f1_score(y_test, y_pred))\n",
    "print()\n",
    "\n",
    "# sigmoid kernel\n",
    "# train the SVM model with sigmoid kernel and report the accuracy on the test data\n",
    "clf = SVC(kernel='sigmoid')\n",
    "clf.fit(X_train, y_train)\n",
    "\n",
    "# report the accuracy on the test data\n",
    "y_pred = clf.predict(X_test)\n",
    "print(\"Accuracy on test data for sigmoid kernel: \", accuracy_score(y_test, y_pred))\n",
    "print(\"Precision on test data for sigmoid kernel: \", precision_score(y_test, y_pred))\n",
    "print(\"Recall on test data for sigmoid kernel: \", recall_score(y_test, y_pred))\n",
    "print(\"F1 score on test data for sigmoid kernel: \", f1_score(y_test, y_pred))\n",
    "print()\n",
    "\n",
    "# rbf kernel\n",
    "# train the SVM model with rbf kernel and report the accuracy on the test data\n",
    "clf = SVC(kernel='rbf')\n",
    "clf.fit(X_train, y_train)\n",
    "\n",
    "# report the accuracy on the test data\n",
    "y_pred = clf.predict(X_test)\n",
    "print(\"Accuracy on test data for rbf kernel: \", accuracy_score(y_test, y_pred))\n",
    "print(\"Precision on test data for rbf kernel: \", precision_score(y_test, y_pred))\n",
    "print(\"Recall on test data for rbf kernel: \", recall_score(y_test, y_pred))\n",
    "print(\"F1 score on test data for rbf kernel: \", f1_score(y_test, y_pred))\n",
    "print()"
   ]
  },
  {
   "cell_type": "markdown",
   "metadata": {},
   "source": [
    "## Overfitting and Underfitting Analysis"
   ]
  },
  {
   "cell_type": "code",
   "execution_count": null,
   "metadata": {},
   "outputs": [],
   "source": [
    "# Experimenting with different kernel complexities and regularization parameters\n",
    "\n",
    "test_acc = []\n",
    "train_acc = []\n",
    "\n",
    "# 1. poly kernel with degree=1 and C=0.01\n",
    "# train the SVM model with poly kernel and degree=1 and C=0.01 and report the accuracy on the test data and train data\n",
    "clf = SVC(kernel='poly', degree=1, C=0.01)\n",
    "clf.fit(X_train, y_train)\n",
    "\n",
    "# report the accuracy on the train data\n",
    "y_pred = clf.predict(X_train)\n",
    "train_acc.append(accuracy_score(y_train, y_pred))\n",
    "\n",
    "# report the accuracy on the test data\n",
    "y_pred = clf.predict(X_test)\n",
    "test_acc.append(accuracy_score(y_test, y_pred))\n",
    "\n",
    "# 2. poly kernel with degree=1 and C=100\n",
    "# train the SVM model with poly kernel and degree=1 and C=100 and report the accuracy on the test data and train data\n",
    "clf = SVC(kernel='poly', degree=1, C=100)\n",
    "clf.fit(X_train, y_train)\n",
    "\n",
    "# report the accuracy on the train data\n",
    "y_pred = clf.predict(X_train)\n",
    "train_acc.append(accuracy_score(y_train, y_pred))\n",
    "\n",
    "# report the accuracy on the test data\n",
    "y_pred = clf.predict(X_test)\n",
    "test_acc.append(accuracy_score(y_test, y_pred))\n",
    "\n",
    "# 3. poly kernel with degree=3 and C=0.01\n",
    "# train the SVM model with poly kernel and degree=3 and C=0.01 and report the accuracy on the test data and train data\n",
    "clf = SVC(kernel='poly', degree=3, C=0.01)\n",
    "clf.fit(X_train, y_train)\n",
    "\n",
    "# report the accuracy on the train data\n",
    "y_pred = clf.predict(X_train)\n",
    "train_acc.append(accuracy_score(y_train, y_pred))\n",
    "\n",
    "# report the accuracy on the test data\n",
    "y_pred = clf.predict(X_test)\n",
    "test_acc.append(accuracy_score(y_test, y_pred))\n",
    "\n",
    "# 4. poly kernel with degree=3 and C=100\n",
    "# train the SVM model with poly kernel and degree=3 and C=100 and report the accuracy on the test data and train data\n",
    "clf = SVC(kernel='poly', degree=3, C=100)\n",
    "clf.fit(X_train, y_train)\n",
    "\n",
    "# report the accuracy on the train data\n",
    "y_pred = clf.predict(X_train)\n",
    "train_acc.append(accuracy_score(y_train, y_pred))\n",
    "\n",
    "# report the accuracy on the test data\n",
    "y_pred = clf.predict(X_test)\n",
    "test_acc.append(accuracy_score(y_test, y_pred))\n",
    "\n",
    "# plot the accuracy values for different values of C\n",
    "plt.plot([1, 2, 3, 4], train_acc, label=\"train\")\n",
    "plt.plot([1, 2, 3, 4], test_acc, label=\"test\")\n",
    "plt.xlabel('Experiment')\n",
    "plt.ylabel('Accuracy')\n",
    "plt.title('Accuracy vs Experiment')\n",
    "plt.legend()\n",
    "plt.show()"
   ]
  }
 ],
 "metadata": {
  "kernelspec": {
   "display_name": "Python 3",
   "language": "python",
   "name": "python3"
  },
  "language_info": {
   "codemirror_mode": {
    "name": "ipython",
    "version": 3
   },
   "file_extension": ".py",
   "mimetype": "text/x-python",
   "name": "python",
   "nbconvert_exporter": "python",
   "pygments_lexer": "ipython3",
   "version": "3.11.3"
  }
 },
 "nbformat": 4,
 "nbformat_minor": 2
}
