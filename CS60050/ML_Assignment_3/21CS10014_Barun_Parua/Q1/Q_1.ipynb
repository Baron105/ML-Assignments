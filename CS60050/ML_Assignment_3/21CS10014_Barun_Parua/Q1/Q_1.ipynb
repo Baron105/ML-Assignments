{
 "cells": [
  {
   "cell_type": "markdown",
   "metadata": {},
   "source": [
    "## Assignment 3 \n",
    "## Question 1: SVM Classifier\n",
    "### Name: Barun Parua\n",
    "### Roll Number: 21CS10014"
   ]
  },
  {
   "cell_type": "markdown",
   "metadata": {},
   "source": [
    "### Imports\n",
    "Here is the list of all the libraries used in this assignment."
   ]
  },
  {
   "cell_type": "code",
   "execution_count": 88,
   "metadata": {},
   "outputs": [],
   "source": [
    "# ucimlrepo for fetching the dataset\n",
    "from ucimlrepo import fetch_ucirepo\n",
    "\n",
    "# numpy, matplotlib for data manipulation and visualization\n",
    "# tabulate for printing the results in a table\n",
    "import numpy as np\n",
    "import matplotlib.pyplot as plt\n",
    "from tabulate import tabulate\n",
    "\n",
    "# sklearn for splitting the dataset and for SVM\n",
    "# also used for scaling the dataset as it gives much faster results\n",
    "from sklearn.model_selection import train_test_split\n",
    "from sklearn.metrics import accuracy_score, precision_score, recall_score, f1_score, confusion_matrix\n",
    "from sklearn.svm import SVC\n",
    "from sklearn.preprocessing import StandardScaler\n",
    "\n",
    "# for fetching the dataset\n",
    "spambase = fetch_ucirepo(id=94)"
   ]
  },
  {
   "cell_type": "markdown",
   "metadata": {},
   "source": [
    "## Part A: SVM Classifier\n",
    "\n",
    "### Data Loading\n",
    "\n",
    "We load the data in the appropriate format and then convert it into a numpy arrays for further processing. It is also scaled using standard scaler for better performance. Finally it is split into training and testing data.\n",
    "\n",
    "Note that the y arrays are reshaped to avoid warnings during training."
   ]
  },
  {
   "cell_type": "code",
   "execution_count": 89,
   "metadata": {},
   "outputs": [],
   "source": [
    "X = spambase.data.features\n",
    "y = spambase.data.targets\n",
    "\n",
    "# convert to numpy array\n",
    "X = np.array(X)\n",
    "y = np.array(y)\n",
    "\n",
    "# scale the data\n",
    "# this makes the svm converge much faster in all cases\n",
    "scaler = StandardScaler()\n",
    "X = scaler.fit_transform(X)\n",
    "\n",
    "# split the data into train and test\n",
    "X_train, X_test, y_train, y_test = train_test_split(X, y, train_size=0.8, random_state=10)\n",
    "\n",
    "# make the data in ND array form\n",
    "X_train = np.array(X_train)\n",
    "X_test = np.array(X_test)\n",
    "y_train = np.array(y_train)\n",
    "y_test = np.array(y_test)\n",
    "\n",
    "# change shape of y_train and y_test to (n, )\n",
    "y_train = y_train.reshape(-1)\n",
    "y_test = y_test.reshape(-1)"
   ]
  },
  {
   "cell_type": "markdown",
   "metadata": {},
   "source": [
    "### Training the SVM Classifier\n",
    "\n",
    "We train the SVM classifier using the training data and then predict the labels for the test data. We also calculate the accuracy, precision, recall and f1 score for the classifier."
   ]
  },
  {
   "cell_type": "code",
   "execution_count": 90,
   "metadata": {},
   "outputs": [
    {
     "name": "stdout",
     "output_type": "stream",
     "text": [
      "Metrics of SVM with Linear Kernel on Train Data\n",
      "Metric        Value\n",
      "---------  --------\n",
      "Accuracy   0.92962\n",
      "Precision  0.926934\n",
      "Recall     0.891799\n",
      "F1 Score   0.909027\n"
     ]
    }
   ],
   "source": [
    "# train the SVM model\n",
    "clf = SVC(kernel='linear')\n",
    "clf.fit(X_train, y_train)\n",
    "\n",
    "# report the accuracy, precision, recall and f1 score in a table\n",
    "y_pred = clf.predict(X_train)\n",
    "\n",
    "print(\"Metrics of SVM with Linear Kernel on Train Data\")\n",
    "accuracy = accuracy_score(y_train, y_pred)\n",
    "precision = precision_score(y_train, y_pred)\n",
    "recall = recall_score(y_train, y_pred)\n",
    "f1 = f1_score(y_train, y_pred)\n",
    "\n",
    "table = [['Accuracy', accuracy], ['Precision', precision], ['Recall', recall], ['F1 Score', f1]]\n",
    "print(tabulate(table, headers=['Metric', 'Value']))"
   ]
  },
  {
   "cell_type": "markdown",
   "metadata": {},
   "source": [
    "### Evaluation of Model on Test Data\n",
    "\n",
    "Now, the model is evaluated on the test data and the accuracy, precision, recall and f1 score are calculated. It can be seen that while the accuracy is a bit lower than train data, it is still very high. The confusion matrix is also printed."
   ]
  },
  {
   "cell_type": "code",
   "execution_count": 91,
   "metadata": {},
   "outputs": [
    {
     "name": "stdout",
     "output_type": "stream",
     "text": [
      "Metrics of SVM with Linear Kernel on Test Data\n",
      "Metric        Value\n",
      "---------  --------\n",
      "Accuracy   0.948969\n",
      "Precision  0.938719\n",
      "Recall     0.930939\n",
      "F1 Score   0.934813\n",
      "\n",
      "Confusion Matrix\n",
      "[[537  22]\n",
      " [ 25 337]]\n"
     ]
    }
   ],
   "source": [
    "# predict on the test data\n",
    "y_pred = clf.predict(X_test)\n",
    "\n",
    "# report the accuracy, precision, recall, and f1 score on the test data in tabular form\n",
    "print(\"Metrics of SVM with Linear Kernel on Test Data\")\n",
    "accuracy = accuracy_score(y_test, y_pred)\n",
    "precision = precision_score(y_test, y_pred)\n",
    "recall = recall_score(y_test, y_pred)\n",
    "f1 = f1_score(y_test, y_pred)\n",
    "\n",
    "table = [['Accuracy', accuracy], ['Precision', precision], ['Recall', recall], ['F1 Score', f1]]\n",
    "print(tabulate(table, headers=['Metric', 'Value']))\n",
    "\n",
    "# confusion matrix\n",
    "print(\"\\nConfusion Matrix\")\n",
    "print(confusion_matrix(y_test, y_pred))"
   ]
  },
  {
   "cell_type": "markdown",
   "metadata": {},
   "source": [
    "### Regularization\n",
    "\n",
    "Now, we use regularization to improve the performance of the model by reducing overfitting. The value of C is varied and the accuracy, precision, recall and f1 score are calculated for each value. It is tabulated and plotted to see the effect of regularization."
   ]
  },
  {
   "cell_type": "code",
   "execution_count": 92,
   "metadata": {},
   "outputs": [
    {
     "name": "stdout",
     "output_type": "stream",
     "text": [
      "Effect of regularisation\n",
      "Accuracy for different values of C\n",
      "C          Accuracy\n",
      "-------  ----------\n",
      "C=0.001    0.891422\n",
      "C=0.1      0.948969\n",
      "C=1        0.948969\n",
      "C=10       0.952226\n",
      "C=100      0.952226\n"
     ]
    }
   ],
   "source": [
    "# Regularization\n",
    "# Tabularising the accuracy values for different values of C\n",
    "\n",
    "acc = []\n",
    "\n",
    "# train the SVM model with C=0.001 and report the accuracy on the test data\n",
    "clf = SVC(kernel='linear', C=0.001)\n",
    "clf.fit(X_train, y_train)\n",
    "\n",
    "# report the accuracy on the test data\n",
    "y_pred = clf.predict(X_test)\n",
    "acc.append(accuracy_score(y_test, y_pred))\n",
    "\n",
    "# train the SVM model with C=0.1 and report the accuracy on the test data\n",
    "clf = SVC(kernel='linear', C=0.1)\n",
    "clf.fit(X_train, y_train)\n",
    "\n",
    "# report the accuracy on the test data\n",
    "y_pred = clf.predict(X_test)\n",
    "acc.append(accuracy_score(y_test, y_pred))\n",
    "\n",
    "# train the SVM model with C=1 and report the accuracy on the test data\n",
    "clf = SVC(kernel='linear', C=1)\n",
    "clf.fit(X_train, y_train)\n",
    "\n",
    "# report the accuracy on the test data\n",
    "y_pred = clf.predict(X_test)\n",
    "acc.append(accuracy_score(y_test, y_pred))\n",
    "\n",
    "# train the SVM model with C=10 and report the accuracy on the test data\n",
    "clf = SVC(kernel='linear', C=10)\n",
    "clf.fit(X_train, y_train)\n",
    "\n",
    "# report the accuracy on the test data\n",
    "y_pred = clf.predict(X_test)\n",
    "acc.append(accuracy_score(y_test, y_pred))\n",
    "\n",
    "# train the SVM model with C=100 and report the accuracy on the test data\n",
    "clf = SVC(kernel='linear', C=100)\n",
    "clf.fit(X_train, y_train)\n",
    "\n",
    "# report the accuracy on the test data\n",
    "y_pred = clf.predict(X_test)\n",
    "acc.append(accuracy_score(y_test, y_pred))\n",
    "\n",
    "# display the accuracy values in a table\n",
    "print(\"Effect of regularisation\\nAccuracy for different values of C\")\n",
    "table = [['C=0.001', acc[0]], ['C=0.1', acc[1]], ['C=1', acc[2]], ['C=10', acc[3]], ['C=100', acc[4]]]\n",
    "print(tabulate(table, headers=['C', 'Accuracy']))"
   ]
  },
  {
   "cell_type": "markdown",
   "metadata": {},
   "source": [
    "### Observation and Plot\n",
    "\n",
    "For higher values of C, overfitting is reduced and the accuracy, precision, recall and f1 score are improved. \n",
    "\n",
    "Now, the plot is done with respect to log(C) instead of C. This is because the values of C vary over a large range and hence it is better to plot it in log scale. "
   ]
  },
  {
   "cell_type": "code",
   "execution_count": 93,
   "metadata": {},
   "outputs": [
    {
     "data": {
      "image/png": "[encoded data removed]",
      "text/plain": [
       "<Figure size 640x480 with 1 Axes>"
      ]
     },
     "metadata": {},
     "output_type": "display_data"
    }
   ],
   "source": [
    "# plot the accuracy values for different values of C\n",
    "# plot wrt log(C) on the x-axis\n",
    "x = [0.001, 0.1, 1, 10, 100]\n",
    "y = acc\n",
    "plt.plot(np.log10(x), y)\n",
    "plt.xlabel('log(C)')\n",
    "plt.ylabel('Accuracy')\n",
    "plt.title('Accuracy vs log(C)')\n",
    "plt.show()"
   ]
  },
  {
   "cell_type": "markdown",
   "metadata": {},
   "source": [
    "## Part B: Kernel Tricks\n",
    "\n",
    "Tricks that are used to improve the performance of SVM, by using kernels which are non-linear transformations of the data."
   ]
  },
  {
   "cell_type": "markdown",
   "metadata": {},
   "source": [
    "### Poly Kernels\n",
    "\n",
    "Here we see the effect of using polynomial kernels with degrees 2 and 3. The accuracy, precision, recall and f1 score are calculated for each kernel and the results are tabulated and plotted.\n",
    "\n",
    "It can be seen that the accuracy, precision, recall and f1 score are actually lower than the linear kernel."
   ]
  },
  {
   "cell_type": "code",
   "execution_count": 94,
   "metadata": {},
   "outputs": [
    {
     "name": "stdout",
     "output_type": "stream",
     "text": [
      "Results for poly kernel and degree=2\n",
      "Metric        Value\n",
      "---------  --------\n",
      "Accuracy   0.847991\n",
      "Precision  0.954918\n",
      "Recall     0.643646\n",
      "F1 Score   0.768977\n",
      "\n",
      "Results for poly kernel and degree=3\n",
      "Metric        Value\n",
      "---------  --------\n",
      "Accuracy   0.777416\n",
      "Precision  0.938547\n",
      "Recall     0.464088\n",
      "F1 Score   0.621072\n"
     ]
    }
   ],
   "source": [
    "# poly kernel degree 2\n",
    "# train the SVM model with poly kernel and degree=2 and report the accuracy on the test data\n",
    "clf = SVC(kernel='poly', degree=2)\n",
    "clf.fit(X_train, y_train)\n",
    "\n",
    "# report the accuracy on the test data\n",
    "y_pred = clf.predict(X_test)\n",
    "print(\"Results for poly kernel and degree=2\")\n",
    "acc = [ accuracy_score(y_test, y_pred), precision_score(y_test, y_pred), recall_score(y_test, y_pred), f1_score(y_test, y_pred) ]\n",
    "table = [['Accuracy', acc[0]], ['Precision', acc[1]], ['Recall', acc[2]], ['F1 Score', acc[3]]]\n",
    "print(tabulate(table, headers=['Metric', 'Value']))\n",
    "print()\n",
    "\n",
    "# poly kernel degree 3\n",
    "# train the SVM model with poly kernel and degree=3 and report the accuracy on the test data\n",
    "clf = SVC(kernel='poly', degree=3)\n",
    "clf.fit(X_train, y_train)\n",
    "\n",
    "# report the accuracy on the test data\n",
    "y_pred = clf.predict(X_test)\n",
    "print(\"Results for poly kernel and degree=3\")\n",
    "acc = [ accuracy_score(y_test, y_pred), precision_score(y_test, y_pred), recall_score(y_test, y_pred), f1_score(y_test, y_pred) ]\n",
    "table = [['Accuracy', acc[0]], ['Precision', acc[1]], ['Recall', acc[2]], ['F1 Score', acc[3]]]\n",
    "print(tabulate(table, headers=['Metric', 'Value']))"
   ]
  },
  {
   "cell_type": "markdown",
   "metadata": {},
   "source": [
    "### Sigmoid and RBF Kernels\n",
    "\n",
    "Next, we see the effect of using sigmoid and RBF kernels. The accuracy, precision, recall and f1 score are calculated and reported."
   ]
  },
  {
   "cell_type": "code",
   "execution_count": 95,
   "metadata": {},
   "outputs": [
    {
     "name": "stdout",
     "output_type": "stream",
     "text": [
      "Results for sigmoid kernel\n",
      "Metric        Value\n",
      "---------  --------\n",
      "Accuracy   0.889251\n",
      "Precision  0.869318\n",
      "Recall     0.845304\n",
      "F1 Score   0.857143\n",
      "\n",
      "Results for rbf kernel\n",
      "Metric        Value\n",
      "---------  --------\n",
      "Accuracy   0.952226\n",
      "Precision  0.954286\n",
      "Recall     0.922652\n",
      "F1 Score   0.938202\n"
     ]
    }
   ],
   "source": [
    "# sigmoid kernel\n",
    "# train the SVM model with sigmoid kernel and report the accuracy on the test data\n",
    "clf = SVC(kernel='sigmoid')\n",
    "clf.fit(X_train, y_train)\n",
    "\n",
    "# report the accuracy on the test data\n",
    "y_pred = clf.predict(X_test)\n",
    "print(\"Results for sigmoid kernel\")\n",
    "acc = [ accuracy_score(y_test, y_pred), precision_score(y_test, y_pred), recall_score(y_test, y_pred), f1_score(y_test, y_pred) ]\n",
    "table = [['Accuracy', acc[0]], ['Precision', acc[1]], ['Recall', acc[2]], ['F1 Score', acc[3]]]\n",
    "print(tabulate(table, headers=['Metric', 'Value']))\n",
    "print()\n",
    "\n",
    "# rbf kernel\n",
    "# train the SVM model with rbf kernel and report the accuracy on the test data\n",
    "clf = SVC(kernel='rbf')\n",
    "clf.fit(X_train, y_train)\n",
    "\n",
    "# report the accuracy on the test data\n",
    "y_pred = clf.predict(X_test)\n",
    "print(\"Results for rbf kernel\")\n",
    "acc = [ accuracy_score(y_test, y_pred), precision_score(y_test, y_pred), recall_score(y_test, y_pred), f1_score(y_test, y_pred) ]\n",
    "table = [['Accuracy', acc[0]], ['Precision', acc[1]], ['Recall', acc[2]], ['F1 Score', acc[3]]]\n",
    "print(tabulate(table, headers=['Metric', 'Value']))"
   ]
  },
  {
   "cell_type": "markdown",
   "metadata": {},
   "source": [
    "## Part C: Overfitting and Underfitting Analysis\n",
    "\n",
    "### Using Polynomial Kernel with varying degrees and regularization parameters\n",
    "\n",
    "Next, we see the effect of using polynomial kernels with varying degrees and regularization parameters. The accuracy, precision, recall and f1 score are calculated and reported. This gives us a better idea of whether the model is overfitting or underfitting.\n",
    "\n",
    "Higher values of C lead to overfitting which can be seen as the train accuracy is much higher than test accuracy. However, large values of C help to give better results for the test data."
   ]
  },
  {
   "cell_type": "code",
   "execution_count": 96,
   "metadata": {},
   "outputs": [
    {
     "name": "stdout",
     "output_type": "stream",
     "text": [
      "  Experiment  Kernel                                  Train Accuracy    Test Accuracy\n",
      "------------  ------------------------------------  ----------------  ---------------\n",
      "           1  poly kernel with degree=1 and C=0.01          0.811413         0.813246\n",
      "           2  poly kernel with degree=1 and C=100           0.930435         0.950054\n",
      "           3  poly kernel with degree=3 and C=0.01          0.638859         0.624321\n",
      "           4  poly kernel with degree=3 and C=100           0.963587         0.94354\n"
     ]
    }
   ],
   "source": [
    "# Experimenting with different kernel complexities and regularization parameters\n",
    "test_acc = []\n",
    "train_acc = []\n",
    "\n",
    "# 1. poly kernel with degree=1 and C=0.01\n",
    "# train the SVM model with poly kernel and degree=1 and C=0.01 and report the accuracy on the test data and train data\n",
    "clf = SVC(kernel='poly', degree=1, C=0.01)\n",
    "clf.fit(X_train, y_train)\n",
    "\n",
    "# report the accuracy on the train data\n",
    "y_pred = clf.predict(X_train)\n",
    "train_acc.append(accuracy_score(y_train, y_pred))\n",
    "\n",
    "# report the accuracy on the test data\n",
    "y_pred = clf.predict(X_test)\n",
    "test_acc.append(accuracy_score(y_test, y_pred))\n",
    "\n",
    "# 2. poly kernel with degree=1 and C=100\n",
    "# train the SVM model with poly kernel and degree=1 and C=100 and report the accuracy on the test data and train data\n",
    "clf = SVC(kernel='poly', degree=1, C=100)\n",
    "clf.fit(X_train, y_train)\n",
    "\n",
    "# report the accuracy on the train data\n",
    "y_pred = clf.predict(X_train)\n",
    "train_acc.append(accuracy_score(y_train, y_pred))\n",
    "\n",
    "# report the accuracy on the test data\n",
    "y_pred = clf.predict(X_test)\n",
    "test_acc.append(accuracy_score(y_test, y_pred))\n",
    "\n",
    "# 3. poly kernel with degree=3 and C=0.01\n",
    "# train the SVM model with poly kernel and degree=3 and C=0.01 and report the accuracy on the test data and train data\n",
    "clf = SVC(kernel='poly', degree=3, C=0.01)\n",
    "clf.fit(X_train, y_train)\n",
    "\n",
    "# report the accuracy on the train data\n",
    "y_pred = clf.predict(X_train)\n",
    "train_acc.append(accuracy_score(y_train, y_pred))\n",
    "\n",
    "# report the accuracy on the test data\n",
    "y_pred = clf.predict(X_test)\n",
    "test_acc.append(accuracy_score(y_test, y_pred))\n",
    "\n",
    "# 4. poly kernel with degree=3 and C=100\n",
    "# train the SVM model with poly kernel and degree=3 and C=100 and report the accuracy on the test data and train data\n",
    "clf = SVC(kernel='poly', degree=3, C=100)\n",
    "clf.fit(X_train, y_train)\n",
    "\n",
    "# report the accuracy on the train data\n",
    "y_pred = clf.predict(X_train)\n",
    "train_acc.append(accuracy_score(y_train, y_pred))\n",
    "\n",
    "# report the accuracy on the test data\n",
    "y_pred = clf.predict(X_test)\n",
    "test_acc.append(accuracy_score(y_test, y_pred))\n",
    "\n",
    "# tabularise the accuracy values for different values of C\n",
    "# use zip and tabulate for pretty printing\n",
    "table = zip([1, 2, 3, 4], ['poly kernel with degree=1 and C=0.01', 'poly kernel with degree=1 and C=100', 'poly kernel with degree=3 and C=0.01', 'poly kernel with degree=3 and C=100'], train_acc, test_acc)\n",
    "print(tabulate(table, headers=['Experiment','Kernel', 'Train Accuracy', 'Test Accuracy']))"
   ]
  },
  {
   "cell_type": "markdown",
   "metadata": {},
   "source": [
    "### Plotting Graphs to see the effect of overfitting and underfitting\n",
    "\n",
    "Finally, we plot the graphs of accuracy on test and train data with respect to the degree of the polynomial kernel and regularization parameters."
   ]
  },
  {
   "cell_type": "code",
   "execution_count": 97,
   "metadata": {},
   "outputs": [
    {
     "data": {
      "image/png": "[encoded data removed]",
      "text/plain": [
       "<Figure size 640x480 with 1 Axes>"
      ]
     },
     "metadata": {},
     "output_type": "display_data"
    }
   ],
   "source": [
    "# plot the accuracy values for different values of C\n",
    "\n",
    "plt.plot([1, 2, 3, 4], train_acc, label=\"train\")\n",
    "plt.plot([1, 2, 3, 4], test_acc, label=\"test\")\n",
    "plt.xlabel('Experiment')\n",
    "plt.ylabel('Accuracy')\n",
    "plt.title('Accuracy vs Experiment')\n",
    "plt.legend()\n",
    "plt.show()"
   ]
  },
  {
   "cell_type": "markdown",
   "metadata": {},
   "source": [
    "## Conclusion\n",
    "\n",
    "In this assignment, we have seen the effect of using SVM classifier on the given dataset. We have also seen the effect of using different kernels and regularization parameters on the performance of the model. "
   ]
  }
 ],
 "metadata": {
  "kernelspec": {
   "display_name": "Python 3",
   "language": "python",
   "name": "python3"
  },
  "language_info": {
   "codemirror_mode": {
    "name": "ipython",
    "version": 3
   },
   "file_extension": ".py",
   "mimetype": "text/x-python",
   "name": "python",
   "nbconvert_exporter": "python",
   "pygments_lexer": "ipython3",
   "version": "3.11.3"
  }
 },
 "nbformat": 4,
 "nbformat_minor": 2
}
